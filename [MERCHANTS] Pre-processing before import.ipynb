{
 "cells": [
  {
   "cell_type": "code",
   "execution_count": 257,
   "metadata": {},
   "outputs": [],
   "source": [
    "import pandas as pd\n",
    "pd.set_option('display.max_columns', None)\n",
    "import numpy as np"
   ]
  },
  {
   "cell_type": "code",
   "execution_count": 157,
   "metadata": {},
   "outputs": [],
   "source": [
    "leclerc = pd.read_csv ('/Users/vincentsalamand/Downloads/leclerc_catalog.csv')\n",
    "carrefour = pd.read_csv ('/Users/vincentsalamand/Downloads/carrefour_catalog.csv')\n",
    "amazon = pd.read_csv ('/Users/vincentsalamand/Downloads/amazonprimenow_catalog.csv')\n",
    "systemu = pd.read_csv ('/Users/vincentsalamand/Downloads/systemeu_catalog.csv')"
   ]
  },
  {
   "cell_type": "code",
   "execution_count": 158,
   "metadata": {},
   "outputs": [],
   "source": [
    "#merchants_catalog = pd.concat([carrefour, leclerc, amazon], sort=True)\n",
    "merchants_catalog = pd.concat([carrefour, leclerc, amazon, systemeu], ignore_index=True, sort=False)"
   ]
  },
  {
   "cell_type": "code",
   "execution_count": 159,
   "metadata": {},
   "outputs": [],
   "source": [
    "#merchants_catalog.offer_description.unique()\n",
    "\n",
    "for index, product in merchants_catalog.iterrows():\n",
    "    if product.offer_description == product.price:\n",
    "        merchants_catalog.loc[index,'offer_description'] = np.nan\n",
    "    if product.is_frozen == \"t\":\n",
    "        merchants_catalog.loc[index,'is_frozen'] = True   \n",
    "    if product.is_frozen == \"f\":\n",
    "        merchants_catalog.loc[index,'is_frozen'] = False  \n",
    "    if pd.isnull(product.is_frozen):\n",
    "        merchants_catalog.loc[index,'is_frozen'] = False  \n",
    "    if pd.isnull(product.is_promo):\n",
    "        merchants_catalog.loc[index,'is_promo'] = False        "
   ]
  },
  {
   "cell_type": "code",
   "execution_count": 161,
   "metadata": {},
   "outputs": [],
   "source": [
    "# clean description 1 from brand names\n",
    "\n",
    "brands = [*merchants_catalog.brand.unique(), *merchants_catalog.store.unique(), ['bio']]\n",
    "uniq_brands = [ele.lower() for ele in brands if type(ele) == str]\n",
    "char_list = [i for i in \" abcdefghijklmnopqrstuvwxyzéèàâêïùœ'`\"]\n",
    "\n",
    "import re\n",
    "\n",
    "for index, product in merchants_catalog.iterrows():\n",
    "    string = product.description1.lower()\n",
    "    string = ''.join(i for i in string if i in char_list)\n",
    "    merchants_catalog.loc[index,'description1'] = re.sub('|'.join(re.escape(r) for r in uniq_brands), '', string)\n",
    "    "
   ]
  },
  {
   "cell_type": "code",
   "execution_count": 167,
   "metadata": {},
   "outputs": [],
   "source": [
    "export_csv = merchants_catalog.to_csv (r'/Users/vincentsalamand/Documents/Clubmama/Catalog_imports/new_catalog.csv', index = None, header=True)\n"
   ]
  },
  {
   "cell_type": "code",
   "execution_count": null,
   "metadata": {},
   "outputs": [],
   "source": []
  },
  {
   "cell_type": "code",
   "execution_count": 187,
   "metadata": {},
   "outputs": [],
   "source": [
    "# CARREFOUR\n",
    "carrefour = pd.read_csv ('/Users/vincentsalamand/Downloads/carrefour_catalog.csv')\n",
    "for index, product in carrefour.iterrows():\n",
    "    if product.offer_description == product.price:\n",
    "        carrefour.loc[index,'offer_description'] = np.nan\n",
    "    if product.is_frozen == \"t\":\n",
    "        carrefour.loc[index,'is_frozen'] = True   \n",
    "    if product.is_frozen == \"f\":\n",
    "        carrefour.loc[index,'is_frozen'] = False  \n",
    "    if pd.isnull(product.is_frozen):\n",
    "        carrefour.loc[index,'is_frozen'] = False  \n",
    "    if pd.isnull(product.is_promo):\n",
    "        carrefour.loc[index,'is_promo'] = False\n",
    "        \n",
    "# clean description 1 from brand names\n",
    "\n",
    "brands = [*carrefour.brand.unique(), *carrefour.store.unique(), ['bio']]\n",
    "uniq_brands = [ele.lower() for ele in brands if type(ele) == str]\n",
    "char_list = [i for i in \" abcdefghijklmnopqrstuvwxyzéèàâêïùœ'`\"]\n",
    "\n",
    "import re\n",
    "\n",
    "for index, product in carrefour.iterrows():\n",
    "    string = product.description1.lower()\n",
    "    string = ''.join(i for i in string if i in char_list)\n",
    "    carrefour.loc[index,'description1'] = re.sub('|'.join(re.escape(r) for r in uniq_brands), '', string)\n",
    "    "
   ]
  },
  {
   "cell_type": "code",
   "execution_count": 188,
   "metadata": {},
   "outputs": [],
   "source": [
    "export_csv = carrefour.to_csv (r'/Users/vincentsalamand/Documents/Clubmama/Catalog_imports/new_carrefour_catalog.csv', index = None, header=True)\n"
   ]
  },
  {
   "cell_type": "code",
   "execution_count": 204,
   "metadata": {},
   "outputs": [],
   "source": [
    "# AMAZON PRIME NOW = MONOPRIX + NATURALIA\n",
    "amazon = pd.read_csv ('/Users/vincentsalamand/Downloads/amazonprimenow_catalog.csv') \n",
    "amazon['is_frozen'] = False\n",
    "amazon['is_promo'] = False\n",
    "\n",
    "\n",
    "# clean description 1 from brand names\n",
    "\n",
    "brands = [*amazon.brand.unique(), *amazon.store.unique(), ['bio']]\n",
    "uniq_brands = [ele.lower() for ele in brands if type(ele) == str]\n",
    "char_list = [i for i in \" abcdefghijklmnopqrstuvwxyzéèàâêïùœ'`\"]\n",
    "\n",
    "import re\n",
    "\n",
    "for index, product in amazon.iterrows():\n",
    "    string = product.description1.lower()\n",
    "    string = ''.join(i for i in string if i in char_list)\n",
    "    amazon.loc[index,'description1'] = re.sub('|'.join(re.escape(r) for r in uniq_brands), ' ', string)\n",
    "    "
   ]
  },
  {
   "cell_type": "code",
   "execution_count": 206,
   "metadata": {},
   "outputs": [],
   "source": [
    "export_csv = amazon.to_csv (r'/Users/vincentsalamand/Documents/Clubmama/Catalog_imports/new_amazon_catalog.csv', index = None, header=True)\n"
   ]
  },
  {
   "cell_type": "code",
   "execution_count": null,
   "metadata": {},
   "outputs": [],
   "source": []
  },
  {
   "cell_type": "code",
   "execution_count": 189,
   "metadata": {},
   "outputs": [],
   "source": [
    "# LECLERC\n",
    "leclerc = pd.read_csv ('/Users/vincentsalamand/Downloads/leclerc_catalog.csv')\n",
    "for index, product in leclerc.iterrows():\n",
    "    if product.offer_description == product.price:\n",
    "        leclerc.loc[index,'offer_description'] = np.nan\n",
    "    if product.is_frozen == \"t\":\n",
    "        leclerc.loc[index,'is_frozen'] = True   \n",
    "    if product.is_frozen == \"f\":\n",
    "        leclerc.loc[index,'is_frozen'] = False  \n",
    "    if pd.isnull(product.is_frozen):\n",
    "        leclerc.loc[index,'is_frozen'] = False  \n",
    "    if pd.isnull(product.is_promo):\n",
    "        leclerc.loc[index,'is_promo'] = False\n",
    "        \n",
    "# clean description 1 from brand names\n",
    "\n",
    "brands = [*leclerc.brand.unique(), *leclerc.store.unique(), ['bio']]\n",
    "uniq_brands = [ele.lower() for ele in brands if type(ele) == str]\n",
    "char_list = [i for i in \" abcdefghijklmnopqrstuvwxyzéèàâêïùœ'`\"]\n",
    "\n",
    "import re\n",
    "\n",
    "for index, product in leclerc.iterrows():\n",
    "    string = product.description1.lower()\n",
    "    string = ''.join(i for i in string if i in char_list)\n",
    "    leclerc.loc[index,'description1'] = re.sub('|'.join(re.escape(r) for r in uniq_brands), '', string)\n",
    "    "
   ]
  },
  {
   "cell_type": "code",
   "execution_count": 190,
   "metadata": {},
   "outputs": [],
   "source": [
    "export_csv = leclerc.to_csv (r'/Users/vincentsalamand/Documents/Clubmama/Catalog_imports/new_leclerc_catalog.csv', index = None, header=True)\n"
   ]
  },
  {
   "cell_type": "code",
   "execution_count": null,
   "metadata": {},
   "outputs": [],
   "source": []
  },
  {
   "cell_type": "code",
   "execution_count": 245,
   "metadata": {},
   "outputs": [],
   "source": [
    "# SYSTEM U\n",
    "systemeu = pd.read_csv ('/Users/vincentsalamand/Downloads/systemeu_catalog.csv') \n",
    "#systemeu['is_frozen'] = False\n",
    "systemeu['is_promo'] = False\n",
    "\n",
    "\n",
    "# clean description 1 from brand names\n",
    "\n",
    "brands = [*systemeu.brand.unique(), *systemeu.store.unique(), ['bio', 'u']]\n",
    "uniq_brands = [ele.lower() for ele in brands if type(ele) == str]\n",
    "char_list = [i for i in \" abcdefghijklmnopqrstuvwxyzéèàâêïùœ'`\"]\n",
    "\n",
    "import re\n",
    "\n",
    "for index, product in systemeu.iterrows():\n",
    "    string = product.description1.lower()\n",
    "    string = ''.join(i for i in string if i in char_list)\n",
    "    systemeu.loc[index,'description1'] = re.sub('|'.join(re.escape(r) for r in uniq_brands), ' ', string)"
   ]
  },
  {
   "cell_type": "code",
   "execution_count": 215,
   "metadata": {},
   "outputs": [],
   "source": [
    "export_csv = systemeu.to_csv (r'/Users/vincentsalamand/Documents/Clubmama/Catalog_imports/new_systemeu_catalog.csv', index = None, header=True)\n"
   ]
  },
  {
   "cell_type": "code",
   "execution_count": null,
   "metadata": {},
   "outputs": [],
   "source": []
  },
  {
   "cell_type": "code",
   "execution_count": 240,
   "metadata": {},
   "outputs": [],
   "source": [
    "# FRANPRIX\n",
    "franprix = pd.read_csv ('/Users/vincentsalamand/Downloads/franprix_catalog.csv') \n",
    "franprix['is_frozen'] = False\n",
    "franprix['is_promo'] = False\n",
    "franprix['ean'] = franprix.ean.replace('.','').astype(int)\n",
    "\n",
    "\n"
   ]
  },
  {
   "cell_type": "code",
   "execution_count": 242,
   "metadata": {},
   "outputs": [],
   "source": [
    "export_csv = franprix.to_csv (r'/Users/vincentsalamand/Documents/Clubmama/Catalog_imports/new_franprix_catalog.csv', index = None, header=True)\n"
   ]
  },
  {
   "cell_type": "code",
   "execution_count": null,
   "metadata": {},
   "outputs": [],
   "source": []
  },
  {
   "cell_type": "code",
   "execution_count": 258,
   "metadata": {},
   "outputs": [],
   "source": [
    "# BIO C' BON\n",
    "biocbon = pd.read_csv ('/Users/vincentsalamand/Downloads/biocbon_catalog.csv') \n",
    "biocbon['is_frozen'] = False\n",
    "biocbon['is_promo'] = False\n",
    "\n"
   ]
  },
  {
   "cell_type": "code",
   "execution_count": 261,
   "metadata": {},
   "outputs": [],
   "source": [
    "export_csv = biocbon.to_csv (r'/Users/vincentsalamand/Documents/Clubmama/Catalog_imports/new_biocbon_catalog.csv', index = None, header=True)\n"
   ]
  },
  {
   "cell_type": "code",
   "execution_count": null,
   "metadata": {},
   "outputs": [],
   "source": []
  },
  {
   "cell_type": "code",
   "execution_count": 263,
   "metadata": {},
   "outputs": [],
   "source": [
    "# AUCHAN\n",
    "auchan = pd.read_csv ('/Users/vincentsalamand/Downloads/auchan_catalog.csv') \n",
    "auchan['is_frozen'] = False\n",
    "auchan['is_promo'] = False\n",
    "\n"
   ]
  },
  {
   "cell_type": "code",
   "execution_count": 265,
   "metadata": {},
   "outputs": [],
   "source": [
    "export_csv = auchan.to_csv (r'/Users/vincentsalamand/Documents/Clubmama/Catalog_imports/new_auchan_catalog.csv', index = None, header=True)\n"
   ]
  },
  {
   "cell_type": "code",
   "execution_count": null,
   "metadata": {},
   "outputs": [],
   "source": []
  }
 ],
 "metadata": {
  "kernelspec": {
   "display_name": "Python 3",
   "language": "python",
   "name": "python3"
  },
  "language_info": {
   "codemirror_mode": {
    "name": "ipython",
    "version": 3
   },
   "file_extension": ".py",
   "mimetype": "text/x-python",
   "name": "python",
   "nbconvert_exporter": "python",
   "pygments_lexer": "ipython3",
   "version": "3.7.5"
  }
 },
 "nbformat": 4,
 "nbformat_minor": 2
}
