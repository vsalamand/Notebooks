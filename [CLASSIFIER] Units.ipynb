{
 "cells": [
  {
   "cell_type": "code",
   "execution_count": 3,
   "metadata": {},
   "outputs": [],
   "source": [
    "import json\n",
    "import pandas as pd\n",
    "from tqdm import tqdm\n",
    "import seaborn as sns\n",
    "import matplotlib.pyplot as plt"
   ]
  },
  {
   "cell_type": "code",
   "execution_count": 4,
   "metadata": {},
   "outputs": [],
   "source": [
    "%matplotlib inline\n",
    "%config InlineBackend.figure_format='retina'\n",
    "sns.set(style='whitegrid', palette='muted', font_scale=1.2)"
   ]
  },
  {
   "cell_type": "code",
   "execution_count": 6,
   "metadata": {},
   "outputs": [
    {
     "name": "stderr",
     "output_type": "stream",
     "text": [
      "/anaconda3/lib/python3.7/site-packages/IPython/core/interactiveshell.py:3063: DtypeWarning: Columns (1,2,4) have mixed types. Specify dtype option on import or set low_memory=False.\n",
      "  interactivity=interactivity, compiler=compiler, result=result)\n"
     ]
    }
   ],
   "source": [
    "labeled_items = pd.read_csv('/Users/vincentsalamand/Documents/Clubmama/db_exports/labeled_items.csv')"
   ]
  },
  {
   "cell_type": "code",
   "execution_count": 8,
   "metadata": {},
   "outputs": [
    {
     "data": {
      "text/html": [
       "<div>\n",
       "<style scoped>\n",
       "    .dataframe tbody tr th:only-of-type {\n",
       "        vertical-align: middle;\n",
       "    }\n",
       "\n",
       "    .dataframe tbody tr th {\n",
       "        vertical-align: top;\n",
       "    }\n",
       "\n",
       "    .dataframe thead th {\n",
       "        text-align: right;\n",
       "    }\n",
       "</style>\n",
       "<table border=\"1\" class=\"dataframe\">\n",
       "  <thead>\n",
       "    <tr style=\"text-align: right;\">\n",
       "      <th></th>\n",
       "      <th>item_id</th>\n",
       "      <th>food_id</th>\n",
       "      <th>recipe_id</th>\n",
       "      <th>unit_id</th>\n",
       "      <th>quantity</th>\n",
       "      <th>item_name</th>\n",
       "      <th>is_validated</th>\n",
       "      <th>is_non_food</th>\n",
       "      <th>store_section_id</th>\n",
       "      <th>food_name</th>\n",
       "      <th>recipe_name</th>\n",
       "      <th>unit_name</th>\n",
       "    </tr>\n",
       "  </thead>\n",
       "  <tbody>\n",
       "    <tr>\n",
       "      <th>68384</th>\n",
       "      <td>64674.0</td>\n",
       "      <td>1251</td>\n",
       "      <td>6707</td>\n",
       "      <td>2.0</td>\n",
       "      <td>70</td>\n",
       "      <td>70g de beurre de cacahuète</td>\n",
       "      <td>f</td>\n",
       "      <td>f</td>\n",
       "      <td>7.0</td>\n",
       "      <td>purée d'oléagineux</td>\n",
       "      <td>Pour une belle brioche (moule en silicone de 2...</td>\n",
       "      <td>g</td>\n",
       "    </tr>\n",
       "    <tr>\n",
       "      <th>68385</th>\n",
       "      <td>64791.0</td>\n",
       "      <td>1251</td>\n",
       "      <td>6719</td>\n",
       "      <td>2.0</td>\n",
       "      <td>45</td>\n",
       "      <td>45g de beurre de cacahuète 100% (sans sucre, n...</td>\n",
       "      <td>f</td>\n",
       "      <td>f</td>\n",
       "      <td>7.0</td>\n",
       "      <td>purée d'oléagineux</td>\n",
       "      <td>Muffins sains et réconfortants, sans sucre ajouté</td>\n",
       "      <td>g</td>\n",
       "    </tr>\n",
       "    <tr>\n",
       "      <th>68386</th>\n",
       "      <td>64935.0</td>\n",
       "      <td>1251</td>\n",
       "      <td>6731</td>\n",
       "      <td>2.0</td>\n",
       "      <td>70</td>\n",
       "      <td>70g de beurre de cacahuète (sans sucre ni huil...</td>\n",
       "      <td>f</td>\n",
       "      <td>f</td>\n",
       "      <td>7.0</td>\n",
       "      <td>purée d'oléagineux</td>\n",
       "      <td>Energy ball ou boule d'énergie {sans sucre ajo...</td>\n",
       "      <td>g</td>\n",
       "    </tr>\n",
       "    <tr>\n",
       "      <th>68387</th>\n",
       "      <td>65113.0</td>\n",
       "      <td>1251</td>\n",
       "      <td>6749</td>\n",
       "      <td>2.0</td>\n",
       "      <td>75</td>\n",
       "      <td>75g de beurre de cacahuète (ou purée d'amande ...</td>\n",
       "      <td>f</td>\n",
       "      <td>f</td>\n",
       "      <td>7.0</td>\n",
       "      <td>purée d'oléagineux</td>\n",
       "      <td>granola saveur intense chocolat {sans sucre aj...</td>\n",
       "      <td>g</td>\n",
       "    </tr>\n",
       "    <tr>\n",
       "      <th>68388</th>\n",
       "      <td>65201.0</td>\n",
       "      <td>1251</td>\n",
       "      <td>6759</td>\n",
       "      <td>2.0</td>\n",
       "      <td>50</td>\n",
       "      <td>50g de beurre de cacahuète (ou amande, cajou ...)</td>\n",
       "      <td>f</td>\n",
       "      <td>f</td>\n",
       "      <td>7.0</td>\n",
       "      <td>purée d'oléagineux</td>\n",
       "      <td>Caramel de dattes</td>\n",
       "      <td>g</td>\n",
       "    </tr>\n",
       "  </tbody>\n",
       "</table>\n",
       "</div>"
      ],
      "text/plain": [
       "       item_id food_id recipe_id  unit_id quantity  \\\n",
       "68384  64674.0    1251      6707      2.0       70   \n",
       "68385  64791.0    1251      6719      2.0       45   \n",
       "68386  64935.0    1251      6731      2.0       70   \n",
       "68387  65113.0    1251      6749      2.0       75   \n",
       "68388  65201.0    1251      6759      2.0       50   \n",
       "\n",
       "                                               item_name is_validated  \\\n",
       "68384                         70g de beurre de cacahuète            f   \n",
       "68385  45g de beurre de cacahuète 100% (sans sucre, n...            f   \n",
       "68386  70g de beurre de cacahuète (sans sucre ni huil...            f   \n",
       "68387  75g de beurre de cacahuète (ou purée d'amande ...            f   \n",
       "68388  50g de beurre de cacahuète (ou amande, cajou ...)            f   \n",
       "\n",
       "      is_non_food  store_section_id           food_name  \\\n",
       "68384           f               7.0  purée d'oléagineux   \n",
       "68385           f               7.0  purée d'oléagineux   \n",
       "68386           f               7.0  purée d'oléagineux   \n",
       "68387           f               7.0  purée d'oléagineux   \n",
       "68388           f               7.0  purée d'oléagineux   \n",
       "\n",
       "                                             recipe_name unit_name  \n",
       "68384  Pour une belle brioche (moule en silicone de 2...         g  \n",
       "68385  Muffins sains et réconfortants, sans sucre ajouté         g  \n",
       "68386  Energy ball ou boule d'énergie {sans sucre ajo...         g  \n",
       "68387  granola saveur intense chocolat {sans sucre aj...         g  \n",
       "68388                                  Caramel de dattes         g  "
      ]
     },
     "execution_count": 8,
     "metadata": {},
     "output_type": "execute_result"
    }
   ],
   "source": [
    "labeled_items.tail()"
   ]
  },
  {
   "cell_type": "code",
   "execution_count": null,
   "metadata": {},
   "outputs": [],
   "source": []
  }
 ],
 "metadata": {
  "kernelspec": {
   "display_name": "Python 3",
   "language": "python",
   "name": "python3"
  },
  "language_info": {
   "codemirror_mode": {
    "name": "ipython",
    "version": 3
   },
   "file_extension": ".py",
   "mimetype": "text/x-python",
   "name": "python",
   "nbconvert_exporter": "python",
   "pygments_lexer": "ipython3",
   "version": "3.7.7"
  }
 },
 "nbformat": 4,
 "nbformat_minor": 4
}
