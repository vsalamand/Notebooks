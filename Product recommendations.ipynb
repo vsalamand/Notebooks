{
 "cells": [
  {
   "cell_type": "code",
   "execution_count": 1,
   "metadata": {},
   "outputs": [],
   "source": [
    "import pandas as pd\n",
    "import numpy as np\n",
    "import matplotlib.pyplot as plt\n",
    "import seaborn as sns"
   ]
  },
  {
   "cell_type": "code",
   "execution_count": 2,
   "metadata": {},
   "outputs": [],
   "source": [
    "lists = pd.read_csv('/Users/vincentsalamand/Documents/Clubmama/db_exports/list_export.csv')\n",
    "items = pd.read_csv('/Users/vincentsalamand/Documents/Clubmama/db_exports/item_export.csv', parse_dates=True)\n",
    "categories = pd.read_csv('/Users/vincentsalamand/Documents/Clubmama/db_exports/category_export.csv')\n",
    "store_sections = pd.read_csv('/Users/vincentsalamand/Documents/Clubmama/db_exports/store_section_export.csv')\n",
    "foodgroups = pd.read_csv('/Users/vincentsalamand/Documents/Clubmama/db_exports/foodgroup_export.csv')\n",
    "recipes = pd.read_csv('/Users/vincentsalamand/Documents/Clubmama/db_exports/recipe_export.csv')\n"
   ]
  },
  {
   "cell_type": "code",
   "execution_count": 173,
   "metadata": {},
   "outputs": [],
   "source": [
    "data = pd.DataFrame()\n",
    "data = items.merge(lists[['id', 'user_id']], left_on=['list_id'], right_on=['id'], how='inner', suffixes=('', '_list'))\n",
    "data = data.merge(categories[['id', 'name', 'rating', 'ancestry']], left_on=['category_id'], right_on=['id'], how='left', suffixes=('', '_category'))\n",
    "data = data.merge(store_sections[['id', 'name']], left_on=['store_section_id'], right_on=['id'], how='left', suffixes=('', '_store_section'))\n",
    "data.drop(['food_id', 'list_item_id', 'unit_id', 'quantity', 'recipe_id', 'id_list', 'id_category', 'id_store_section'], axis=1, inplace=True)\n",
    "data['created_at'] = pd.to_datetime(data['created_at'])\n",
    "data['updated_at'] = pd.to_datetime(data['updated_at'])\n",
    "data['list_id'] = data.list_id.astype(int)\n",
    "data['store_section_id'] = data['store_section_id'].fillna(0)\n",
    "data['store_section_id'] = data['store_section_id'].astype(int)\n",
    "data['category_id'] = data['category_id'].fillna(0)\n",
    "data['category_id'] = data['category_id'].astype(int)\n",
    "data['rating'] = data['rating'].fillna(0)\n",
    "data['rating'] = data['rating'].astype(int)\n",
    "data = data[data['user_id'].notna()]\n",
    "data['user_id'] = data['user_id'].fillna(0)\n",
    "data['user_id'] = data['user_id'].astype(int)\n"
   ]
  },
  {
   "cell_type": "code",
   "execution_count": 174,
   "metadata": {},
   "outputs": [
    {
     "name": "stdout",
     "output_type": "stream",
     "text": [
      "<class 'pandas.core.frame.DataFrame'>\n",
      "Int64Index: 9453 entries, 0 to 9858\n",
      "Data columns (total 16 columns):\n",
      "id                    9453 non-null int64\n",
      "created_at            9453 non-null datetime64[ns]\n",
      "updated_at            9453 non-null datetime64[ns]\n",
      "name                  9452 non-null object\n",
      "is_validated          9453 non-null object\n",
      "is_non_food           9453 non-null object\n",
      "store_section_id      9453 non-null int64\n",
      "list_id               9453 non-null int64\n",
      "is_deleted            9453 non-null object\n",
      "is_completed          9453 non-null object\n",
      "category_id           9453 non-null int64\n",
      "user_id               9453 non-null int64\n",
      "name_category         8619 non-null object\n",
      "rating                9453 non-null int64\n",
      "ancestry              8618 non-null object\n",
      "name_store_section    9436 non-null object\n",
      "dtypes: datetime64[ns](2), int64(6), object(8)\n",
      "memory usage: 1.2+ MB\n"
     ]
    }
   ],
   "source": [
    "data.info()"
   ]
  },
  {
   "cell_type": "code",
   "execution_count": 175,
   "metadata": {},
   "outputs": [
    {
     "data": {
      "text/html": [
       "<div>\n",
       "<style scoped>\n",
       "    .dataframe tbody tr th:only-of-type {\n",
       "        vertical-align: middle;\n",
       "    }\n",
       "\n",
       "    .dataframe tbody tr th {\n",
       "        vertical-align: top;\n",
       "    }\n",
       "\n",
       "    .dataframe thead th {\n",
       "        text-align: right;\n",
       "    }\n",
       "</style>\n",
       "<table border=\"1\" class=\"dataframe\">\n",
       "  <thead>\n",
       "    <tr style=\"text-align: right;\">\n",
       "      <th></th>\n",
       "      <th>id</th>\n",
       "      <th>created_at</th>\n",
       "      <th>updated_at</th>\n",
       "      <th>name</th>\n",
       "      <th>is_validated</th>\n",
       "      <th>is_non_food</th>\n",
       "      <th>store_section_id</th>\n",
       "      <th>list_id</th>\n",
       "      <th>is_deleted</th>\n",
       "      <th>is_completed</th>\n",
       "      <th>category_id</th>\n",
       "      <th>user_id</th>\n",
       "      <th>name_category</th>\n",
       "      <th>rating</th>\n",
       "      <th>ancestry</th>\n",
       "      <th>name_store_section</th>\n",
       "    </tr>\n",
       "  </thead>\n",
       "  <tbody>\n",
       "    <tr>\n",
       "      <th>0</th>\n",
       "      <td>77777</td>\n",
       "      <td>2020-08-05 17:39:56.388822</td>\n",
       "      <td>2020-08-06 19:35:54.840718</td>\n",
       "      <td>3 morceaux d'avocat</td>\n",
       "      <td>f</td>\n",
       "      <td>f</td>\n",
       "      <td>1</td>\n",
       "      <td>747</td>\n",
       "      <td>t</td>\n",
       "      <td>f</td>\n",
       "      <td>137</td>\n",
       "      <td>1</td>\n",
       "      <td>Avocat</td>\n",
       "      <td>1</td>\n",
       "      <td>2/85/90</td>\n",
       "      <td>Légumes</td>\n",
       "    </tr>\n",
       "    <tr>\n",
       "      <th>1</th>\n",
       "      <td>77778</td>\n",
       "      <td>2020-08-05 17:40:04.343131</td>\n",
       "      <td>2020-08-06 12:07:27.100218</td>\n",
       "      <td>rosti</td>\n",
       "      <td>f</td>\n",
       "      <td>f</td>\n",
       "      <td>6</td>\n",
       "      <td>747</td>\n",
       "      <td>t</td>\n",
       "      <td>f</td>\n",
       "      <td>0</td>\n",
       "      <td>1</td>\n",
       "      <td>NaN</td>\n",
       "      <td>0</td>\n",
       "      <td>NaN</td>\n",
       "      <td>Épicerie salée</td>\n",
       "    </tr>\n",
       "    <tr>\n",
       "      <th>2</th>\n",
       "      <td>77779</td>\n",
       "      <td>2020-08-05 17:40:25.923727</td>\n",
       "      <td>2020-08-06 19:36:12.615089</td>\n",
       "      <td>boisson à l'épeautre</td>\n",
       "      <td>t</td>\n",
       "      <td>f</td>\n",
       "      <td>8</td>\n",
       "      <td>747</td>\n",
       "      <td>t</td>\n",
       "      <td>f</td>\n",
       "      <td>23</td>\n",
       "      <td>1</td>\n",
       "      <td>Boisson à l'épeautre</td>\n",
       "      <td>1</td>\n",
       "      <td>1/3/8</td>\n",
       "      <td>Boissons</td>\n",
       "    </tr>\n",
       "    <tr>\n",
       "      <th>3</th>\n",
       "      <td>77785</td>\n",
       "      <td>2020-08-05 18:02:22.243774</td>\n",
       "      <td>2020-08-06 19:36:05.771757</td>\n",
       "      <td>Knackis</td>\n",
       "      <td>f</td>\n",
       "      <td>f</td>\n",
       "      <td>3</td>\n",
       "      <td>747</td>\n",
       "      <td>t</td>\n",
       "      <td>f</td>\n",
       "      <td>313</td>\n",
       "      <td>1</td>\n",
       "      <td>Knacks</td>\n",
       "      <td>3</td>\n",
       "      <td>275/277/320</td>\n",
       "      <td>Frais</td>\n",
       "    </tr>\n",
       "    <tr>\n",
       "      <th>4</th>\n",
       "      <td>77784</td>\n",
       "      <td>2020-08-05 17:52:13.469362</td>\n",
       "      <td>2020-08-06 19:36:08.962831</td>\n",
       "      <td>Câpres</td>\n",
       "      <td>t</td>\n",
       "      <td>f</td>\n",
       "      <td>6</td>\n",
       "      <td>747</td>\n",
       "      <td>t</td>\n",
       "      <td>f</td>\n",
       "      <td>927</td>\n",
       "      <td>1</td>\n",
       "      <td>Câpres</td>\n",
       "      <td>1</td>\n",
       "      <td>439/727/807</td>\n",
       "      <td>Épicerie salée</td>\n",
       "    </tr>\n",
       "  </tbody>\n",
       "</table>\n",
       "</div>"
      ],
      "text/plain": [
       "      id                 created_at                 updated_at  \\\n",
       "0  77777 2020-08-05 17:39:56.388822 2020-08-06 19:35:54.840718   \n",
       "1  77778 2020-08-05 17:40:04.343131 2020-08-06 12:07:27.100218   \n",
       "2  77779 2020-08-05 17:40:25.923727 2020-08-06 19:36:12.615089   \n",
       "3  77785 2020-08-05 18:02:22.243774 2020-08-06 19:36:05.771757   \n",
       "4  77784 2020-08-05 17:52:13.469362 2020-08-06 19:36:08.962831   \n",
       "\n",
       "                   name is_validated is_non_food  store_section_id  list_id  \\\n",
       "0   3 morceaux d'avocat            f           f                 1      747   \n",
       "1                 rosti            f           f                 6      747   \n",
       "2  boisson à l'épeautre            t           f                 8      747   \n",
       "3              Knackis             f           f                 3      747   \n",
       "4               Câpres             t           f                 6      747   \n",
       "\n",
       "  is_deleted is_completed  category_id  user_id         name_category  rating  \\\n",
       "0          t            f          137        1                Avocat       1   \n",
       "1          t            f            0        1                   NaN       0   \n",
       "2          t            f           23        1  Boisson à l'épeautre       1   \n",
       "3          t            f          313        1                Knacks       3   \n",
       "4          t            f          927        1                Câpres       1   \n",
       "\n",
       "      ancestry name_store_section  \n",
       "0      2/85/90           Légumes  \n",
       "1          NaN     Épicerie salée  \n",
       "2        1/3/8           Boissons  \n",
       "3  275/277/320              Frais  \n",
       "4  439/727/807     Épicerie salée  "
      ]
     },
     "execution_count": 175,
     "metadata": {},
     "output_type": "execute_result"
    }
   ],
   "source": [
    "data.head()"
   ]
  },
  {
   "cell_type": "code",
   "execution_count": 177,
   "metadata": {},
   "outputs": [
    {
     "data": {
      "text/plain": [
       "user_id  category_id\n",
       "1        0              83\n",
       "         95             71\n",
       "         605            59\n",
       "         137            55\n",
       "         97             47\n",
       "         136            44\n",
       "         279            43\n",
       "         440            41\n",
       "         219            40\n",
       "         283            39\n",
       "         145            35\n",
       "         152            30\n",
       "         184            29\n",
       "         127            27\n",
       "         284            26\n",
       "         153            25\n",
       "         535            25\n",
       "         113            24\n",
       "         161            24\n",
       "         282            24\n",
       "         518            23\n",
       "         629            23\n",
       "         14             22\n",
       "         895            22\n",
       "         902            19\n",
       "         98             18\n",
       "         182            18\n",
       "         505            18\n",
       "         913            17\n",
       "         317            16\n",
       "                        ..\n",
       "700      245             1\n",
       "         283             1\n",
       "         284             1\n",
       "         285             1\n",
       "         286             1\n",
       "         303             1\n",
       "         440             1\n",
       "         459             1\n",
       "         502             1\n",
       "         507             1\n",
       "         518             1\n",
       "         520             1\n",
       "         535             1\n",
       "         537             1\n",
       "         539             1\n",
       "         564             1\n",
       "         586             1\n",
       "         603             1\n",
       "         636             1\n",
       "         730             1\n",
       "         785             1\n",
       "         795             1\n",
       "         803             1\n",
       "         812             1\n",
       "         817             1\n",
       "         833             1\n",
       "         846             1\n",
       "         892             1\n",
       "         920             1\n",
       "         941             1\n",
       "Name: category_id, Length: 4094, dtype: int64"
      ]
     },
     "execution_count": 177,
     "metadata": {},
     "output_type": "execute_result"
    }
   ],
   "source": [
    "data.groupby('user_id')['category_id'].value_counts()"
   ]
  },
  {
   "cell_type": "code",
   "execution_count": 139,
   "metadata": {},
   "outputs": [
    {
     "data": {
      "text/plain": [
       "<matplotlib.axes._subplots.AxesSubplot at 0x139e3ad10>"
      ]
     },
     "execution_count": 139,
     "metadata": {},
     "output_type": "execute_result"
    },
    {
     "data": {
      "image/png": "[encoded data removed]",
      "text/plain": [
       "<Figure size 1440x720 with 1 Axes>"
      ]
     },
     "metadata": {
      "needs_background": "light"
     },
     "output_type": "display_data"
    }
   ],
   "source": [
    "plt.figure(figsize=(20,10)) \n",
    "order = data['name_category'].value_counts().index\n",
    "sns.countplot(data=data, x='name_category', order=order)"
   ]
  },
  {
   "cell_type": "code",
   "execution_count": 131,
   "metadata": {},
   "outputs": [
    {
     "data": {
      "text/plain": [
       "<matplotlib.axes._subplots.AxesSubplot at 0x139a90050>"
      ]
     },
     "execution_count": 131,
     "metadata": {},
     "output_type": "execute_result"
    },
    {
     "data": {
      "image/png": "[encoded data removed]",
      "text/plain": [
       "<Figure size 432x288 with 1 Axes>"
      ]
     },
     "metadata": {
      "needs_background": "light"
     },
     "output_type": "display_data"
    }
   ],
   "source": [
    "data['name_category'].value_counts().head(10).plot(kind='bar')"
   ]
  },
  {
   "cell_type": "code",
   "execution_count": 133,
   "metadata": {},
   "outputs": [
    {
     "data": {
      "text/plain": [
       "<matplotlib.axes._subplots.AxesSubplot at 0x139be6f10>"
      ]
     },
     "execution_count": 133,
     "metadata": {},
     "output_type": "execute_result"
    },
    {
     "data": {
      "image/png": "[encoded data removed]",
      "text/plain": [
       "<Figure size 432x288 with 1 Axes>"
      ]
     },
     "metadata": {
      "needs_background": "light"
     },
     "output_type": "display_data"
    }
   ],
   "source": [
    "sns.distplot(data.rating)"
   ]
  },
  {
   "cell_type": "code",
   "execution_count": 141,
   "metadata": {},
   "outputs": [
    {
     "data": {
      "text/plain": [
       "array([[0.2132004 , 0.70788264, 0.94358237, 0.33774724],\n",
       "       [0.21709733, 0.07687596, 0.13946959, 0.09905633],\n",
       "       [0.96003018, 0.22796533, 0.46208111, 0.91955458]])"
      ]
     },
     "execution_count": 141,
     "metadata": {},
     "output_type": "execute_result"
    }
   ],
   "source": [
    "np.random.rand(3,4)\n"
   ]
  },
  {
   "cell_type": "code",
   "execution_count": null,
   "metadata": {},
   "outputs": [],
   "source": []
  }
 ],
 "metadata": {
  "kernelspec": {
   "display_name": "Python 3",
   "language": "python",
   "name": "python3"
  },
  "language_info": {
   "codemirror_mode": {
    "name": "ipython",
    "version": 3
   },
   "file_extension": ".py",
   "mimetype": "text/x-python",
   "name": "python",
   "nbconvert_exporter": "python",
   "pygments_lexer": "ipython3",
   "version": "3.7.7"
  }
 },
 "nbformat": 4,
 "nbformat_minor": 4
}
