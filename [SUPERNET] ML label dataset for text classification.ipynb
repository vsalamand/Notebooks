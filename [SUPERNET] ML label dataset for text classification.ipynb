{
 "cells": [
  {
   "cell_type": "markdown",
   "id": "0b36f817",
   "metadata": {},
   "source": [
    "# ML Datasets for text classification"
   ]
  },
  {
   "cell_type": "code",
   "execution_count": 1,
   "id": "8557cf6a",
   "metadata": {},
   "outputs": [],
   "source": [
    "import pandas as pd\n",
    "import numpy as np"
   ]
  },
  {
   "cell_type": "code",
   "execution_count": 2,
   "id": "c8febbcd",
   "metadata": {},
   "outputs": [
    {
     "data": {
      "text/html": [
       "<div>\n",
       "<style scoped>\n",
       "    .dataframe tbody tr th:only-of-type {\n",
       "        vertical-align: middle;\n",
       "    }\n",
       "\n",
       "    .dataframe tbody tr th {\n",
       "        vertical-align: top;\n",
       "    }\n",
       "\n",
       "    .dataframe thead th {\n",
       "        text-align: right;\n",
       "    }\n",
       "</style>\n",
       "<table border=\"1\" class=\"dataframe\">\n",
       "  <thead>\n",
       "    <tr style=\"text-align: right;\">\n",
       "      <th></th>\n",
       "      <th>text</th>\n",
       "      <th>type</th>\n",
       "    </tr>\n",
       "  </thead>\n",
       "  <tbody>\n",
       "    <tr>\n",
       "      <th>38869</th>\n",
       "      <td>poivre</td>\n",
       "      <td>ingredient</td>\n",
       "    </tr>\n",
       "    <tr>\n",
       "      <th>38870</th>\n",
       "      <td>poivre</td>\n",
       "      <td>ingredient</td>\n",
       "    </tr>\n",
       "    <tr>\n",
       "      <th>38871</th>\n",
       "      <td>Poivre</td>\n",
       "      <td>ingredient</td>\n",
       "    </tr>\n",
       "    <tr>\n",
       "      <th>38872</th>\n",
       "      <td>poivre</td>\n",
       "      <td>ingredient</td>\n",
       "    </tr>\n",
       "    <tr>\n",
       "      <th>38873</th>\n",
       "      <td>poivre</td>\n",
       "      <td>ingredient</td>\n",
       "    </tr>\n",
       "  </tbody>\n",
       "</table>\n",
       "</div>"
      ],
      "text/plain": [
       "         text        type\n",
       "38869  poivre  ingredient\n",
       "38870  poivre  ingredient\n",
       "38871  Poivre  ingredient\n",
       "38872  poivre  ingredient\n",
       "38873  poivre  ingredient"
      ]
     },
     "execution_count": 2,
     "metadata": {},
     "output_type": "execute_result"
    }
   ],
   "source": [
    "# ingredients\n",
    "items_backup = pd.read_csv('/Users/vincentsalamand/Documents/mama_db_backup/mama_items.csv')\n",
    "validated_items = items_backup.loc[items_backup['is_validated'] == \"t\"]\n",
    "df_items = validated_items.name.to_frame()\n",
    "df_items = df_items.assign(type='ingredient')\n",
    "df_items = df_items.reset_index()\n",
    "ingredients = df_items.drop(columns=['index'])\n",
    "ingredients.rename(columns = {'name':'text'}, inplace = True)\n",
    "ingredients.tail()"
   ]
  },
  {
   "cell_type": "code",
   "execution_count": 3,
   "id": "dc06710c",
   "metadata": {},
   "outputs": [
    {
     "data": {
      "text/html": [
       "<div>\n",
       "<style scoped>\n",
       "    .dataframe tbody tr th:only-of-type {\n",
       "        vertical-align: middle;\n",
       "    }\n",
       "\n",
       "    .dataframe tbody tr th {\n",
       "        vertical-align: top;\n",
       "    }\n",
       "\n",
       "    .dataframe thead th {\n",
       "        text-align: right;\n",
       "    }\n",
       "</style>\n",
       "<table border=\"1\" class=\"dataframe\">\n",
       "  <thead>\n",
       "    <tr style=\"text-align: right;\">\n",
       "      <th></th>\n",
       "      <th>text</th>\n",
       "      <th>type</th>\n",
       "    </tr>\n",
       "  </thead>\n",
       "  <tbody>\n",
       "    <tr>\n",
       "      <th>7122</th>\n",
       "      <td>1 personne</td>\n",
       "      <td>serving</td>\n",
       "    </tr>\n",
       "    <tr>\n",
       "      <th>7123</th>\n",
       "      <td>4</td>\n",
       "      <td>serving</td>\n",
       "    </tr>\n",
       "    <tr>\n",
       "      <th>7124</th>\n",
       "      <td>4</td>\n",
       "      <td>serving</td>\n",
       "    </tr>\n",
       "    <tr>\n",
       "      <th>7125</th>\n",
       "      <td>6 personnes</td>\n",
       "      <td>serving</td>\n",
       "    </tr>\n",
       "    <tr>\n",
       "      <th>7126</th>\n",
       "      <td>5 personnes</td>\n",
       "      <td>serving</td>\n",
       "    </tr>\n",
       "  </tbody>\n",
       "</table>\n",
       "</div>"
      ],
      "text/plain": [
       "             text     type\n",
       "7122   1 personne  serving\n",
       "7123            4  serving\n",
       "7124            4  serving\n",
       "7125  6 personnes  serving\n",
       "7126  5 personnes  serving"
      ]
     },
     "execution_count": 3,
     "metadata": {},
     "output_type": "execute_result"
    }
   ],
   "source": [
    "# servings\n",
    "recipes_backup = pd.read_csv('/Users/vincentsalamand/Documents/mama_db_backup/mama_recipes.csv')\n",
    "servings = recipes_backup.servings.to_frame()\n",
    "servings = servings.assign(type='serving')\n",
    "servings = servings.dropna()\n",
    "servings.rename(columns = {'servings':'text'}, inplace = True)\n",
    "servings.tail()"
   ]
  },
  {
   "cell_type": "code",
   "execution_count": 4,
   "id": "1a3d3760",
   "metadata": {},
   "outputs": [
    {
     "data": {
      "text/html": [
       "<div>\n",
       "<style scoped>\n",
       "    .dataframe tbody tr th:only-of-type {\n",
       "        vertical-align: middle;\n",
       "    }\n",
       "\n",
       "    .dataframe tbody tr th {\n",
       "        vertical-align: top;\n",
       "    }\n",
       "\n",
       "    .dataframe thead th {\n",
       "        text-align: right;\n",
       "    }\n",
       "</style>\n",
       "<table border=\"1\" class=\"dataframe\">\n",
       "  <thead>\n",
       "    <tr style=\"text-align: right;\">\n",
       "      <th></th>\n",
       "      <th>text</th>\n",
       "      <th>type</th>\n",
       "    </tr>\n",
       "  </thead>\n",
       "  <tbody>\n",
       "    <tr>\n",
       "      <th>47209</th>\n",
       "      <td>Faire chauffer 3 cuillères à soupe d'huile d'o...</td>\n",
       "      <td>instruction</td>\n",
       "    </tr>\n",
       "    <tr>\n",
       "      <th>47210</th>\n",
       "      <td>Ajouter les dés de veau et le jambon, mouiller...</td>\n",
       "      <td>instruction</td>\n",
       "    </tr>\n",
       "    <tr>\n",
       "      <th>47211</th>\n",
       "      <td>Couvrir et laisser mijoter pendant 1h30. Penda...</td>\n",
       "      <td>instruction</td>\n",
       "    </tr>\n",
       "    <tr>\n",
       "      <th>47212</th>\n",
       "      <td>Après 1h30 de cuisson, goûter et rectifier l'a...</td>\n",
       "      <td>instruction</td>\n",
       "    </tr>\n",
       "    <tr>\n",
       "      <th>47213</th>\n",
       "      <td>Plus l'axoa mijote et meilleur il est donc ne ...</td>\n",
       "      <td>instruction</td>\n",
       "    </tr>\n",
       "  </tbody>\n",
       "</table>\n",
       "</div>"
      ],
      "text/plain": [
       "                                                    text         type\n",
       "47209  Faire chauffer 3 cuillères à soupe d'huile d'o...  instruction\n",
       "47210  Ajouter les dés de veau et le jambon, mouiller...  instruction\n",
       "47211  Couvrir et laisser mijoter pendant 1h30. Penda...  instruction\n",
       "47212  Après 1h30 de cuisson, goûter et rectifier l'a...  instruction\n",
       "47213  Plus l'axoa mijote et meilleur il est donc ne ...  instruction"
      ]
     },
     "execution_count": 4,
     "metadata": {},
     "output_type": "execute_result"
    }
   ],
   "source": [
    "# instructions\n",
    "recipes_instructions_backup = recipes_backup[recipes_backup['instructions'].notnull()].instructions.to_frame()\n",
    "\n",
    "\n",
    "data = []\n",
    "for instruction in recipes_instructions_backup.instructions:\n",
    "    data.append(instruction.split('\\r\\n'))\n",
    "\n",
    "instructions_dict = {\n",
    "        \"text\": [item for sublist in data for item in sublist]\n",
    "        }\n",
    "\n",
    "instructions = pd.DataFrame(instructions_dict)\n",
    "instructions = instructions.assign(type='instruction')\n",
    "instructions.tail()"
   ]
  },
  {
   "cell_type": "code",
   "execution_count": 5,
   "id": "7fb63517",
   "metadata": {},
   "outputs": [
    {
     "data": {
      "text/html": [
       "<div>\n",
       "<style scoped>\n",
       "    .dataframe tbody tr th:only-of-type {\n",
       "        vertical-align: middle;\n",
       "    }\n",
       "\n",
       "    .dataframe tbody tr th {\n",
       "        vertical-align: top;\n",
       "    }\n",
       "\n",
       "    .dataframe thead th {\n",
       "        text-align: right;\n",
       "    }\n",
       "</style>\n",
       "<table border=\"1\" class=\"dataframe\">\n",
       "  <thead>\n",
       "    <tr style=\"text-align: right;\">\n",
       "      <th></th>\n",
       "      <th>text</th>\n",
       "      <th>type</th>\n",
       "    </tr>\n",
       "  </thead>\n",
       "  <tbody>\n",
       "    <tr>\n",
       "      <th>7122</th>\n",
       "      <td>Risotto de crozets au potiron et beaufort</td>\n",
       "      <td>title</td>\n",
       "    </tr>\n",
       "    <tr>\n",
       "      <th>7123</th>\n",
       "      <td>Poulet basquaise, recette facile</td>\n",
       "      <td>title</td>\n",
       "    </tr>\n",
       "    <tr>\n",
       "      <th>7124</th>\n",
       "      <td>Frittata aux courgettes</td>\n",
       "      <td>title</td>\n",
       "    </tr>\n",
       "    <tr>\n",
       "      <th>7125</th>\n",
       "      <td>Tarte fine aux pêches, citron vert et romarin</td>\n",
       "      <td>title</td>\n",
       "    </tr>\n",
       "    <tr>\n",
       "      <th>7126</th>\n",
       "      <td>Axoa de veau du pays basque</td>\n",
       "      <td>title</td>\n",
       "    </tr>\n",
       "  </tbody>\n",
       "</table>\n",
       "</div>"
      ],
      "text/plain": [
       "                                               text   type\n",
       "7122      Risotto de crozets au potiron et beaufort  title\n",
       "7123               Poulet basquaise, recette facile  title\n",
       "7124                        Frittata aux courgettes  title\n",
       "7125  Tarte fine aux pêches, citron vert et romarin  title\n",
       "7126                    Axoa de veau du pays basque  title"
      ]
     },
     "execution_count": 5,
     "metadata": {},
     "output_type": "execute_result"
    }
   ],
   "source": [
    "# Titles\n",
    "titles = recipes_backup.title.to_frame()\n",
    "titles = titles.assign(type='title')\n",
    "titles.rename(columns = {'title':'text'}, inplace = True)\n",
    "\n",
    "titles.tail()"
   ]
  },
  {
   "cell_type": "code",
   "execution_count": 6,
   "id": "5e0435c0",
   "metadata": {},
   "outputs": [
    {
     "data": {
      "text/html": [
       "<div>\n",
       "<style scoped>\n",
       "    .dataframe tbody tr th:only-of-type {\n",
       "        vertical-align: middle;\n",
       "    }\n",
       "\n",
       "    .dataframe tbody tr th {\n",
       "        vertical-align: top;\n",
       "    }\n",
       "\n",
       "    .dataframe thead th {\n",
       "        text-align: right;\n",
       "    }\n",
       "</style>\n",
       "<table border=\"1\" class=\"dataframe\">\n",
       "  <thead>\n",
       "    <tr style=\"text-align: right;\">\n",
       "      <th></th>\n",
       "      <th>text</th>\n",
       "      <th>type</th>\n",
       "    </tr>\n",
       "  </thead>\n",
       "  <tbody>\n",
       "    <tr>\n",
       "      <th>5548</th>\n",
       "      <td>J’ai refait ma recette de brioche moelleuse dé...</td>\n",
       "      <td>other</td>\n",
       "    </tr>\n",
       "    <tr>\n",
       "      <th>5549</th>\n",
       "      <td>Je n’ai pas pu m’empêcher de la photographier ...</td>\n",
       "      <td>other</td>\n",
       "    </tr>\n",
       "    <tr>\n",
       "      <th>5550</th>\n",
       "      <td>Pour cette recette, j’ai utilisé environ 1/3 d...</td>\n",
       "      <td>other</td>\n",
       "    </tr>\n",
       "    <tr>\n",
       "      <th>5551</th>\n",
       "      <td>La brioche est moelleuse, parfaitement aromati...</td>\n",
       "      <td>other</td>\n",
       "    </tr>\n",
       "    <tr>\n",
       "      <th>5552</th>\n",
       "      <td>Elle monte parfaitement pour être très légère ...</td>\n",
       "      <td>other</td>\n",
       "    </tr>\n",
       "  </tbody>\n",
       "</table>\n",
       "</div>"
      ],
      "text/plain": [
       "                                                   text   type\n",
       "5548  J’ai refait ma recette de brioche moelleuse dé...  other\n",
       "5549  Je n’ai pas pu m’empêcher de la photographier ...  other\n",
       "5550  Pour cette recette, j’ai utilisé environ 1/3 d...  other\n",
       "5551  La brioche est moelleuse, parfaitement aromati...  other\n",
       "5552  Elle monte parfaitement pour être très légère ...  other"
      ]
     },
     "execution_count": 6,
     "metadata": {},
     "output_type": "execute_result"
    }
   ],
   "source": [
    "# Various text\n",
    "stories = pd.read_csv('/Users/vincentsalamand/Documents/datasets/various_recipe_text.csv')\n",
    "stories = stories.assign(type='other')\n",
    "stories.tail()\n"
   ]
  },
  {
   "cell_type": "code",
   "execution_count": 44,
   "id": "2bf867f0",
   "metadata": {},
   "outputs": [
    {
     "name": "stdout",
     "output_type": "stream",
     "text": [
      "104949\n",
      "0\n"
     ]
    },
    {
     "data": {
      "text/plain": [
       "'couper les tranches de chorizo en 4.'"
      ]
     },
     "execution_count": 44,
     "metadata": {},
     "output_type": "execute_result"
    }
   ],
   "source": [
    "# Create labeled dataset\n",
    "frames = [ingredients, servings, instructions, titles, stories]\n",
    "data = pd.concat(frames)\n",
    "data = data.reset_index()\n",
    "data = data.drop(columns=['index'])\n",
    "# peprocessing / remove empty string and prevent DF \n",
    "data.text = data.text.apply(lambda x: x.replace('\\n', '').replace('\\r', '').replace('\\xa0', '').strip().lower())\n",
    "data = data[data['text'].str.strip().astype(bool)]\n",
    "data = data.dropna()\n",
    "\n",
    "print(len(data.dropna()))\n",
    "print(len(data[data.isnull().any(axis=1)]))\n",
    "\n",
    "data.iloc[46974].text"
   ]
  },
  {
   "cell_type": "code",
   "execution_count": 45,
   "id": "4ad045c0",
   "metadata": {},
   "outputs": [],
   "source": [
    "# export file to disk\n",
    "data.to_csv('/Users/vincentsalamand/Documents/datasets/label_recipe_text.csv', index = False)\n"
   ]
  },
  {
   "cell_type": "code",
   "execution_count": 46,
   "id": "b0df4272",
   "metadata": {},
   "outputs": [],
   "source": [
    "yo = pd.read_csv(r'/Users/vincentsalamand/Documents/datasets/label_recipe_text.csv')\n"
   ]
  },
  {
   "cell_type": "code",
   "execution_count": 47,
   "id": "7c2217e1",
   "metadata": {},
   "outputs": [
    {
     "name": "stdout",
     "output_type": "stream",
     "text": [
      "104949\n",
      "0\n",
      "104949\n"
     ]
    },
    {
     "data": {
      "text/html": [
       "<div>\n",
       "<style scoped>\n",
       "    .dataframe tbody tr th:only-of-type {\n",
       "        vertical-align: middle;\n",
       "    }\n",
       "\n",
       "    .dataframe tbody tr th {\n",
       "        vertical-align: top;\n",
       "    }\n",
       "\n",
       "    .dataframe thead th {\n",
       "        text-align: right;\n",
       "    }\n",
       "</style>\n",
       "<table border=\"1\" class=\"dataframe\">\n",
       "  <thead>\n",
       "    <tr style=\"text-align: right;\">\n",
       "      <th></th>\n",
       "      <th>text</th>\n",
       "      <th>type</th>\n",
       "    </tr>\n",
       "  </thead>\n",
       "  <tbody>\n",
       "  </tbody>\n",
       "</table>\n",
       "</div>"
      ],
      "text/plain": [
       "Empty DataFrame\n",
       "Columns: [text, type]\n",
       "Index: []"
      ]
     },
     "execution_count": 47,
     "metadata": {},
     "output_type": "execute_result"
    }
   ],
   "source": [
    "print(len(yo))\n",
    "print(len(yo[yo.isnull().any(axis=1)]))\n",
    "print(len(yo.dropna()))\n",
    "yo[yo.isnull().any(axis=1)]\n",
    "#yo[yo['type'] == 'instruction'][yo['text'].isnull()]\n",
    "\n"
   ]
  },
  {
   "cell_type": "code",
   "execution_count": null,
   "id": "3eac4204",
   "metadata": {},
   "outputs": [],
   "source": []
  }
 ],
 "metadata": {
  "kernelspec": {
   "display_name": "Python 3",
   "language": "python",
   "name": "python3"
  },
  "language_info": {
   "codemirror_mode": {
    "name": "ipython",
    "version": 3
   },
   "file_extension": ".py",
   "mimetype": "text/x-python",
   "name": "python",
   "nbconvert_exporter": "python",
   "pygments_lexer": "ipython3",
   "version": "3.8.8"
  }
 },
 "nbformat": 4,
 "nbformat_minor": 5
}
