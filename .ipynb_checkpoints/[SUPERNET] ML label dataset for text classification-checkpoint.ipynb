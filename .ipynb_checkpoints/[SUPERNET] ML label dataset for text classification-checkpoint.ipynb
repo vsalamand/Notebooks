{
 "cells": [
  {
   "cell_type": "markdown",
   "id": "0b36f817",
   "metadata": {},
   "source": [
    "# ML Datasets for text classification"
   ]
  },
  {
   "cell_type": "code",
   "execution_count": null,
   "id": "8557cf6a",
   "metadata": {},
   "outputs": [],
   "source": [
    "import pandas as pd\n",
    "import numpy as np"
   ]
  },
  {
   "cell_type": "code",
   "execution_count": null,
   "id": "c8febbcd",
   "metadata": {},
   "outputs": [],
   "source": [
    "# ingredients\n",
    "items_backup = pd.read_csv('/Users/vincentsalamand/Documents/mama_db_backup/mama_items.csv')\n",
    "validated_items = items_backup.loc[items_backup['is_validated'] == \"t\"]\n",
    "df_items = validated_items.name.to_frame()\n",
    "df_items = df_items.assign(type='ingredient')\n",
    "df_items = df_items.reset_index()\n",
    "ingredients = df_items.drop(columns=['index'])\n",
    "ingredients.rename(columns = {'name':'text'}, inplace = True)\n",
    "ingredients.tail()"
   ]
  },
  {
   "cell_type": "code",
   "execution_count": null,
   "id": "dc06710c",
   "metadata": {},
   "outputs": [],
   "source": [
    "# servings\n",
    "recipes_backup = pd.read_csv('/Users/vincentsalamand/Documents/mama_db_backup/mama_recipes.csv')\n",
    "servings = recipes_backup.servings.to_frame()\n",
    "servings = servings.assign(type='serving')\n",
    "servings.rename(columns = {'servings':'text'}, inplace = True)\n",
    "\n",
    "servings.tail()"
   ]
  },
  {
   "cell_type": "code",
   "execution_count": null,
   "id": "1a3d3760",
   "metadata": {},
   "outputs": [],
   "source": [
    "# instructions\n",
    "recipes_instructions_backup = recipes_backup[recipes_backup['instructions'].notnull()].instructions.to_frame()\n",
    "\n",
    "\n",
    "data = []\n",
    "for instruction in recipes_instructions_backup.instructions:\n",
    "    data.append(instruction.split('\\r\\n'))\n",
    "\n",
    "instructions_dict = {\n",
    "        \"text\": [item for sublist in data for item in sublist]\n",
    "        }\n",
    "\n",
    "instructions = pd.DataFrame(instructions_dict)\n",
    "instructions = instructions.assign(type='instruction')\n",
    "instructions.tail()"
   ]
  },
  {
   "cell_type": "code",
   "execution_count": null,
   "id": "7fb63517",
   "metadata": {},
   "outputs": [],
   "source": [
    "# Titles\n",
    "titles = recipes_backup.title.to_frame()\n",
    "titles = titles.assign(type='title')\n",
    "titles.rename(columns = {'title':'text'}, inplace = True)\n",
    "\n",
    "titles.tail()"
   ]
  },
  {
   "cell_type": "code",
   "execution_count": null,
   "id": "5e0435c0",
   "metadata": {},
   "outputs": [],
   "source": [
    "# Various text\n",
    "stories = pd.read_csv('/Users/vincentsalamand/Documents/datasets/various_recipe_text.csv')\n",
    "stories = stories.assign(type='other')\n",
    "stories.tail()\n"
   ]
  },
  {
   "cell_type": "code",
   "execution_count": null,
   "id": "2bf867f0",
   "metadata": {},
   "outputs": [],
   "source": [
    "# Create labeled dataset\n",
    "frames = [ingredients, servings, instructions, titles, stories]\n",
    "data = pd.concat(frames)\n",
    "data = data.reset_index()\n",
    "label_data = data.drop(columns=['index'])\n",
    "print(len(label_data))\n",
    "label_data.tail()"
   ]
  },
  {
   "cell_type": "code",
   "execution_count": null,
   "id": "4ad045c0",
   "metadata": {},
   "outputs": [],
   "source": [
    "# export file to disk\n",
    "label_data.to_csv(r'/Users/vincentsalamand/Documents/datasets/label_recipe_text.csv', index = False)\n"
   ]
  }
 ],
 "metadata": {
  "kernelspec": {
   "display_name": "Python 3",
   "language": "python",
   "name": "python3"
  },
  "language_info": {
   "codemirror_mode": {
    "name": "ipython",
    "version": 3
   },
   "file_extension": ".py",
   "mimetype": "text/x-python",
   "name": "python",
   "nbconvert_exporter": "python",
   "pygments_lexer": "ipython3",
   "version": "3.8.8"
  }
 },
 "nbformat": 4,
 "nbformat_minor": 5
}
