{
 "cells": [
  {
   "cell_type": "code",
   "execution_count": 1,
   "metadata": {},
   "outputs": [],
   "source": [
    "import pandas as pd\n",
    "import numpy as np"
   ]
  },
  {
   "cell_type": "code",
   "execution_count": 5,
   "metadata": {},
   "outputs": [],
   "source": [
    "lists = pd.read_csv('/Users/vincentsalamand/Documents/Clubmama/db_exports/list_export.csv')\n",
    "items = pd.read_csv('/Users/vincentsalamand/Documents/Clubmama/db_exports/item_export.csv')\n",
    "categories = pd.read_csv('/Users/vincentsalamand/Documents/Clubmama/db_exports/category_export.csv')\n",
    "store_sections = pd.read_csv('/Users/vincentsalamand/Documents/Clubmama/db_exports/store_section_export.csv')\n",
    "foodgroups = pd.read_csv('/Users/vincentsalamand/Documents/Clubmama/db_exports/foodgroup_export.csv')\n",
    "recipes = pd.read_csv('/Users/vincentsalamand/Documents/Clubmama/db_exports/recipe_export.csv')\n"
   ]
  },
  {
   "cell_type": "code",
   "execution_count": 33,
   "metadata": {},
   "outputs": [
    {
     "data": {
      "text/html": [
       "<div>\n",
       "<style scoped>\n",
       "    .dataframe tbody tr th:only-of-type {\n",
       "        vertical-align: middle;\n",
       "    }\n",
       "\n",
       "    .dataframe tbody tr th {\n",
       "        vertical-align: top;\n",
       "    }\n",
       "\n",
       "    .dataframe thead th {\n",
       "        text-align: right;\n",
       "    }\n",
       "</style>\n",
       "<table border=\"1\" class=\"dataframe\">\n",
       "  <thead>\n",
       "    <tr style=\"text-align: right;\">\n",
       "      <th></th>\n",
       "      <th>id</th>\n",
       "      <th>name</th>\n",
       "      <th>created_at</th>\n",
       "      <th>updated_at</th>\n",
       "      <th>position</th>\n",
       "    </tr>\n",
       "  </thead>\n",
       "  <tbody>\n",
       "    <tr>\n",
       "      <th>0</th>\n",
       "      <td>1</td>\n",
       "      <td>Légumes</td>\n",
       "      <td>2020-05-07 17:12:59.302964</td>\n",
       "      <td>2020-06-09 07:39:42.244603</td>\n",
       "      <td>10</td>\n",
       "    </tr>\n",
       "    <tr>\n",
       "      <th>1</th>\n",
       "      <td>2</td>\n",
       "      <td>Fruits</td>\n",
       "      <td>2020-05-07 17:12:59.308947</td>\n",
       "      <td>2020-06-09 07:39:57.097411</td>\n",
       "      <td>20</td>\n",
       "    </tr>\n",
       "    <tr>\n",
       "      <th>2</th>\n",
       "      <td>34</td>\n",
       "      <td>Pains &amp; Pâtisseries</td>\n",
       "      <td>2020-06-09 07:40:20.451703</td>\n",
       "      <td>2020-06-09 07:40:20.451703</td>\n",
       "      <td>30</td>\n",
       "    </tr>\n",
       "    <tr>\n",
       "      <th>3</th>\n",
       "      <td>3</td>\n",
       "      <td>Frais</td>\n",
       "      <td>2020-05-07 17:12:59.313991</td>\n",
       "      <td>2020-06-09 07:40:37.828572</td>\n",
       "      <td>40</td>\n",
       "    </tr>\n",
       "    <tr>\n",
       "      <th>4</th>\n",
       "      <td>4</td>\n",
       "      <td>Surgelés</td>\n",
       "      <td>2020-05-07 17:12:59.31871</td>\n",
       "      <td>2020-06-09 07:40:50.544438</td>\n",
       "      <td>50</td>\n",
       "    </tr>\n",
       "  </tbody>\n",
       "</table>\n",
       "</div>"
      ],
      "text/plain": [
       "   id                 name                  created_at  \\\n",
       "0   1             Légumes  2020-05-07 17:12:59.302964   \n",
       "1   2               Fruits  2020-05-07 17:12:59.308947   \n",
       "2  34  Pains & Pâtisseries  2020-06-09 07:40:20.451703   \n",
       "3   3                Frais  2020-05-07 17:12:59.313991   \n",
       "4   4             Surgelés   2020-05-07 17:12:59.31871   \n",
       "\n",
       "                   updated_at  position  \n",
       "0  2020-06-09 07:39:42.244603        10  \n",
       "1  2020-06-09 07:39:57.097411        20  \n",
       "2  2020-06-09 07:40:20.451703        30  \n",
       "3  2020-06-09 07:40:37.828572        40  \n",
       "4  2020-06-09 07:40:50.544438        50  "
      ]
     },
     "execution_count": 33,
     "metadata": {},
     "output_type": "execute_result"
    }
   ],
   "source": [
    "store_sections.head()"
   ]
  },
  {
   "cell_type": "code",
   "execution_count": 39,
   "metadata": {},
   "outputs": [],
   "source": [
    "data = pd.DataFrame()\n",
    "data = items.merge(lists[['id', 'user_id']], left_on=['list_id'], right_on=['id'])\n",
    "data = data.merge(categories[['id', 'name', 'rating', 'ancestry']], left_on=['category_id'], right_on=['id'])\n",
    "data = data.merge(store_sections[['id', 'name']], left_on=['store_section_id'], right_on=['id'])\n"
   ]
  },
  {
   "cell_type": "code",
   "execution_count": 40,
   "metadata": {},
   "outputs": [
    {
     "data": {
      "text/plain": [
       "Index(['id_x', 'food_id', 'recipe_id', 'unit_id', 'quantity', 'created_at',\n",
       "       'updated_at', 'name_x', 'list_item_id', 'is_validated', 'is_non_food',\n",
       "       'store_section_id', 'list_id', 'is_deleted', 'is_completed',\n",
       "       'category_id', 'id_y', 'user_id', 'id_x', 'name_y', 'rating',\n",
       "       'ancestry', 'id_y', 'name'],\n",
       "      dtype='object')"
      ]
     },
     "execution_count": 40,
     "metadata": {},
     "output_type": "execute_result"
    }
   ],
   "source": [
    "data.columns"
   ]
  },
  {
   "cell_type": "code",
   "execution_count": 41,
   "metadata": {},
   "outputs": [
    {
     "data": {
      "text/plain": [
       "id_x                                     75154\n",
       "food_id                                    889\n",
       "recipe_id                                  NaN\n",
       "unit_id                                     26\n",
       "quantity                                   NaN\n",
       "created_at          2020-06-08 11:58:47.816267\n",
       "updated_at          2020-07-10 09:33:33.580411\n",
       "name_x                  Petits pots de compote\n",
       "list_item_id                              7477\n",
       "is_validated                                 t\n",
       "is_non_food                                  f\n",
       "store_section_id                            35\n",
       "list_id                                    687\n",
       "is_deleted                                   f\n",
       "is_completed                                 f\n",
       "category_id                                523\n",
       "id_y                                       687\n",
       "user_id                                    625\n",
       "id_x                                       523\n",
       "name_y                                 Compote\n",
       "rating                                       1\n",
       "ancestry                              2/86/506\n",
       "id_y                                        35\n",
       "name                                      Bébé\n",
       "Name: 9, dtype: object"
      ]
     },
     "execution_count": 41,
     "metadata": {},
     "output_type": "execute_result"
    }
   ],
   "source": [
    "data.iloc[-1]"
   ]
  },
  {
   "cell_type": "code",
   "execution_count": null,
   "metadata": {},
   "outputs": [],
   "source": []
  }
 ],
 "metadata": {
  "kernelspec": {
   "display_name": "Python 3",
   "language": "python",
   "name": "python3"
  },
  "language_info": {
   "codemirror_mode": {
    "name": "ipython",
    "version": 3
   },
   "file_extension": ".py",
   "mimetype": "text/x-python",
   "name": "python",
   "nbconvert_exporter": "python",
   "pygments_lexer": "ipython3",
   "version": "3.7.7"
  }
 },
 "nbformat": 4,
 "nbformat_minor": 4
}
