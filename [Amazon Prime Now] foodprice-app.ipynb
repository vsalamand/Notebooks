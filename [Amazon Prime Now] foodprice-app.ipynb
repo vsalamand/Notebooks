{
 "cells": [
  {
   "cell_type": "code",
   "execution_count": 454,
   "metadata": {},
   "outputs": [],
   "source": [
    "from selenium import webdriver\n",
    "from selenium.webdriver.common.keys import Keys\n",
    "from selenium.webdriver.common.action_chains import ActionChains\n",
    "from selenium.common.exceptions import ElementNotVisibleException\n",
    "from selenium.common.exceptions import NoSuchElementException\n",
    "from selenium.common.exceptions import StaleElementReferenceException\n",
    "from selenium.webdriver.common.by import By\n",
    "from selenium.webdriver.support.ui import WebDriverWait\n",
    "from selenium.webdriver.support import expected_conditions as EC\n",
    "from bs4 import BeautifulSoup, CData\n",
    "import requests\n",
    "\n",
    "from time import sleep\n",
    "import pandas as pd \n",
    "import numpy as np\n"
   ]
  },
  {
   "cell_type": "code",
   "execution_count": 513,
   "metadata": {},
   "outputs": [],
   "source": [
    "driver = webdriver.Chrome(\"/Applications/chromedriver\")\n",
    "driver.get(naturalia)"
   ]
  },
  {
   "cell_type": "code",
   "execution_count": 463,
   "metadata": {},
   "outputs": [],
   "source": [
    "# get main shelter that sit on top of parent shelters => Main > Parent > Child\n",
    "\n",
    "amazon_prime_now_stores = []\n",
    "\n",
    "naturalia = \"https://primenow.amazon.fr/storefront?merchantId=A14TQEU3FGQYTZ\"\n",
    "monoprix = \"https://primenow.amazon.fr/storefront?merchantId=A39IAEDNN88TCS\"\n",
    "amazon_prime_now_stores.append(naturalia)\n",
    "amazon_prime_now_stores.append(monoprix)\n"
   ]
  },
  {
   "cell_type": "code",
   "execution_count": 496,
   "metadata": {},
   "outputs": [],
   "source": [
    "driver.get(naturalia)"
   ]
  },
  {
   "cell_type": "code",
   "execution_count": 478,
   "metadata": {},
   "outputs": [
    {
     "data": {
      "text/plain": [
       "55"
      ]
     },
     "execution_count": 478,
     "metadata": {},
     "output_type": "execute_result"
    }
   ],
   "source": [
    "# Naturalia\n",
    "naturalia_urls = []\n",
    "\n",
    "driver.get(naturalia)\n",
    "\n",
    "try:\n",
    "    page = driver.find_element_by_id('viewAllCitiesContent')\n",
    "    onboarding_cities_links = [elem.get_attribute(\"href\") for elem in page.find_elements_by_tag_name('a')]\n",
    "    driver.get(onboarding_cities_links[1])\n",
    "except:\n",
    "    pass\n",
    "    \n",
    "top_categories = driver.find_elements_by_class_name('topCategory__container__2hxFv')[1:12]\n",
    "\n",
    "for top_category in top_categories:\n",
    "    top_cat_name = top_category.find_element_by_class_name('categoryTile__displayName__2WsVC').find_elements_by_tag_name('a')[0].find_element_by_css_selector(\"span\").text\n",
    "    sub_categories = top_category.find_elements_by_class_name('filter__subCategory__2HeRV')\n",
    "    for sub_category in sub_categories:\n",
    "        sub_cat_name = sub_category.find_elements_by_tag_name('a')[0].text\n",
    "        link = sub_category.find_elements_by_tag_name('a')[0].get_attribute(\"href\")\n",
    "        naturalia_urls.append({\"url\":link, \n",
    "                             \"shelve_parent\": top_cat_name,\n",
    "                             \"shelve\": sub_cat_name                                   \n",
    "                            })\n",
    "        \n",
    "len(naturalia_urls)\n"
   ]
  },
  {
   "cell_type": "code",
   "execution_count": 482,
   "metadata": {},
   "outputs": [
    {
     "data": {
      "text/plain": [
       "106"
      ]
     },
     "execution_count": 482,
     "metadata": {},
     "output_type": "execute_result"
    }
   ],
   "source": [
    "# Monoprix\n",
    "monoprix_urls = []\n",
    "\n",
    "driver.get(monoprix)\n",
    "\n",
    "    \n",
    "top_categories = driver.find_elements_by_class_name('topCategory__container__2hxFv')[1:18]\n",
    "\n",
    "for top_category in top_categories:\n",
    "    top_cat_name = top_category.find_element_by_class_name('categoryTile__displayName__2WsVC').find_elements_by_tag_name('a')[0].find_element_by_css_selector(\"span\").text\n",
    "    sub_categories = top_category.find_elements_by_class_name('filter__subCategory__2HeRV')\n",
    "    for sub_category in sub_categories:\n",
    "        sub_cat_name = sub_category.find_elements_by_tag_name('a')[0].text\n",
    "        link = sub_category.find_elements_by_tag_name('a')[0].get_attribute(\"href\")\n",
    "        monoprix_urls.append({\"url\":link, \n",
    "                             \"shelve_parent\": top_cat_name,\n",
    "                             \"shelve\": sub_cat_name                                   \n",
    "                            })\n",
    "        \n",
    "len(monoprix_urls)\n"
   ]
  },
  {
   "cell_type": "code",
   "execution_count": 519,
   "metadata": {},
   "outputs": [],
   "source": [
    "amazon_urls = []\n",
    "amazon_urls.append(naturalia_urls)\n",
    "amazon_urls.append(monoprix_urls)\n",
    "amazon_urls = [item for urls in amazon_urls for item in urls]"
   ]
  },
  {
   "cell_type": "code",
   "execution_count": 511,
   "metadata": {},
   "outputs": [
    {
     "data": {
      "text/plain": [
       "['https://primenow.amazon.fr/search?srs=17419833031&qid=1580471666&rh=p_95%3AU023&page=2&ref=sr_pg_2&ie=UTF8',\n",
       " 'https://primenow.amazon.fr/search?srs=17419833031&qid=1580471666&rh=p_95%3AU023&page=3&ref=sr_pg_3&ie=UTF8']"
      ]
     },
     "execution_count": 511,
     "metadata": {},
     "output_type": "execute_result"
    }
   ],
   "source": [
    "link = naturalia_urls[6]['url']\n",
    "driver.get(link)\n",
    "soup = BeautifulSoup(driver.page_source, 'lxml')\n",
    "pagination = soup.select('.app__paginate-wrapper__2Ttq0 li')\n",
    "next_pages = []\n",
    "for element in pagination[2:-1]:\n",
    "    try:\n",
    "        next_pages.append('https://primenow.amazon.fr' + element.find(\"a\")[\"href\"])\n",
    "    except:\n",
    "        pass\n",
    "next_pages\n",
    "\n"
   ]
  },
  {
   "cell_type": "code",
   "execution_count": 520,
   "metadata": {},
   "outputs": [
    {
     "name": "stdout",
     "output_type": "stream",
     "text": [
      "https://primenow.amazon.fr/browse?node=17419913031&merchantId=A14TQEU3FGQYTZ&ref_=pn_sf_ct_17419913031_1_A14TQEU3FGQYTZ&pf_rd_r=THBJQQG2AQAFH68ZXFQY&pf_rd_p=18351390-c777-4560-8e70-d2fc2f45a899&pf_rd_s=desktop-center-9&pf_rd_i=A14TQEU3FGQYTZ&pf_rd_t=101&pf_rd_m=AGMEOZFASZJSS\n",
      "https://primenow.amazon.fr/browse?node=17489649031&merchantId=A14TQEU3FGQYTZ&ref_=pn_sf_ct_17489649031_2_A14TQEU3FGQYTZ&pf_rd_r=THBJQQG2AQAFH68ZXFQY&pf_rd_p=18351390-c777-4560-8e70-d2fc2f45a899&pf_rd_s=desktop-center-9&pf_rd_i=A14TQEU3FGQYTZ&pf_rd_t=101&pf_rd_m=AGMEOZFASZJSS\n",
      "https://primenow.amazon.fr#\n",
      "None\n",
      "https://primenow.amazon.fr#\n",
      "None\n",
      "https://primenow.amazon.fr#\n",
      "None\n",
      "https://primenow.amazon.fr#\n",
      "None\n",
      "https://primenow.amazon.fr#\n",
      "None\n",
      "https://primenow.amazon.fr#\n",
      "None\n"
     ]
    }
   ],
   "source": [
    "headers = {'User-Agent': 'Mozilla/5.0 (X11; Linux x86_64) AppleWebKit/537.36 (KHTML, like Gecko) Chrome/78.0.3904.70 Safari/537.36'}\n",
    "\n",
    "product_pages = []\n",
    "\n",
    "for data in amazon_urls:\n",
    "    link = data['url']\n",
    "    parent_shelve = data['shelve_parent']\n",
    "    shelve = data['shelve']\n",
    " \n",
    "    results = []\n",
    "    brands = []\n",
    "\n",
    "    driver.get(link)\n",
    "  \n",
    "    soup = BeautifulSoup(driver.page_source, 'lxml')\n",
    "    \n",
    "    results.append(soup.select('.product_grid__item__37iIU'))\n",
    "    \n",
    "    pagination = soup.select('.app__paginate-wrapper__2Ttq0 li')\n",
    "    next_pages = []\n",
    "    for element in pagination[2:-1]:\n",
    "        try:\n",
    "            next_pages.append('https://primenow.amazon.fr' + element.find(\"a\")[\"href\"])\n",
    "        except:\n",
    "            pass\n",
    "    try:\n",
    "        filters = driver.find_element_by_class_name('filterButton__filters-button-container__1d6s1').click() \n",
    "        brand_filter = driver.find_elements_by_class_name('index__filterSection__2nuyc li')\n",
    "        brands = [elem.text for elem in brand_filter if len(elem.text) > 1]\n",
    "    except:\n",
    "        print(link)\n",
    "        pass\n",
    "    \n",
    "    if len(next_pages) > 0:\n",
    "        for page_link in next_pages:\n",
    "            driver.get(page_link)\n",
    "            soup = BeautifulSoup(driver.page_source, 'lxml')\n",
    "            results.append(soup.select('.product_grid__item__37iIU'))\n",
    "            try:\n",
    "                filters = driver.find_element_by_class_name('filterButton__filters-button-container__3N7lj').click()\n",
    "                brand_filter = driver.find_elements_by_class_name('index__filterSection__2nuyc li')\n",
    "                brands.append([elem.text for elem in brand_filter if len(elem.text) > 1])\n",
    "            except:\n",
    "                print(page_link)\n",
    "                print(filters)\n",
    "                pass\n",
    "        \n",
    "    flat_results = [item for subresults in results for item in subresults]\n",
    "\n",
    "\n",
    "    \n",
    "    product_pages.append({\"url\":link, \n",
    "                         \"shelter_main\": shelve,\n",
    "                         \"shelter_parent\": parent_shelve,\n",
    "                          \"brands\": brands,\n",
    "                         \"soup\": flat_results\n",
    "                        })\n",
    "\n",
    "    \n",
    "\n"
   ]
  },
  {
   "cell_type": "code",
   "execution_count": 523,
   "metadata": {},
   "outputs": [
    {
     "data": {
      "text/html": [
       "<div>\n",
       "<style scoped>\n",
       "    .dataframe tbody tr th:only-of-type {\n",
       "        vertical-align: middle;\n",
       "    }\n",
       "\n",
       "    .dataframe tbody tr th {\n",
       "        vertical-align: top;\n",
       "    }\n",
       "\n",
       "    .dataframe thead th {\n",
       "        text-align: right;\n",
       "    }\n",
       "</style>\n",
       "<table border=\"1\" class=\"dataframe\">\n",
       "  <thead>\n",
       "    <tr style=\"text-align: right;\">\n",
       "      <th></th>\n",
       "      <th>url</th>\n",
       "      <th>shelter_main</th>\n",
       "      <th>shelter_parent</th>\n",
       "      <th>brands</th>\n",
       "      <th>soup</th>\n",
       "    </tr>\n",
       "  </thead>\n",
       "  <tbody>\n",
       "    <tr>\n",
       "      <th>0</th>\n",
       "      <td>https://primenow.amazon.fr/browse?node=1741985...</td>\n",
       "      <td>Légumes frais</td>\n",
       "      <td>Fruits et légumes</td>\n",
       "      <td>[Desconocido, Monoprix, NATURALIA, Naturalia, []]</td>\n",
       "      <td>[[[&lt;a class=\"asin_card__productLink__1-GHX\" da...</td>\n",
       "    </tr>\n",
       "    <tr>\n",
       "      <th>1</th>\n",
       "      <td>https://primenow.amazon.fr/browse?node=1742008...</td>\n",
       "      <td>Fruits frais</td>\n",
       "      <td>Fruits et légumes</td>\n",
       "      <td>[[]]</td>\n",
       "      <td>[[[&lt;a class=\"asin_card__productLink__1-GHX\" da...</td>\n",
       "    </tr>\n",
       "    <tr>\n",
       "      <th>2</th>\n",
       "      <td>https://primenow.amazon.fr/browse?node=1772741...</td>\n",
       "      <td>Panier de fruits et légumes</td>\n",
       "      <td>Fruits et légumes</td>\n",
       "      <td>[NATURALIA]</td>\n",
       "      <td>[[[&lt;a class=\"asin_card__productLink__1-GHX\" da...</td>\n",
       "    </tr>\n",
       "    <tr>\n",
       "      <th>3</th>\n",
       "      <td>https://primenow.amazon.fr/browse?node=2048060...</td>\n",
       "      <td>Vrac</td>\n",
       "      <td>Fruits et légumes</td>\n",
       "      <td>[ACCENT BIO SARL, DAMIANO, LOU PRUNEL SARL, MO...</td>\n",
       "      <td>[[[&lt;a class=\"asin_card__productLink__1-GHX\" da...</td>\n",
       "    </tr>\n",
       "    <tr>\n",
       "      <th>4</th>\n",
       "      <td>https://primenow.amazon.fr/browse?node=1741985...</td>\n",
       "      <td>Fruits secs</td>\n",
       "      <td>Fruits et légumes</td>\n",
       "      <td>[COULEUR QUEBEC, DAMIANO, Ethnoscience, LES AC...</td>\n",
       "      <td>[[[&lt;a class=\"asin_card__productLink__1-GHX\" da...</td>\n",
       "    </tr>\n",
       "  </tbody>\n",
       "</table>\n",
       "</div>"
      ],
      "text/plain": [
       "                                                 url  \\\n",
       "0  https://primenow.amazon.fr/browse?node=1741985...   \n",
       "1  https://primenow.amazon.fr/browse?node=1742008...   \n",
       "2  https://primenow.amazon.fr/browse?node=1772741...   \n",
       "3  https://primenow.amazon.fr/browse?node=2048060...   \n",
       "4  https://primenow.amazon.fr/browse?node=1741985...   \n",
       "\n",
       "                  shelter_main     shelter_parent  \\\n",
       "0                Légumes frais  Fruits et légumes   \n",
       "1                 Fruits frais  Fruits et légumes   \n",
       "2  Panier de fruits et légumes  Fruits et légumes   \n",
       "3                         Vrac  Fruits et légumes   \n",
       "4                  Fruits secs  Fruits et légumes   \n",
       "\n",
       "                                              brands  \\\n",
       "0  [Desconocido, Monoprix, NATURALIA, Naturalia, []]   \n",
       "1                                               [[]]   \n",
       "2                                        [NATURALIA]   \n",
       "3  [ACCENT BIO SARL, DAMIANO, LOU PRUNEL SARL, MO...   \n",
       "4  [COULEUR QUEBEC, DAMIANO, Ethnoscience, LES AC...   \n",
       "\n",
       "                                                soup  \n",
       "0  [[[<a class=\"asin_card__productLink__1-GHX\" da...  \n",
       "1  [[[<a class=\"asin_card__productLink__1-GHX\" da...  \n",
       "2  [[[<a class=\"asin_card__productLink__1-GHX\" da...  \n",
       "3  [[[<a class=\"asin_card__productLink__1-GHX\" da...  \n",
       "4  [[[<a class=\"asin_card__productLink__1-GHX\" da...  "
      ]
     },
     "execution_count": 523,
     "metadata": {},
     "output_type": "execute_result"
    }
   ],
   "source": [
    "data = pd.DataFrame(product_pages)\n",
    "data.head()"
   ]
  },
  {
   "cell_type": "code",
   "execution_count": 526,
   "metadata": {},
   "outputs": [
    {
     "name": "stdout",
     "output_type": "stream",
     "text": [
      "3530\n",
      "223\n"
     ]
    }
   ],
   "source": [
    "import re\n",
    "\n",
    "products = []\n",
    "bad_products = []\n",
    "\n",
    "for page in product_pages:\n",
    "    shelter_main = page['shelter_main']\n",
    "    shelter_parent = page['shelter_parent']\n",
    "    brands = [brand for brand in page['brands'] if not '[]']\n",
    "    \n",
    "    for content in page['soup']:\n",
    "        for product in content:\n",
    "            product_name = product.find(\"div\", class_=\"asin_card__title__TAkef\").text\n",
    "            try:\n",
    "                product_img = product.find(\"img\")['src']\n",
    "            except:\n",
    "                bad_products.append(product)\n",
    "                break\n",
    "            product_link = 'https://primenow.amazon.fr' + product.find(\"a\", class_=\"asin_card__productLink__1-GHX\")[\"href\"]\n",
    "            product_asin = re.search(r\"(?<=/dp/)[^,]+\", product_link).group()[:10]\n",
    "            store_name = product.find(\"div\", class_=\"asin_offer_price__root__nXLh8\").find(\"img\")[\"alt\"]\n",
    "            price = product.find(\"div\", class_=\"asin_price__priceFull__27h7K\").text\n",
    "            try:\n",
    "                price_per_unit = product.find(\"div\", class_=\"asin_price__pricePerUnit__3zFwH\").text\n",
    "            except:\n",
    "                pass\n",
    "            try:\n",
    "                promo_price = product.find(\"div\", class_=\"asin_price__priceDiscount__Ug2dH\").text\n",
    "            except:\n",
    "                pass\n",
    "            if len(brands) > 0:\n",
    "                brand = ''.join([brand for brand in brands if brand in product_name])\n",
    "            else:\n",
    "                brand = \"\"  \n",
    "            clean_description = product_name.lower().strip().replace(brand.lower().strip(), '').strip()\n",
    "\n",
    "            products.append({\"shelter_main\": shelter_main,\n",
    "                             \"shelter_parent\": shelter_parent,\n",
    "                             \"brand\": brand,  \n",
    "                             \"description1\": clean_description,                             \n",
    "                             \"description\": product_name,\n",
    "                             \"price\": price,\n",
    "                             \"price_per_unit\":price_per_unit,\n",
    "                             \"promo_price\": promo_price,\n",
    "                             \"store\": store_name,\n",
    "                             \"image_url\": product_img,                    \n",
    "                             \"url\": product_link,\n",
    "                             \"ean\": product_asin\n",
    "                            })\n",
    "print(len(products))\n",
    "print(len(bad_products))\n"
   ]
  },
  {
   "cell_type": "code",
   "execution_count": 527,
   "metadata": {},
   "outputs": [],
   "source": [
    "product_data = pd.DataFrame(products)\n",
    "product_data = product_data.drop_duplicates()\n",
    "\n",
    "export_csv = product_data.to_csv (r'/Users/vincentsalamand/Downloads/products_amazonprimenow.csv', index = None, header=True)\n"
   ]
  },
  {
   "cell_type": "code",
   "execution_count": 528,
   "metadata": {},
   "outputs": [
    {
     "name": "stdout",
     "output_type": "stream",
     "text": [
      "Duplicate Rows except first occurrence based on all columns are :\n",
      "Empty DataFrame\n",
      "Columns: [shelter_main, shelter_parent, brand, description1, description, price, price_per_unit, promo_price, store, image_url, url, ean]\n",
      "Index: []\n"
     ]
    }
   ],
   "source": [
    "# Select duplicate rows except first occurrence based on all columns\n",
    "duplicateRowsDF = product_data[product_data.duplicated()]\n",
    " \n",
    "print(\"Duplicate Rows except first occurrence based on all columns are :\")\n",
    "print(duplicateRowsDF)"
   ]
  },
  {
   "cell_type": "code",
   "execution_count": null,
   "metadata": {},
   "outputs": [],
   "source": []
  }
 ],
 "metadata": {
  "kernelspec": {
   "display_name": "Python 3",
   "language": "python",
   "name": "python3"
  },
  "language_info": {
   "codemirror_mode": {
    "name": "ipython",
    "version": 3
   },
   "file_extension": ".py",
   "mimetype": "text/x-python",
   "name": "python",
   "nbconvert_exporter": "python",
   "pygments_lexer": "ipython3",
   "version": "3.7.5"
  }
 },
 "nbformat": 4,
 "nbformat_minor": 2
}
