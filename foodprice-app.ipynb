{
 "cells": [
  {
   "cell_type": "code",
   "execution_count": 127,
   "metadata": {},
   "outputs": [],
   "source": [
    "from selenium import webdriver\n",
    "from selenium.webdriver.common.keys import Keys\n",
    "from selenium.webdriver.common.action_chains import ActionChains\n",
    "from selenium.common.exceptions import ElementNotVisibleException\n",
    "from selenium.common.exceptions import NoSuchElementException\n",
    "from selenium.common.exceptions import StaleElementReferenceException\n",
    "from selenium.webdriver.common.by import By\n",
    "from selenium.webdriver.support.ui import WebDriverWait\n",
    "from selenium.webdriver.support import expected_conditions as EC\n",
    "from bs4 import BeautifulSoup, CData\n",
    "import requests\n",
    "\n",
    "from time import sleep\n",
    "import pandas as pd \n",
    "import numpy as np"
   ]
  },
  {
   "cell_type": "code",
   "execution_count": 128,
   "metadata": {},
   "outputs": [],
   "source": [
    "driver = webdriver.Chrome(\"/Applications/chromedriver\")"
   ]
  },
  {
   "cell_type": "code",
   "execution_count": 129,
   "metadata": {},
   "outputs": [
    {
     "data": {
      "text/plain": [
       "['https://fd4-courses.leclercdrive.fr/magasin-127811-Bois-dArcy/rayon-284325-Boucherie.aspx',\n",
       " 'https://fd4-courses.leclercdrive.fr/magasin-127811-Bois-dArcy/rayon-284326-Volailles-et-Gibiers.aspx',\n",
       " 'https://fd4-courses.leclercdrive.fr/magasin-127811-Bois-dArcy/rayon-284327-Poissonnerie.aspx',\n",
       " 'https://fd4-courses.leclercdrive.fr/magasin-127811-Bois-dArcy/rayon-285187-Traiteur-de-la-mer.aspx',\n",
       " 'https://fd4-courses.leclercdrive.fr/magasin-127811-Bois-dArcy/rayon-284351-Legumes.aspx',\n",
       " 'https://fd4-courses.leclercdrive.fr/magasin-127811-Bois-dArcy/rayon-284350-Jus-de-fruits-et-legumes-frais.aspx',\n",
       " 'https://fd4-courses.leclercdrive.fr/magasin-127811-Bois-dArcy/rayon-284349-Fruits.aspx',\n",
       " 'https://fd4-courses.leclercdrive.fr/magasin-127811-Bois-dArcy/rayon-284358-Pains-et-Patisseries.aspx',\n",
       " 'https://fd4-courses.leclercdrive.fr/magasin-127811-Bois-dArcy/rayon-284361-Pains-de-mie-et-Pains-grilles.aspx',\n",
       " 'https://fd4-courses.leclercdrive.fr/magasin-127811-Bois-dArcy/rayon-284362-Patisseries-moelleuses.aspx',\n",
       " 'https://fd4-courses.leclercdrive.fr/magasin-127811-Bois-dArcy/rayon-284370-Laits-et-Oeufs.aspx',\n",
       " 'https://fd4-courses.leclercdrive.fr/magasin-127811-Bois-dArcy/rayon-284371-Beurres-et-Cremes.aspx',\n",
       " 'https://fd4-courses.leclercdrive.fr/magasin-127811-Bois-dArcy/rayon-284372-Fromages.aspx',\n",
       " 'https://fd4-courses.leclercdrive.fr/magasin-127811-Bois-dArcy/rayon-284373-Charcuteries.aspx',\n",
       " 'https://fd4-courses.leclercdrive.fr/magasin-127811-Bois-dArcy/rayon-284374-Traiteur.aspx',\n",
       " 'https://fd4-courses.leclercdrive.fr/magasin-127811-Bois-dArcy/rayon-284375-Yaourts-et-Produits-Laitiers.aspx',\n",
       " 'https://fd4-courses.leclercdrive.fr/magasin-127811-Bois-dArcy/rayon-284376-Desserts.aspx',\n",
       " 'https://fd4-courses.leclercdrive.fr/magasin-127811-Bois-dArcy/rayon-284247-Aperitifs-Entrees-et-Snacks.aspx',\n",
       " 'https://fd4-courses.leclercdrive.fr/magasin-127811-Bois-dArcy/rayon-284248-Plats-cuisines-Pizzas-Tartes.aspx',\n",
       " 'https://fd4-courses.leclercdrive.fr/magasin-127811-Bois-dArcy/rayon-284249-Viandes-et-Poissons.aspx',\n",
       " 'https://fd4-courses.leclercdrive.fr/magasin-127811-Bois-dArcy/rayon-284250-Legumes-et-Frites.aspx',\n",
       " 'https://fd4-courses.leclercdrive.fr/magasin-127811-Bois-dArcy/rayon-284251-Glaces-et-Desserts-glaces.aspx',\n",
       " 'https://fd4-courses.leclercdrive.fr/magasin-127811-Bois-dArcy/rayon-284421-Pates-Riz-Feculents-Sauces.aspx',\n",
       " 'https://fd4-courses.leclercdrive.fr/magasin-127811-Bois-dArcy/rayon-284422-Conserves-et-Bocaux.aspx',\n",
       " 'https://fd4-courses.leclercdrive.fr/magasin-127811-Bois-dArcy/rayon-284423-Plats-cuisines.aspx',\n",
       " 'https://fd4-courses.leclercdrive.fr/magasin-127811-Bois-dArcy/rayon-284424-Aperitifs.aspx',\n",
       " 'https://fd4-courses.leclercdrive.fr/magasin-127811-Bois-dArcy/rayon-284425-Assaisonnements-et-Condiments.aspx',\n",
       " 'https://fd4-courses.leclercdrive.fr/magasin-127811-Bois-dArcy/rayon-288378-Aides-a-la-cuisine-Bouillons.aspx',\n",
       " 'https://fd4-courses.leclercdrive.fr/magasin-127811-Bois-dArcy/rayon-284426-Soupes-et-Croutons.aspx',\n",
       " 'https://fd4-courses.leclercdrive.fr/magasin-127811-Bois-dArcy/rayon-288991-Saveurs-du-monde.aspx',\n",
       " 'https://fd4-courses.leclercdrive.fr/magasin-127811-Bois-dArcy/rayon-284748-Cafes.aspx',\n",
       " 'https://fd4-courses.leclercdrive.fr/magasin-127811-Bois-dArcy/rayon-293232-Thes-et-Poudres-chocolatees.aspx',\n",
       " 'https://fd4-courses.leclercdrive.fr/magasin-127811-Bois-dArcy/rayon-284467-Petits-dejeuners.aspx',\n",
       " 'https://fd4-courses.leclercdrive.fr/magasin-127811-Bois-dArcy/rayon-284482-Biscuits.aspx',\n",
       " 'https://fd4-courses.leclercdrive.fr/magasin-127811-Bois-dArcy/rayon-284483-Patisseries-moelleuses.aspx',\n",
       " 'https://fd4-courses.leclercdrive.fr/magasin-127811-Bois-dArcy/rayon-284484-Chocolats-et-confiseries.aspx',\n",
       " 'https://fd4-courses.leclercdrive.fr/magasin-127811-Bois-dArcy/rayon-284485-Desserts-Sucres-et-Farines.aspx',\n",
       " 'https://fd4-courses.leclercdrive.fr/magasin-127811-Bois-dArcy/rayon-288906-Dietetique-et-Allege.aspx',\n",
       " 'https://fd4-courses.leclercdrive.fr/magasin-127811-Bois-dArcy/rayon-284529-Sodas-et-Boissons-aux-fruits.aspx',\n",
       " 'https://fd4-courses.leclercdrive.fr/magasin-127811-Bois-dArcy/rayon-284534-Eaux-et-Laits.aspx',\n",
       " 'https://fd4-courses.leclercdrive.fr/magasin-127811-Bois-dArcy/rayon-284520-Jus-de-fruits-et-legumes.aspx',\n",
       " 'https://fd4-courses.leclercdrive.fr/magasin-127811-Bois-dArcy/rayon-294998-Bieres-et-Cidres.aspx',\n",
       " 'https://fd4-courses.leclercdrive.fr/magasin-127811-Bois-dArcy/rayon-284519-Alcools-et-Aperitifs.aspx',\n",
       " 'https://fd4-courses.leclercdrive.fr/magasin-127811-Bois-dArcy/rayon-289555-Vins.aspx',\n",
       " 'https://fd4-courses.leclercdrive.fr/magasin-127811-Bois-dArcy/rayon-284518-Champagnes-et-Mousseux.aspx']"
      ]
     },
     "execution_count": 129,
     "metadata": {},
     "output_type": "execute_result"
    }
   ],
   "source": [
    "# get main shelter that sit on top of parent shelters => Main > Parent > Child\n",
    "\n",
    "driver.get(\"https://fd4-courses.leclercdrive.fr/magasin-127811-Bois-dArcy/accueil.aspx\")\n",
    "page = driver.find_element_by_class_name('divWCAD304_FamilyList')\n",
    "\n",
    "\n",
    "parent_urls = [elem.get_attribute(\"href\") for elem in page.find_elements_by_tag_name('a')]\n",
    "parent_urls = parent_urls[2:10]\n",
    "urls = []\n",
    "for parent in parent_urls:\n",
    "    sleep(1)\n",
    "    driver.get(parent)\n",
    "    sleep(1)\n",
    "    try:\n",
    "        wait = WebDriverWait(driver, 10)\n",
    "        wait.until(EC.presence_of_element_located((By.CLASS_NAME, \"divWCAD304_FamilyList\")))\n",
    "        page = driver.find_element_by_class_name('divWCAD304_FamilyList')\n",
    "        a = [elem.get_attribute(\"href\") for elem in page.find_elements_by_tag_name('a')]\n",
    "        for url in a:\n",
    "            urls.append(url)\n",
    "    except:\n",
    "        next\n",
    "\n",
    "        \n",
    "urls\n",
    "    \n"
   ]
  },
  {
   "cell_type": "code",
   "execution_count": 10,
   "metadata": {},
   "outputs": [
    {
     "data": {
      "text/plain": [
       "'Viandes Poissons'"
      ]
     },
     "execution_count": 10,
     "metadata": {},
     "output_type": "execute_result"
    }
   ],
   "source": [
    "url = \"https://fd4-courses.leclercdrive.fr/magasin-127811-Bois-dArcy/rayon-284325-Boucherie.aspx\"\n",
    "driver.get(url)\n",
    "driver.find_element_by_class_name('ulWCAD307_FilAriane').find_elements_by_css_selector('li')[-2].text[:-2]"
   ]
  },
  {
   "cell_type": "code",
   "execution_count": 130,
   "metadata": {},
   "outputs": [],
   "source": [
    "product_pages = []\n",
    "\n",
    "for url in urls:\n",
    "    driver.get(url)\n",
    "\n",
    "    shelters = driver.find_element_by_class_name('divWCRS315_FiltresNavigation').find_element_by_css_selector('ul')\n",
    "    shelter_main = driver.find_element_by_class_name('ulWCAD307_FilAriane').find_elements_by_css_selector('li')[-2].text[:-2]\n",
    "    shelter_parent = driver.find_element_by_class_name('ulWCAD307_FilAriane').find_elements_by_css_selector('li')[-1].text\n",
    "    links = [elem.get_attribute(\"href\") for elem in shelters.find_elements_by_tag_name('a')]\n",
    "\n",
    "\n",
    "    for link in links:\n",
    "        sleep(1)\n",
    "        if links.index(link) == 0:\n",
    "            next\n",
    "        else:      \n",
    "            driver.get(link)\n",
    "\n",
    "            actions = ActionChains(driver)\n",
    "            actions.move_to_element(driver.find_element_by_id(\"ulListeProduits\").find_elements_by_css_selector('li')[-1]).perform()\n",
    "\n",
    "            shelter_child = driver.find_element_by_class_name('ulWCAD307_FilAriane').find_elements_by_css_selector('li')[-1].text\n",
    "\n",
    "            sleep(1)\n",
    "            request_text = requests.get(link)\n",
    "            soup = BeautifulSoup(request_text.text,\"html.parser\" ,from_encoding=\"utf-8\")\n",
    "\n",
    "\n",
    "            brands = []\n",
    "            try:\n",
    "                wait = WebDriverWait(driver, 10)\n",
    "                wait.until(EC.visibility_of_element_located((By.XPATH, \"//dt[contains(text(),'Marques')]\")))\n",
    "                if driver.find_element_by_id('divBlocsFiltres').find_element_by_xpath(\"//dt[contains(text(),'Marques')]\"):\n",
    "                    for filter in driver.find_elements_by_class_name('dlCRS315_Filtre'):\n",
    "                        if \"Marques\" in filter.find_element_by_css_selector(\"dt\").text:\n",
    "                            for label in filter.find_elements_by_css_selector('label'):\n",
    "                                brands.append(label.text)\n",
    "                product_pages.append({\"url\":link, \n",
    "                         \"shelter_main\": shelter_main,\n",
    "                         \"shelter_parent\": shelter_parent,\n",
    "                         \"shelter_child\": shelter_child,\n",
    "                         \"brands\":brands,\n",
    "                         \"soup\": soup, \n",
    "                         \"text\": driver.find_element_by_id(\"ulListeProduits\").text\n",
    "                        })\n",
    "            except:\n",
    "                product_pages.append({\"url\":link,\n",
    "                     \"shelter_main\": shelter_main,\n",
    "                     \"shelter_parent\": shelter_parent,\n",
    "                     \"shelter_child\": shelter_child,\n",
    "                     \"brands\":brands,\n",
    "                     \"soup\": soup,\n",
    "                     \"text\": driver.find_element_by_id(\"ulListeProduits\").text\n",
    "                    })\n"
   ]
  },
  {
   "cell_type": "code",
   "execution_count": 131,
   "metadata": {},
   "outputs": [],
   "source": [
    "data = pd.DataFrame(product_pages)\n",
    "#data.to_csv('leclerc_catalog.csv')"
   ]
  },
  {
   "cell_type": "code",
   "execution_count": 132,
   "metadata": {},
   "outputs": [],
   "source": [
    "import html\n",
    "pages = []\n",
    "for index, row in data.iterrows():\n",
    "    soup = row.soup\n",
    "    page = html.unescape(soup.text)\n",
    "    page.find('objElement')\n",
    "    page.find('lstAssocFiltreProduit')\n",
    "    page = page[(page.find('objElement')-2):(page.find('lstAssocFiltreProduit')-2)]\n",
    "    page = page.split(\"objElement\")\n",
    "    pages.append({\"shelter_main\": row.shelter_main,\n",
    "                  \"shelter_parent\": row.shelter_parent,\n",
    "                  \"shelter_child\": row.shelter_child,                  \n",
    "                  \"brands\": row.brands,\n",
    "                  \"page\": page[1:-1]\n",
    "                })"
   ]
  },
  {
   "cell_type": "code",
   "execution_count": 136,
   "metadata": {},
   "outputs": [],
   "source": [
    "products = []\n",
    "for page in pages:\n",
    "    for content in page['page']:\n",
    "        item = content.split(\",\")\n",
    "        for line in item:\n",
    "            if \"sLibelleLigne1\" in line:\n",
    "                description1 = line[18:-1]\n",
    "            if \"sLibelleLigne2\" in line:\n",
    "                description2 = line[18:-1]\n",
    "            if \"sPrixUnitaire\" in line:\n",
    "                price = line[17:-1]\n",
    "            if \"sPrixParUniteDeMesure\" in line:\n",
    "                price_per_unit = line[25:-1]\n",
    "            if \"sPrixPromo\" in line:\n",
    "                promo_price = line[14:-1]\n",
    "            if \"sUrlVignetteProduit\" in line:\n",
    "                image_url = line[23:-1]\n",
    "            if \"sOrigineZoneDepeche\" in line:\n",
    "                origin = line[23:-1]\n",
    "            if \"sUrlPageProduit\" in line:\n",
    "                url = line[19:-1]\n",
    "            if \"iIdProduit\" in line:\n",
    "                product_id = line[13:]\n",
    "        description = description1 + \" \" + description2\n",
    "        if len(page['brands']) > 0:\n",
    "            brand = ''.join([brand for brand in page['brands'] if brand in description])\n",
    "        else:\n",
    "            brand = \"\"\n",
    "                \n",
    "        products.append({\"shelter_main\": page['shelter_main'],\n",
    "                         \"shelter_parent\": page['shelter_parent'],\n",
    "                         \"shelter_child\": page['shelter_child'],  \n",
    "                         \"description\":description, \n",
    "                         \"brand\": brand,\n",
    "                         \"price\": price,\n",
    "                         \"price_per_unit\":price_per_unit,\n",
    "                         \"promo_price\": promo_price,\n",
    "                         \"origin\":origin,\n",
    "                         \"image_url\": image_url,                    \n",
    "                         \"url\": url,\n",
    "                         \"product_id\": product_id\n",
    "                        })\n"
   ]
  },
  {
   "cell_type": "code",
   "execution_count": 137,
   "metadata": {},
   "outputs": [],
   "source": [
    "product_data = pd.DataFrame(products)\n",
    "\n",
    "export_csv = product_data.to_csv (r'/Users/vincentsalamand/Downloads/products_leclerc.csv', index = None, header=True)\n"
   ]
  },
  {
   "cell_type": "code",
   "execution_count": null,
   "metadata": {},
   "outputs": [],
   "source": []
  }
 ],
 "metadata": {
  "kernelspec": {
   "display_name": "Python 3",
   "language": "python",
   "name": "python3"
  },
  "language_info": {
   "codemirror_mode": {
    "name": "ipython",
    "version": 3
   },
   "file_extension": ".py",
   "mimetype": "text/x-python",
   "name": "python",
   "nbconvert_exporter": "python",
   "pygments_lexer": "ipython3",
   "version": "3.6.8"
  }
 },
 "nbformat": 4,
 "nbformat_minor": 2
}
