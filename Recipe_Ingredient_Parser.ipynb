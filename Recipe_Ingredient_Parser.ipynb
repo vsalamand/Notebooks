{
 "cells": [
  {
   "cell_type": "markdown",
   "metadata": {
    "colab_type": "text",
    "id": "k2ThBPOhTjY-"
   },
   "source": [
    "\n",
    "\n",
    "---\n",
    "\n",
    "\n",
    "# Set-up\n",
    "\n",
    "\n",
    "---\n",
    "\n"
   ]
  },
  {
   "cell_type": "code",
   "execution_count": 1,
   "metadata": {},
   "outputs": [
    {
     "ename": "ModuleNotFoundError",
     "evalue": "No module named 'spacy'",
     "output_type": "error",
     "traceback": [
      "\u001b[0;31m---------------------------------------------------------------------------\u001b[0m",
      "\u001b[0;31mModuleNotFoundError\u001b[0m                       Traceback (most recent call last)",
      "\u001b[0;32m<ipython-input-1-24dc51a23fb3>\u001b[0m in \u001b[0;36m<module>\u001b[0;34m\u001b[0m\n\u001b[1;32m      6\u001b[0m \u001b[0;32mimport\u001b[0m \u001b[0mpandas\u001b[0m \u001b[0;32mas\u001b[0m \u001b[0mpd\u001b[0m\u001b[0;34m\u001b[0m\u001b[0;34m\u001b[0m\u001b[0m\n\u001b[1;32m      7\u001b[0m \u001b[0;32mimport\u001b[0m \u001b[0mnumpy\u001b[0m \u001b[0;32mas\u001b[0m \u001b[0mnp\u001b[0m\u001b[0;34m\u001b[0m\u001b[0;34m\u001b[0m\u001b[0m\n\u001b[0;32m----> 8\u001b[0;31m \u001b[0;32mimport\u001b[0m \u001b[0mspacy\u001b[0m\u001b[0;34m\u001b[0m\u001b[0;34m\u001b[0m\u001b[0m\n\u001b[0m\u001b[1;32m      9\u001b[0m \u001b[0;34m\u001b[0m\u001b[0m\n\u001b[1;32m     10\u001b[0m \u001b[0;34m\u001b[0m\u001b[0m\n",
      "\u001b[0;31mModuleNotFoundError\u001b[0m: No module named 'spacy'"
     ]
    }
   ],
   "source": [
    "from bs4 import BeautifulSoup #scraping\n",
    "import requests #for HTTP requests\n",
    "import re #for regular expression\n",
    "import time \n",
    "\n",
    "import pandas as pd\n",
    "import numpy as np\n",
    "import spacy\n",
    "\n",
    "\n",
    "import random"
   ]
  },
  {
   "cell_type": "markdown",
   "metadata": {
    "colab_type": "text",
    "id": "YLnI43SkShc1"
   },
   "source": [
    "\n",
    "\n",
    "---\n",
    "\n",
    "\n",
    "# Web Scraping Recipes \n",
    "\n",
    "---\n",
    "\n"
   ]
  },
  {
   "cell_type": "markdown",
   "metadata": {
    "colab_type": "text",
    "id": "uwwb8A9kTZMD"
   },
   "source": [
    "The recipes are scraped from [allrecipes.com](https://www.allrecipes.com). The website has a lot of recipes from various cuisines and seems to be well-maintained and moderated in terms of the recipes. Thus, I chose to work with this website. \n",
    "\n",
    "However, on exploring the website further, I noticed that the website has two different webpages versions for recipes. This could be a remenant of a previous template which have not been migrated to the newer template. Thus, I build a function to scrape these two different versions of the recipe webpage to scrape ingredients list. "
   ]
  },
  {
   "cell_type": "markdown",
   "metadata": {
    "colab_type": "text",
    "id": "QBHRRVp-SojE"
   },
   "source": [
    "### 1. Defining function to scrape the website \"allrecipes.com\"\n",
    "\n",
    "---\n",
    "\n"
   ]
  },
  {
   "cell_type": "code",
   "execution_count": 0,
   "metadata": {
    "colab": {},
    "colab_type": "code",
    "id": "eg68uIWKGSEf"
   },
   "outputs": [],
   "source": [
    "def getRecipeLink(url, totalPage):\n",
    "    recipes_all = []\n",
    "    for page in range(1, totalPage):\n",
    "        r = requests.get(base_url + str(page)) #returns a variable which contains the html doc unstructured\n",
    "        html = BeautifulSoup(r.content, \"html.parser\")\n",
    "        k = 0 #to count recipes per page\n",
    "        for i in html.findAll('article', {\"class\": \"fixed-recipe-card\"}):\n",
    "            link = i.find(\"a\", attrs={'href': re.compile(\"^https://www.allrecipes.com/recipe\")})\n",
    "            name = i.find('span', {\"class\":\"fixed-recipe-card__title-link\"}).text\n",
    "            recipes_all.append({\"name\" : name, \"url\" : link['href']})\n",
    "            k+=1\n",
    "        print(\"Extracted {0} recipes\".format(k))\n",
    "    return recipes_all"
   ]
  },
  {
   "cell_type": "code",
   "execution_count": 0,
   "metadata": {
    "colab": {},
    "colab_type": "code",
    "id": "Tt3EvwhYGZ4D"
   },
   "outputs": [],
   "source": [
    "def getIngredients(version, ingredientSoup):\n",
    "    ingrdList = []\n",
    "    if version == 0:\n",
    "        attrs = {'class':'ingredients-item'}\n",
    "    elif version == 1:\n",
    "        attrs = {'class':\"checkList__line\"}\n",
    "    for ul in ingredientSoup:\n",
    "        for li in ul.findAll('li', attrs):\n",
    "            ing = li.find(\"span\").text.strip() #basic stripping to eliminate whitespaces\n",
    "            if ing != \"Add all ingredients to list\": #sometimes this is read in too\n",
    "                ingrdList.append(ing)\n",
    "    return(ingrdList)\n",
    "\n",
    "def getEachRecipe(recipesList):\n",
    "    for ix in range(len(recipesList)):\n",
    "        url = recipesList[ix]['url']\n",
    "        r = requests.get(url) #returns a variable which contains the html doc unstructured\n",
    "        currRecipe = BeautifulSoup(r.content, \"html.parser\")\n",
    "        #there are two versions of the website, the old and new have different html structure\n",
    "        #they require different parsing\n",
    "        ver = 0\n",
    "        if currRecipe.find_all('ul', {'class':'ingredients-section'}):\n",
    "            ingredients  = currRecipe.find_all('ul', {'class':'ingredients-section'}) \n",
    "        else:\n",
    "            ingredients = currRecipe.findAll('ul', {'id':re.compile('^lst_ingredients')})\n",
    "            ver = 1\n",
    "        currIngredient = getIngredients(ver,ingredients)\n",
    "        recipesList[ix]['ingredients'] = currIngredient\n",
    "        print(\"\\r\", \"Adding {0} ingredients to {1} recipe\".format(len(currIngredient), ix + 1), end=\" \")"
   ]
  },
  {
   "cell_type": "markdown",
   "metadata": {
    "colab_type": "text",
    "id": "8L1gxhrqTK4g"
   },
   "source": [
    "### 2. Scraping more than 100 recipes' name, link, and ingredients\n",
    "\n",
    "\n",
    "---\n"
   ]
  },
  {
   "cell_type": "code",
   "execution_count": 0,
   "metadata": {
    "colab": {},
    "colab_type": "code",
    "id": "QrGSZ4sLGKua"
   },
   "outputs": [],
   "source": [
    "base_url = \"https://www.allrecipes.com/recipes/?page=\""
   ]
  },
  {
   "cell_type": "code",
   "execution_count": 35,
   "metadata": {
    "colab": {
     "base_uri": "https://localhost:8080/",
     "height": 131
    },
    "colab_type": "code",
    "id": "tV6EFt4OMpbZ",
    "outputId": "5b5c7972-8cf1-4fd2-e55d-3cfdde3bc6a2"
   },
   "outputs": [
    {
     "name": "stdout",
     "output_type": "stream",
     "text": [
      "Extracted 29 recipes\n",
      "Extracted 20 recipes\n",
      "Extracted 20 recipes\n",
      "Extracted 20 recipes\n",
      "Extracted 20 recipes\n",
      "Extracted 20 recipes\n",
      "129 recipes are scraped and stored.\n"
     ]
    }
   ],
   "source": [
    "#getting the recipe link\n",
    "recipes = getRecipeLink(base_url,7)\n",
    "print(\"{0} recipes are scraped and stored.\".format(len(recipes)))"
   ]
  },
  {
   "cell_type": "code",
   "execution_count": 430,
   "metadata": {
    "colab": {
     "base_uri": "https://localhost:8080/",
     "height": 32
    },
    "colab_type": "code",
    "id": "gRDqpQcVNHNq",
    "outputId": "f0a8b2e5-5947-4d60-b49c-2e195cd71314"
   },
   "outputs": [
    {
     "name": "stdout",
     "output_type": "stream",
     "text": [
      " Adding 12 ingredients to 129 recipe "
     ]
    }
   ],
   "source": [
    "#getting ingredients\n",
    "getEachRecipe(recipes)"
   ]
  },
  {
   "cell_type": "code",
   "execution_count": 431,
   "metadata": {
    "colab": {
     "base_uri": "https://localhost:8080/",
     "height": 477
    },
    "colab_type": "code",
    "id": "qRmosvVYNPaG",
    "outputId": "a5a8807d-512d-41a3-e9e0-5b37383466b9"
   },
   "outputs": [
    {
     "data": {
      "text/plain": [
       "[{'ingredients': ['6 ounces ground beef',\n",
       "   '4 drops Worcestershire sauce, or to taste',\n",
       "   '3 pinches garlic powder',\n",
       "   'freshly ground black pepper to taste',\n",
       "   'kosher salt to taste',\n",
       "   '1 pinch cayenne pepper',\n",
       "   '1 slice Cheddar cheese',\n",
       "   '1  hamburger bun, split',\n",
       "   '1 slice tomato',\n",
       "   '1 leaf lettuce'],\n",
       "  'name': \"Chef John's Juicy Lucy\",\n",
       "  'url': 'https://www.allrecipes.com/recipe/267875/chef-johns-juicy-lucy/'},\n",
       " {'ingredients': ['1\\u2009½ pounds lean ground beef',\n",
       "   '½  onion, finely chopped',\n",
       "   '½ cup shredded Colby Jack or Cheddar cheese',\n",
       "   '1 teaspoon soy sauce',\n",
       "   '1 teaspoon Worcestershire sauce',\n",
       "   '1  egg',\n",
       "   '1 (1 ounce) envelope dry onion soup mix',\n",
       "   '1 clove garlic, minced',\n",
       "   '1 tablespoon garlic powder',\n",
       "   '1 teaspoon dried parsley',\n",
       "   '1 teaspoon dried basil',\n",
       "   '1 teaspoon dried oregano',\n",
       "   '½ teaspoon crushed dried rosemary',\n",
       "   'salt and pepper to taste'],\n",
       "  'name': 'Best Hamburger Ever',\n",
       "  'url': 'https://www.allrecipes.com/recipe/72657/best-hamburger-ever/'}]"
      ]
     },
     "execution_count": 431,
     "metadata": {
      "tags": []
     },
     "output_type": "execute_result"
    }
   ],
   "source": [
    "recipes[:2]"
   ]
  },
  {
   "cell_type": "markdown",
   "metadata": {
    "colab_type": "text",
    "id": "oh2f-alUO8XS"
   },
   "source": [
    "\n",
    "\n",
    "---\n",
    "---\n",
    "\n",
    "On investigating the 129 scraped recipes, it was observed that there are several formatting pecularities unique to this case. These pecularities aren't all related to ingredient names and are stated as below:\n",
    "\n",
    "*   Measurements are represented as ½ (called vulgar fractions)\n",
    "*   Several non-alphanumeric characters such as \n",
    "    *   copyright and trademark symbols used to identify ingredients\n",
    "    *   comma as used in \"½  onion, finely chopped\"\n",
    "    *   brackets as used in \"1 (1 ounce) envelope dry onion soup mix\"\n",
    "    *   hyphens (-)  as used in \"all-purpose flour\"\n",
    "\n",
    "\n",
    "---\n",
    "---\n"
   ]
  },
  {
   "cell_type": "code",
   "execution_count": 0,
   "metadata": {
    "colab": {},
    "colab_type": "code",
    "id": "7ZzlsE50WXxe"
   },
   "outputs": [],
   "source": [
    "#conver to dataframe\n",
    "base_df = pd.DataFrame(recipes)\n",
    "ingredient = base_df.apply(lambda x: pd.Series(x['ingredients']), axis=1).stack().reset_index(level=1, drop=True)\n",
    "ingredient.name = 'ingredient'\n",
    "recipes_df= base_df.drop('ingredients', axis=1).join(ingredient)\n",
    "recipes_df['ingredient'] = pd.Series(recipes_df['ingredient'], dtype=object)\n",
    "recipes_df.reset_index(inplace = True,drop='index')\n",
    "recipes_df = recipes_df[['url', 'name', 'ingredient']]"
   ]
  },
  {
   "cell_type": "code",
   "execution_count": 436,
   "metadata": {
    "colab": {
     "base_uri": "https://localhost:8080/",
     "height": 201
    },
    "colab_type": "code",
    "id": "yUm5E9uVWgfE",
    "outputId": "e77f5c66-2bd5-42f7-ed5f-6abbd326cdb8"
   },
   "outputs": [
    {
     "data": {
      "text/html": [
       "<div>\n",
       "<style scoped>\n",
       "    .dataframe tbody tr th:only-of-type {\n",
       "        vertical-align: middle;\n",
       "    }\n",
       "\n",
       "    .dataframe tbody tr th {\n",
       "        vertical-align: top;\n",
       "    }\n",
       "\n",
       "    .dataframe thead th {\n",
       "        text-align: right;\n",
       "    }\n",
       "</style>\n",
       "<table border=\"1\" class=\"dataframe\">\n",
       "  <thead>\n",
       "    <tr style=\"text-align: right;\">\n",
       "      <th></th>\n",
       "      <th>url</th>\n",
       "      <th>name</th>\n",
       "      <th>ingredient</th>\n",
       "    </tr>\n",
       "  </thead>\n",
       "  <tbody>\n",
       "    <tr>\n",
       "      <th>0</th>\n",
       "      <td>https://www.allrecipes.com/recipe/267875/chef-...</td>\n",
       "      <td>Chef John's Juicy Lucy</td>\n",
       "      <td>6 ounces ground beef</td>\n",
       "    </tr>\n",
       "    <tr>\n",
       "      <th>1</th>\n",
       "      <td>https://www.allrecipes.com/recipe/267875/chef-...</td>\n",
       "      <td>Chef John's Juicy Lucy</td>\n",
       "      <td>4 drops Worcestershire sauce, or to taste</td>\n",
       "    </tr>\n",
       "    <tr>\n",
       "      <th>2</th>\n",
       "      <td>https://www.allrecipes.com/recipe/267875/chef-...</td>\n",
       "      <td>Chef John's Juicy Lucy</td>\n",
       "      <td>3 pinches garlic powder</td>\n",
       "    </tr>\n",
       "    <tr>\n",
       "      <th>3</th>\n",
       "      <td>https://www.allrecipes.com/recipe/267875/chef-...</td>\n",
       "      <td>Chef John's Juicy Lucy</td>\n",
       "      <td>freshly ground black pepper to taste</td>\n",
       "    </tr>\n",
       "    <tr>\n",
       "      <th>4</th>\n",
       "      <td>https://www.allrecipes.com/recipe/267875/chef-...</td>\n",
       "      <td>Chef John's Juicy Lucy</td>\n",
       "      <td>kosher salt to taste</td>\n",
       "    </tr>\n",
       "  </tbody>\n",
       "</table>\n",
       "</div>"
      ],
      "text/plain": [
       "                                                 url  ...                                 ingredient\n",
       "0  https://www.allrecipes.com/recipe/267875/chef-...  ...                       6 ounces ground beef\n",
       "1  https://www.allrecipes.com/recipe/267875/chef-...  ...  4 drops Worcestershire sauce, or to taste\n",
       "2  https://www.allrecipes.com/recipe/267875/chef-...  ...                    3 pinches garlic powder\n",
       "3  https://www.allrecipes.com/recipe/267875/chef-...  ...       freshly ground black pepper to taste\n",
       "4  https://www.allrecipes.com/recipe/267875/chef-...  ...                       kosher salt to taste\n",
       "\n",
       "[5 rows x 3 columns]"
      ]
     },
     "execution_count": 436,
     "metadata": {
      "tags": []
     },
     "output_type": "execute_result"
    }
   ],
   "source": [
    "recipes_df.head()"
   ]
  },
  {
   "cell_type": "code",
   "execution_count": 0,
   "metadata": {
    "colab": {},
    "colab_type": "code",
    "id": "H-xRO8O0ZzvP"
   },
   "outputs": [],
   "source": [
    "recipes_df.to_csv(\"rawData.csv\")"
   ]
  },
  {
   "cell_type": "markdown",
   "metadata": {
    "colab_type": "text",
    "id": "BZlDCF39VWgi"
   },
   "source": [
    "# Cleaning Data"
   ]
  },
  {
   "cell_type": "markdown",
   "metadata": {
    "colab_type": "text",
    "id": "OId8kthwaRY_"
   },
   "source": [
    "\n",
    "\n",
    "---\n",
    "\n",
    "\n",
    "---\n",
    "The cleaning will take place in two phases:\n",
    "1. **Primary Cleaning:** The objective of the first phase is to ensure that the data is readable and accessible on all platforms by fixing encoding errors and eliminating symbols which aren't translated well across platforms. This cleaning will not get rid of any punctuations, stopwords etc.\n",
    "\n",
    "2. **Problem-specific cleaning** :The objective of the second phase of the cleaning is to prepare the data for our calculations and is centered on the problem set requirement. \n",
    "\n",
    "I believe it is a good practice to separate the both, as if requirements change in the future you can always proceed with the result of the first cleaning phase to perform another analysis altogether.\n",
    "\n",
    "\n",
    "\n",
    "\n",
    "\n",
    "\n",
    "---\n",
    "\n",
    "\n",
    "\n",
    "---\n"
   ]
  },
  {
   "cell_type": "markdown",
   "metadata": {
    "colab_type": "text",
    "id": "X9kKDLMqcSi3"
   },
   "source": [
    "### 1. Primary Cleaning \n",
    "\n",
    "\n",
    "---\n",
    "\n"
   ]
  },
  {
   "cell_type": "code",
   "execution_count": 0,
   "metadata": {
    "colab": {},
    "colab_type": "code",
    "id": "DNg0vxHpXtN4"
   },
   "outputs": [],
   "source": [
    "#primary cleaning\n",
    "#convert vulgar fractions \n",
    "import unicodedata\n",
    "unicodedata.numeric(u'⅕')\n",
    "unicodedata.name(u'⅕')\n",
    "\n",
    "#convert vulgar fractions\n",
    "for ix, row in recipes_df.iterrows():\n",
    "    for char in row['ingredient']:\n",
    "        if unicodedata.name(char).startswith('VULGAR FRACTION'):  \n",
    "            normalized = unicodedata.normalize('NFKC', char)\n",
    "            recipes_df.iloc[ix, 2] = recipes_df.iloc[ix, 2].replace(char, normalized)"
   ]
  },
  {
   "cell_type": "code",
   "execution_count": 440,
   "metadata": {
    "colab": {
     "base_uri": "https://localhost:8080/",
     "height": 201
    },
    "colab_type": "code",
    "id": "cQ8OQAZrg9v_",
    "outputId": "49d48654-b648-4381-c5d9-ba9ae1084164"
   },
   "outputs": [
    {
     "data": {
      "text/html": [
       "<div>\n",
       "<style scoped>\n",
       "    .dataframe tbody tr th:only-of-type {\n",
       "        vertical-align: middle;\n",
       "    }\n",
       "\n",
       "    .dataframe tbody tr th {\n",
       "        vertical-align: top;\n",
       "    }\n",
       "\n",
       "    .dataframe thead th {\n",
       "        text-align: right;\n",
       "    }\n",
       "</style>\n",
       "<table border=\"1\" class=\"dataframe\">\n",
       "  <thead>\n",
       "    <tr style=\"text-align: right;\">\n",
       "      <th></th>\n",
       "      <th>url</th>\n",
       "      <th>name</th>\n",
       "      <th>ingredient</th>\n",
       "    </tr>\n",
       "  </thead>\n",
       "  <tbody>\n",
       "    <tr>\n",
       "      <th>10</th>\n",
       "      <td>https://www.allrecipes.com/recipe/72657/best-h...</td>\n",
       "      <td>Best Hamburger Ever</td>\n",
       "      <td>1 1⁄2 pounds lean ground beef</td>\n",
       "    </tr>\n",
       "    <tr>\n",
       "      <th>11</th>\n",
       "      <td>https://www.allrecipes.com/recipe/72657/best-h...</td>\n",
       "      <td>Best Hamburger Ever</td>\n",
       "      <td>1⁄2  onion, finely chopped</td>\n",
       "    </tr>\n",
       "    <tr>\n",
       "      <th>12</th>\n",
       "      <td>https://www.allrecipes.com/recipe/72657/best-h...</td>\n",
       "      <td>Best Hamburger Ever</td>\n",
       "      <td>1⁄2 cup shredded Colby Jack or Cheddar cheese</td>\n",
       "    </tr>\n",
       "    <tr>\n",
       "      <th>13</th>\n",
       "      <td>https://www.allrecipes.com/recipe/72657/best-h...</td>\n",
       "      <td>Best Hamburger Ever</td>\n",
       "      <td>1 teaspoon soy sauce</td>\n",
       "    </tr>\n",
       "    <tr>\n",
       "      <th>14</th>\n",
       "      <td>https://www.allrecipes.com/recipe/72657/best-h...</td>\n",
       "      <td>Best Hamburger Ever</td>\n",
       "      <td>1 teaspoon Worcestershire sauce</td>\n",
       "    </tr>\n",
       "  </tbody>\n",
       "</table>\n",
       "</div>"
      ],
      "text/plain": [
       "                                                  url  ...                                     ingredient\n",
       "10  https://www.allrecipes.com/recipe/72657/best-h...  ...                  1 1⁄2 pounds lean ground beef\n",
       "11  https://www.allrecipes.com/recipe/72657/best-h...  ...                     1⁄2  onion, finely chopped\n",
       "12  https://www.allrecipes.com/recipe/72657/best-h...  ...  1⁄2 cup shredded Colby Jack or Cheddar cheese\n",
       "13  https://www.allrecipes.com/recipe/72657/best-h...  ...                           1 teaspoon soy sauce\n",
       "14  https://www.allrecipes.com/recipe/72657/best-h...  ...                1 teaspoon Worcestershire sauce\n",
       "\n",
       "[5 rows x 3 columns]"
      ]
     },
     "execution_count": 440,
     "metadata": {
      "tags": []
     },
     "output_type": "execute_result"
    }
   ],
   "source": [
    "#sanity check for vulgar fractions removal\n",
    "recipes_df.iloc[10:15, :]"
   ]
  },
  {
   "cell_type": "markdown",
   "metadata": {
    "colab_type": "text",
    "id": "HIZ7mSO1cfIm"
   },
   "source": [
    "### 2. Problem-specific Cleaning\n",
    "\n",
    "---\n"
   ]
  },
  {
   "cell_type": "markdown",
   "metadata": {
    "colab_type": "text",
    "id": "Wl4UsbrNmLyu"
   },
   "source": [
    "The **objective is to extract the ingredient name** from sentences which contain additional information such as measurement, unit of measurement, ingredient state-specific information (chopped, minced, frozen etc). \n",
    "\n",
    "\n",
    "\n",
    "\n",
    "\n",
    "\n"
   ]
  },
  {
   "cell_type": "markdown",
   "metadata": {
    "colab_type": "text",
    "id": "f1e0R60cuwX7"
   },
   "source": [
    "#### 2a. Data Exploration\n",
    "---"
   ]
  },
  {
   "cell_type": "markdown",
   "metadata": {
    "colab_type": "text",
    "id": "WeWXNrRGeTpP"
   },
   "source": [
    "In order to eliminate the additional information, the position of the additional information w.r.t the ingredient name is helpful. It is indicative of the position of the ingredient and almost follows a pattern though not strictly. \n",
    "\n",
    "A few patterns and their example are:\n",
    "\n",
    "\n",
    "1.  Pattern: quantity measurement ingredient\n",
    ">      Example: 1 teaspoon soy sauce\n",
    "\n",
    "2.  Pattern: quantity ingredient\n",
    ">     Example: 2 eggs\n",
    "\n",
    "3.   Pattern: quantity quantity ingredient, ingredient-specific information\n",
    ">     Example: 1⁄2 onion, finely chopped\n"
   ]
  },
  {
   "cell_type": "markdown",
   "metadata": {
    "colab_type": "text",
    "id": "00xMVuczuo3C"
   },
   "source": [
    "A few other patterns can be observed here"
   ]
  },
  {
   "cell_type": "code",
   "execution_count": 441,
   "metadata": {
    "colab": {
     "base_uri": "https://localhost:8080/",
     "height": 214
    },
    "colab_type": "code",
    "id": "dDv7gixLdiIQ",
    "outputId": "a0187aad-3b2f-48a4-859b-ea69fffc2c80"
   },
   "outputs": [
    {
     "data": {
      "text/plain": [
       "0                                  6 ounces ground beef\n",
       "1             4 drops Worcestershire sauce, or to taste\n",
       "2                               3 pinches garlic powder\n",
       "3                  freshly ground black pepper to taste\n",
       "4                                  kosher salt to taste\n",
       "                             ...                       \n",
       "1200        2 large green bell peppers, roughly chopped\n",
       "1201    1 (14.5 ounce) can stewed tomatoes, with liquid\n",
       "1202                            3 tablespoons soy sauce\n",
       "1203                             1 teaspoon white sugar\n",
       "1204                                    1 teaspoon salt\n",
       "Name: ingredient, Length: 1205, dtype: object"
      ]
     },
     "execution_count": 441,
     "metadata": {
      "tags": []
     },
     "output_type": "execute_result"
    }
   ],
   "source": [
    "recipes_df.ingredient"
   ]
  },
  {
   "cell_type": "markdown",
   "metadata": {
    "colab_type": "text",
    "id": "5S2soqvPu5Ph"
   },
   "source": [
    "Let's see if there are any overlaps in this cleaned data."
   ]
  },
  {
   "cell_type": "code",
   "execution_count": 442,
   "metadata": {
    "colab": {
     "base_uri": "https://localhost:8080/",
     "height": 214
    },
    "colab_type": "code",
    "id": "AEfTmXzmqfLd",
    "outputId": "441c1213-6704-48d7-f641-b9fe29943fd1"
   },
   "outputs": [
    {
     "data": {
      "text/plain": [
       "1⁄2 teaspoon salt                           19\n",
       "1 teaspoon salt                             17\n",
       "1 teaspoon vanilla extract                  16\n",
       "2  eggs                                     14\n",
       "1 teaspoon baking soda                      13\n",
       "                                            ..\n",
       "1 teaspoon chicken bouillon granules         1\n",
       "4 eggs, beaten                               1\n",
       "1/4 teaspoon hot pepper sauce (optional)     1\n",
       "1/8 teaspoon ground black pepper             1\n",
       "1 pinch ground black pepper to taste         1\n",
       "Name: ingredient, Length: 806, dtype: int64"
      ]
     },
     "execution_count": 442,
     "metadata": {
      "tags": []
     },
     "output_type": "execute_result"
    }
   ],
   "source": [
    "recipes_df.ingredient.value_counts()"
   ]
  },
  {
   "cell_type": "markdown",
   "metadata": {
    "colab_type": "text",
    "id": "wve9Y4fWvHlu"
   },
   "source": [
    "#### 2b. Ingredient Extraction Methodology via Named Entity Recognition\n",
    "\n",
    "---"
   ]
  },
  {
   "cell_type": "markdown",
   "metadata": {
    "colab_type": "text",
    "id": "GqUxEmd4vNUh"
   },
   "source": [
    "With this problem-specific intuition and data knowledge, there are a few approaches that we can use. \n",
    "\n",
    "**Approach 1:**\n",
    "\n",
    "Since there is a dependency among the components of the sentence and we know that the ingredient name will be a noun, we can use this information along with custom regex expression to eliminate measurement units to extract the ingredient name.\n",
    "\n",
    "This has been explored in ***the appendix section***. \n",
    "\n",
    "**Approach 2:**\n",
    "\n",
    "***Named Entity Recognition (NER)*** can be used to extract ingredient name from the unstructured text. [Named Entity Recognition](https://www.google.com/url?sa=t&rct=j&q=&esrc=s&source=web&cd=&cad=rja&uact=8&ved=2ahUKEwj5o8r1ttHpAhWMA3IKHaegBZgQFjABegQIBBAB&url=https%3A%2F%2Fen.wikipedia.org%2Fwiki%2FNamed-entity_recognition&usg=AOvVaw0gBRQzjbYCnfBi_ocUVXYa) is one of the first tasks of information extraction that seeks to locate and classify named entity mentioned in unstructed text into pre-defined categories such as people, organizations etc. \n",
    "\n",
    "**To create a custom named entity recongition model**, we need training data which is annonated in the format specified by spacy documentation. To do this, I collected a subset of data from [NY Times public dataset](https://raw.githubusercontent.com/nytimes/ingredient-phrase-tagger/master/nyt-ingredients-snapshot-2015.csv) of ingredients  to ensure the training data is representative of the data we have scraped. \n",
    "\n",
    "\n"
   ]
  },
  {
   "cell_type": "markdown",
   "metadata": {
    "colab_type": "text",
    "id": "PhnIJ2b5eyGY"
   },
   "source": [
    "##### *Extract NYTimes Dataset*\n"
   ]
  },
  {
   "cell_type": "code",
   "execution_count": 443,
   "metadata": {
    "colab": {
     "base_uri": "https://localhost:8080/",
     "height": 32
    },
    "colab_type": "code",
    "id": "uZmAPdBEvMVM",
    "outputId": "555377e9-8b7b-437c-a841-f297ef443f1b"
   },
   "outputs": [
    {
     "name": "stdout",
     "output_type": "stream",
     "text": [
      "There are 179207 rows in the NY Times dataset\n"
     ]
    }
   ],
   "source": [
    "#extract the dataset\n",
    "NY_train_data = pd.read_csv(\"https://raw.githubusercontent.com/nytimes/ingredient-phrase-tagger/master/nyt-ingredients-snapshot-2015.csv\")\n",
    "print(\"There are {0} rows in the NY Times dataset\".format(NY_train_data.shape[0]))"
   ]
  },
  {
   "cell_type": "code",
   "execution_count": 298,
   "metadata": {
    "colab": {
     "base_uri": "https://localhost:8080/",
     "height": 231
    },
    "colab_type": "code",
    "id": "xJEI1e3Y8qQv",
    "outputId": "ead0165a-7dae-4750-eec7-6fee55ba97d9"
   },
   "outputs": [
    {
     "data": {
      "text/html": [
       "<div>\n",
       "<style scoped>\n",
       "    .dataframe tbody tr th:only-of-type {\n",
       "        vertical-align: middle;\n",
       "    }\n",
       "\n",
       "    .dataframe tbody tr th {\n",
       "        vertical-align: top;\n",
       "    }\n",
       "\n",
       "    .dataframe thead th {\n",
       "        text-align: right;\n",
       "    }\n",
       "</style>\n",
       "<table border=\"1\" class=\"dataframe\">\n",
       "  <thead>\n",
       "    <tr style=\"text-align: right;\">\n",
       "      <th></th>\n",
       "      <th>index</th>\n",
       "      <th>input</th>\n",
       "      <th>name</th>\n",
       "      <th>qty</th>\n",
       "      <th>range_end</th>\n",
       "      <th>unit</th>\n",
       "      <th>comment</th>\n",
       "    </tr>\n",
       "  </thead>\n",
       "  <tbody>\n",
       "    <tr>\n",
       "      <th>0</th>\n",
       "      <td>0</td>\n",
       "      <td>1 1/4 cups cooked and pureed fresh butternut s...</td>\n",
       "      <td>butternut squash</td>\n",
       "      <td>1.25</td>\n",
       "      <td>0.0</td>\n",
       "      <td>cup</td>\n",
       "      <td>cooked and pureed fresh, or 1 10-ounce package...</td>\n",
       "    </tr>\n",
       "    <tr>\n",
       "      <th>1</th>\n",
       "      <td>1</td>\n",
       "      <td>1 cup peeled and cooked fresh chestnuts (about...</td>\n",
       "      <td>chestnuts</td>\n",
       "      <td>1.00</td>\n",
       "      <td>0.0</td>\n",
       "      <td>cup</td>\n",
       "      <td>peeled and cooked fresh (about 20), or 1 cup c...</td>\n",
       "    </tr>\n",
       "    <tr>\n",
       "      <th>2</th>\n",
       "      <td>2</td>\n",
       "      <td>1 medium-size onion, peeled and chopped</td>\n",
       "      <td>onion</td>\n",
       "      <td>1.00</td>\n",
       "      <td>0.0</td>\n",
       "      <td>NaN</td>\n",
       "      <td>medium-size, peeled and chopped</td>\n",
       "    </tr>\n",
       "    <tr>\n",
       "      <th>3</th>\n",
       "      <td>3</td>\n",
       "      <td>2 stalks celery, chopped coarse</td>\n",
       "      <td>celery</td>\n",
       "      <td>2.00</td>\n",
       "      <td>0.0</td>\n",
       "      <td>stalk</td>\n",
       "      <td>chopped coarse</td>\n",
       "    </tr>\n",
       "    <tr>\n",
       "      <th>4</th>\n",
       "      <td>4</td>\n",
       "      <td>1 1/2 tablespoons vegetable oil</td>\n",
       "      <td>vegetable oil</td>\n",
       "      <td>1.50</td>\n",
       "      <td>0.0</td>\n",
       "      <td>tablespoon</td>\n",
       "      <td>NaN</td>\n",
       "    </tr>\n",
       "    <tr>\n",
       "      <th>5</th>\n",
       "      <td>5</td>\n",
       "      <td>NaN</td>\n",
       "      <td>water</td>\n",
       "      <td>0.50</td>\n",
       "      <td>0.0</td>\n",
       "      <td>cup</td>\n",
       "      <td>NaN</td>\n",
       "    </tr>\n",
       "  </tbody>\n",
       "</table>\n",
       "</div>"
      ],
      "text/plain": [
       "   index  ...                                            comment\n",
       "0      0  ...  cooked and pureed fresh, or 1 10-ounce package...\n",
       "1      1  ...  peeled and cooked fresh (about 20), or 1 cup c...\n",
       "2      2  ...                    medium-size, peeled and chopped\n",
       "3      3  ...                                     chopped coarse\n",
       "4      4  ...                                                NaN\n",
       "5      5  ...                                                NaN\n",
       "\n",
       "[6 rows x 7 columns]"
      ]
     },
     "execution_count": 298,
     "metadata": {
      "tags": []
     },
     "output_type": "execute_result"
    }
   ],
   "source": [
    "NY_train_data.head(6)"
   ]
  },
  {
   "cell_type": "markdown",
   "metadata": {
    "colab_type": "text",
    "id": "9V5DQb-T9p1m"
   },
   "source": [
    "We observe from the snippet of NY Times dataset that we need only input and name to create our training dataset. Thus, lets proceed with these two. The data for training custom NER has to be of the form\n",
    "\n",
    "\n",
    "\n",
    ">     TRAIN_DATA = [('3 tablespoons chopped fresh sage',\n",
    "                    {'entities': [(28, 32, 'INGREDIENT')]}),\n",
    "                    ('1/4 cup brown sugar',\n",
    "                    {'entities': [(8, 19, 'INGREDIENT')]}),\n",
    "                    ('1 1/2 cups heavy cream',\n",
    "                    {'entities': [(11, 22, 'INGREDIENT')]}),\n",
    "                    ('1 1/4 cups whole milk',\n",
    "                    {'entities': [(11, 21, 'INGREDIENT')]})\n",
    "\n",
    "Here, the number are the starting and the ending position of the ingredient name in the sentence.\n",
    "\n",
    "However, the data extracted from the NY Times dataset is not in the format that we need to train the NER model. Additionally, there are 179206 rows in the dataset of which I will utilize a small subset of around 600 rows as Spacy's NER is extremely powerful and learns very quickly. Thus, I wrote the script to convert it into the specified format.\n",
    "\n"
   ]
  },
  {
   "cell_type": "markdown",
   "metadata": {
    "colab_type": "text",
    "id": "JvIYWMoRe8_f"
   },
   "source": [
    "##### *Clean & Transform NYTimes Dataset*"
   ]
  },
  {
   "cell_type": "markdown",
   "metadata": {
    "colab_type": "text",
    "id": "q3jh2RiQfGyc"
   },
   "source": [
    "For cleaning,\n",
    "\n",
    "1.   The columns - input, name - are converted to string \n",
    "2.   Words to be removed from the name column are identified as sometimes the name column contains descriptive information\n",
    "3.   Words are removed from name column if there is additional information present\n",
    "4.   Parantheses and text between parantheses is eliminated for name column as it contains additional information\n",
    "5.   Drop rows which contain null values for input and name column. This form of imputation is acceptable here as we are utilizing a very small subset of the data and there aren't many null values in the original dataset.  \n",
    "\n"
   ]
  },
  {
   "cell_type": "code",
   "execution_count": 0,
   "metadata": {
    "colab": {},
    "colab_type": "code",
    "id": "wDoRLbbGCeNy"
   },
   "outputs": [],
   "source": [
    "#convert input and name to string\n",
    "NY_train_data['input'] = NY_train_data['input'].astype(str)\n",
    "NY_train_data['name'] = NY_train_data['name'].astype(str)"
   ]
  },
  {
   "cell_type": "code",
   "execution_count": 0,
   "metadata": {
    "colab": {},
    "colab_type": "code",
    "id": "5PclRs0FEJRf"
   },
   "outputs": [],
   "source": [
    "#clean the name column with these words\n",
    "remove_words = ['ground','to','taste', 'and', 'or', 'powder','white','red','green','yellow', 'can', 'seed', 'into', 'cut', 'grated',\\\n",
    "                'leaf','package','finely','divided','a','piece','optional','inch','needed','more','drained','for','flake','juice','dry','breast',\\\n",
    "                'extract','yellow','thinly','boneless','skinless','cubed','bell','bunch','cube','slice','pod','beaten','seeded','broth','uncooked',\\\n",
    "                'root','plain','baking','heavy','halved','crumbled','sweet','with','hot','confectioner','room','temperature','trimmed',\\\n",
    "                'all-purpose','sauce','crumb','deveined','bulk','seasoning','jar','food','sundried','italianstyle','if','bag','mix','in',\\\n",
    "                'each','roll','instant','double','such','extra-virgin','frying','thawed','whipping','stock','rinsed','mild','sprig','brown',\\\n",
    "                'freshly','toasted','link','boiling','cooked','basmati','unsalted','container','split','cooking','thin','lengthwise','warm',\\\n",
    "                'softened','thick','quartered','juiced','pitted','chunk','melted','cold','coloring','puree','cored','stewed',\\\n",
    "                'floret','coarsely','the','clarified','blanched','zested','sweetened','powdered','longgrain','garnish','indian','dressing',\\\n",
    "                'soup','at','active','french','lean','chip','sour','condensed','long','smoked','ripe','skinned','fillet','from','stem','flaked',\\\n",
    "                'removed','zest','stalk','unsweetened','baby','cover','crust', 'extra', 'prepared', 'blend', 'of', 'ring','plus','firmly', 'packed',\\\n",
    "                'lightly','level','even','rounded','heaping','heaped','sifted','bushel','peck','stick','chopped','sliced','halves', 'shredded',\\\n",
    "                'slivered','sliced','whole','paste','whole',' fresh', 'peeled', 'diced','mashed','dried','frozen','fresh','peeled','candied',\\\n",
    "                'no', 'pulp','crystallized','canned','crushed','minced','julienned','clove','head', 'small','large','medium', 'good', 'quality', \\\n",
    "                'freshly']\n"
   ]
  },
  {
   "cell_type": "code",
   "execution_count": 0,
   "metadata": {
    "colab": {},
    "colab_type": "code",
    "id": "Tfxr2kuCNSWI"
   },
   "outputs": [],
   "source": [
    "#drop null \n",
    "NY_train_data = NY_train_data.dropna(axis = 0, subset = ['input', 'name'])"
   ]
  },
  {
   "cell_type": "code",
   "execution_count": 0,
   "metadata": {
    "colab": {},
    "colab_type": "code",
    "id": "0u5_vYVV-ETT"
   },
   "outputs": [],
   "source": [
    "def cleanNYData(df, col, size):\n",
    "  #clean extra words and brackets\n",
    "    cleaned_col = []\n",
    "    for _, row in df.iloc[:size].iterrows():\n",
    "        #remove text within parantheses along with the parantheses\n",
    "        row[col] = re.sub(\"[\\(\\[].*?[\\)\\]]\", \"\", row[col])\n",
    "        row[col] = row[col].replace(\"-\", \"\")\n",
    "        curr_row =  row[col].split()\n",
    "        if len(curr_row) > 1:\n",
    "            resultwords  = [word for word in curr_row if word.lower() not in remove_words]\n",
    "            row[col] = ' '.join(resultwords)\n",
    "        if row[col] == '':\n",
    "            cleaned_col.append(\" \")\n",
    "        else:\n",
    "            cleaned_col.append(row[col])\n",
    "    df.iloc[:size][col] = cleaned_col\n",
    "    return(df.iloc[:size])"
   ]
  },
  {
   "cell_type": "code",
   "execution_count": 472,
   "metadata": {
    "colab": {
     "base_uri": "https://localhost:8080/",
     "height": 115
    },
    "colab_type": "code",
    "id": "jubgQTUUIiha",
    "outputId": "c18ac666-4ae0-4efe-d1eb-174e67f06951"
   },
   "outputs": [
    {
     "name": "stderr",
     "output_type": "stream",
     "text": [
      "/usr/local/lib/python3.6/dist-packages/ipykernel_launcher.py:16: SettingWithCopyWarning: \n",
      "A value is trying to be set on a copy of a slice from a DataFrame.\n",
      "Try using .loc[row_indexer,col_indexer] = value instead\n",
      "\n",
      "See the caveats in the documentation: https://pandas.pydata.org/pandas-docs/stable/user_guide/indexing.html#returning-a-view-versus-a-copy\n",
      "  app.launch_new_instance()\n"
     ]
    }
   ],
   "source": [
    "clean_ny_data = cleanNYData(NY_train_data, 'name', 600)"
   ]
  },
  {
   "cell_type": "code",
   "execution_count": 473,
   "metadata": {
    "colab": {
     "base_uri": "https://localhost:8080/",
     "height": 247
    },
    "colab_type": "code",
    "id": "kuQZ-7rbIz0X",
    "outputId": "1f47e4ad-55b3-4acc-e424-2fbc8b4563fd"
   },
   "outputs": [
    {
     "name": "stdout",
     "output_type": "stream",
     "text": [
      "<class 'pandas.core.frame.DataFrame'>\n",
      "Int64Index: 600 entries, 0 to 601\n",
      "Data columns (total 7 columns):\n",
      " #   Column     Non-Null Count  Dtype  \n",
      "---  ------     --------------  -----  \n",
      " 0   index      600 non-null    int64  \n",
      " 1   input      600 non-null    object \n",
      " 2   name       600 non-null    object \n",
      " 3   qty        600 non-null    float64\n",
      " 4   range_end  600 non-null    float64\n",
      " 5   unit       434 non-null    object \n",
      " 6   comment    367 non-null    object \n",
      "dtypes: float64(2), int64(1), object(4)\n",
      "memory usage: 37.5+ KB\n"
     ]
    }
   ],
   "source": [
    "clean_ny_data.info()"
   ]
  },
  {
   "cell_type": "markdown",
   "metadata": {
    "colab_type": "text",
    "id": "0YpuZ7Arg9uE"
   },
   "source": [
    "For transforming, \n",
    "\n",
    "The subset of the cleaned NY Times dataset is transformed into the required form for training the custom NER model"
   ]
  },
  {
   "cell_type": "code",
   "execution_count": 0,
   "metadata": {
    "colab": {},
    "colab_type": "code",
    "id": "HRUhHUsvg630"
   },
   "outputs": [],
   "source": [
    "def generateEntity(line, ingredient_list, entity):\n",
    "    curr_dict = {}\n",
    "    if len(ingredient_list) == 1:\n",
    "        ingd_regex = re.compile(ingredient_list[0])\n",
    "        entity_match = ingd_regex.search(line)\n",
    "        curr_dict['entities'] = [(entity_match.start(), entity_match.end(), entity)]\n",
    "        return(curr_dict['entities'])\n",
    "    else:\n",
    "        for i in range(len(ingredient_list)):\n",
    "            ingd_regex = re.compile(ingredient_list[i])\n",
    "            entity_match = ingd_regex.search(line)\n",
    "            if i == 0:\n",
    "                curr_dict['entities'] = [(entity_match.start(), entity_match.end(), entity)]\n",
    "            else:\n",
    "                curr_dict['entities'].append((entity_match.start(), entity_match.end(), entity))\n",
    "    return(curr_dict['entities'])\n",
    "\n",
    "\n",
    "def generateTrainingData(df, inputCol, ingredientCol, entity):\n",
    "    TRAIN_DATA = []\n",
    "    subset = df[[inputCol, ingredientCol]]\n",
    "    for ix in range(len(df)):\n",
    "        line = subset.iloc[ix, 0]\n",
    "        ingd_name = subset.iloc[ix, 1]\n",
    "        ent_dict = {}\n",
    "        ingd_list = ingd_name.split()\n",
    "        flag = 0\n",
    "        #for each token\n",
    "        for ingredient in ingd_list:\n",
    "            if line == 'nan' or ingredient == 'nan':\n",
    "                flag = 1\n",
    "                continue\n",
    "            if ingredient not in line:\n",
    "                flag = 1\n",
    "                continue\n",
    "        if flag == 0:\n",
    "            ent_dict['entities'] = generateEntity(line, ingd_list, entity)\n",
    "            TRAIN_DATA.append((line, ent_dict))\n",
    "            print(\"\\r\", \"Adding\", (line, ent_dict), \"to row {0}\".format(ix + 1), end = \" \")\n",
    "        else:\n",
    "            print(\"\\r\",\"Skipping {} row\".format(ix + 1), end = \" \")\n",
    "    return(TRAIN_DATA)    "
   ]
  },
  {
   "cell_type": "code",
   "execution_count": 487,
   "metadata": {
    "colab": {
     "base_uri": "https://localhost:8080/",
     "height": 32
    },
    "colab_type": "code",
    "id": "0IX50Ed7BTdv",
    "outputId": "ca773b50-1eaa-4d56-d7be-878441ec455b"
   },
   "outputs": [
    {
     "name": "stdout",
     "output_type": "stream",
     "text": [
      " Adding ('2 tablespoons freshly squeezed lemon juice, more to taste', {'entities': [(31, 36, 'INGREDIENT')]}) to row 600 "
     ]
    }
   ],
   "source": [
    "TRAIN_DATA = generateTrainingData(clean_ny_data, \"input\", 'name', 'INGREDIENT')"
   ]
  },
  {
   "cell_type": "code",
   "execution_count": 488,
   "metadata": {
    "colab": {
     "base_uri": "https://localhost:8080/",
     "height": 32
    },
    "colab_type": "code",
    "id": "eoQxihoiksbl",
    "outputId": "9ac64db7-0046-4da2-86af-850350da586e"
   },
   "outputs": [
    {
     "name": "stdout",
     "output_type": "stream",
     "text": [
      "Our training set has 572 observations\n"
     ]
    }
   ],
   "source": [
    "print('Our training set has {} observations'.format(len(TRAIN_DATA)))"
   ]
  },
  {
   "cell_type": "markdown",
   "metadata": {
    "colab_type": "text",
    "id": "Nh82o6YKSy0C"
   },
   "source": [
    "##### *Train Custom Named Entity Recognition Model*"
   ]
  },
  {
   "cell_type": "code",
   "execution_count": 0,
   "metadata": {
    "colab": {},
    "colab_type": "code",
    "id": "V9jJACz_7zjj"
   },
   "outputs": [],
   "source": [
    "def train_spacy(data,iterations):\n",
    "    TRAIN_DATA = data\n",
    "    nlp = spacy.load('en_core_web_sm')\n",
    "    ner = nlp.get_pipe(\"ner\")\n",
    "    if 'ner' not in nlp.pipe_names:\n",
    "        ner = nlp.create_pipe('ner')\n",
    "        nlp.add_pipe(ner, last=True)\n",
    "    # add labels\n",
    "    for _, annotations in TRAIN_DATA:\n",
    "         for ent in annotations.get('entities'):\n",
    "            ner.add_label(ent[2])\n",
    "    # get names of other pipes to disable them during training\n",
    "    other_pipes = [pipe for pipe in nlp.pipe_names if pipe != 'ner']\n",
    "    with nlp.disable_pipes(*other_pipes):  # only train NER\n",
    "        optimizer = nlp.begin_training()\n",
    "        for itn in range(iterations):\n",
    "            print(\"Statring iteration \" + str(itn))\n",
    "            random.shuffle(TRAIN_DATA)\n",
    "            losses = {}\n",
    "            for text, annotations in TRAIN_DATA:\n",
    "                nlp.update(\n",
    "                    [text],  # batch of texts\n",
    "                    [annotations],  # batch of annotations\n",
    "                    drop=0.2,  # dropout - make it harder to memorise data\n",
    "                    sgd=optimizer,  # callable to update weights\n",
    "                    losses=losses)\n",
    "            print(losses)\n",
    "    return nlp"
   ]
  },
  {
   "cell_type": "code",
   "execution_count": 491,
   "metadata": {
    "colab": {
     "base_uri": "https://localhost:8080/",
     "height": 840
    },
    "colab_type": "code",
    "id": "StSsFiuEZCjo",
    "outputId": "d8718c9a-d5a0-4197-f043-83d100b36abb"
   },
   "outputs": [
    {
     "name": "stdout",
     "output_type": "stream",
     "text": [
      "Statring iteration 0\n",
      "{'ner': 1597.9703202758897}\n",
      "Statring iteration 1\n",
      "{'ner': 1412.4199845095231}\n",
      "Statring iteration 2\n",
      "{'ner': 1339.9057926157514}\n",
      "Statring iteration 3\n",
      "{'ner': 1368.157786536946}\n",
      "Statring iteration 4\n",
      "{'ner': 1264.5722895093263}\n",
      "Statring iteration 5\n",
      "{'ner': 1317.0224620388951}\n",
      "Statring iteration 6\n",
      "{'ner': 1345.752825314061}\n",
      "Statring iteration 7\n",
      "{'ner': 1315.3997490144498}\n",
      "Statring iteration 8\n",
      "{'ner': 1330.389740800146}\n",
      "Statring iteration 9\n",
      "{'ner': 1212.2507211363586}\n",
      "Statring iteration 10\n",
      "{'ner': 1271.488753699605}\n",
      "Statring iteration 11\n",
      "{'ner': 1204.4500160514683}\n",
      "Statring iteration 12\n",
      "{'ner': 1275.7939297056428}\n",
      "Statring iteration 13\n",
      "{'ner': 1232.0827359020443}\n",
      "Statring iteration 14\n",
      "{'ner': 1128.2279360688538}\n",
      "Statring iteration 15\n",
      "{'ner': 1304.1340880967266}\n",
      "Statring iteration 16\n",
      "{'ner': 1183.6373150339896}\n",
      "Statring iteration 17\n",
      "{'ner': 1292.8330503383104}\n",
      "Statring iteration 18\n",
      "{'ner': 1249.023666995607}\n",
      "Statring iteration 19\n",
      "{'ner': 1294.0348647360474}\n",
      "Statring iteration 20\n",
      "{'ner': 1256.155472459599}\n",
      "Statring iteration 21\n",
      "{'ner': 1244.3876280600537}\n",
      "Statring iteration 22\n",
      "{'ner': 1251.588947904589}\n",
      "Statring iteration 23\n",
      "{'ner': 1231.1909741644165}\n",
      "Statring iteration 24\n",
      "{'ner': 1214.2728083689956}\n"
     ]
    }
   ],
   "source": [
    "ner_model = train_spacy(TRAIN_DATA, 25)"
   ]
  },
  {
   "cell_type": "code",
   "execution_count": 0,
   "metadata": {
    "colab": {},
    "colab_type": "code",
    "id": "w6XbwS0eo-Fy"
   },
   "outputs": [],
   "source": [
    "#save to model\n",
    "ner_model.to_disk('ner_model')"
   ]
  },
  {
   "cell_type": "markdown",
   "metadata": {
    "colab_type": "text",
    "id": "hbGQbkoTn4wO"
   },
   "source": [
    "The model took approximately ~15 - 30 minutes to train"
   ]
  },
  {
   "cell_type": "markdown",
   "metadata": {
    "colab_type": "text",
    "id": "yEyKwhTXhRju"
   },
   "source": [
    "##### *Generate Ingredients for Scraped Data*"
   ]
  },
  {
   "cell_type": "code",
   "execution_count": 0,
   "metadata": {
    "colab": {},
    "colab_type": "code",
    "id": "dH39L2gwYSoX"
   },
   "outputs": [],
   "source": [
    "extracted = []\n",
    "for _,row in recipes_df.iterrows():\n",
    "    nlp_ing = ner_model(row['ingredient'])\n",
    "    ans = {}\n",
    "    for ent in nlp_ing.ents:\n",
    "        ans[ent.label_] = ent.text.lower()#once the ingredients are found convert to lower case\n",
    "    extracted.append(ans)\n",
    "\n",
    "\n",
    "#generate list\n",
    "clean_ingredient = []\n",
    "for ix in range(len(recipes_df.ingredient)):\n",
    "    curr = extracted[ix]\n",
    "    if curr == {}:\n",
    "        ingd = \" \"\n",
    "    else:\n",
    "        ingd = curr['INGREDIENT']\n",
    "    clean_ingredient.append(ingd)"
   ]
  },
  {
   "cell_type": "markdown",
   "metadata": {
    "colab_type": "text",
    "id": "GKu0Z_Wum5fT"
   },
   "source": [
    "To gain a comparative understanding of how well the model is performing, I have shown the before and after columns for 10 rows."
   ]
  },
  {
   "cell_type": "code",
   "execution_count": 343,
   "metadata": {
    "colab": {
     "base_uri": "https://localhost:8080/",
     "height": 181
    },
    "colab_type": "code",
    "id": "3ofeOMbYtZpj",
    "outputId": "aac33d11-b1b9-4aaf-809e-a05c8a165693"
   },
   "outputs": [
    {
     "name": "stdout",
     "output_type": "stream",
     "text": [
      "('6 ounces ground beef', 'beef')\n",
      "('4 drops Worcestershire sauce, or to taste', 'worcestershire')\n",
      "('3 pinches garlic powder', 'garlic')\n",
      "('freshly ground black pepper to taste', 'pepper')\n",
      "('kosher salt to taste', 'salt')\n",
      "('1 pinch cayenne pepper', 'pepper')\n",
      "('1 slice Cheddar cheese', 'cheese')\n",
      "('1  hamburger bun, split', 'hamburger')\n",
      "('1 slice tomato', 'tomato')\n",
      "('1 leaf lettuce', 'lettuce')\n"
     ]
    }
   ],
   "source": [
    "for el in zip(recipes_df.ingredients[:10], clean_ingredient[:10]):\n",
    "    print(el)"
   ]
  },
  {
   "cell_type": "markdown",
   "metadata": {
    "colab_type": "text",
    "id": "PBKcves8nCvG"
   },
   "source": [
    "The final clean version is stored in file - cleanData.csv and Dataframe - clean_recipes"
   ]
  },
  {
   "cell_type": "code",
   "execution_count": 0,
   "metadata": {
    "colab": {},
    "colab_type": "code",
    "id": "Vsd0ZnRjsqSI"
   },
   "outputs": [],
   "source": [
    "#convert to a new dataframe\n",
    "clean_recipe = recipes_df[['url', 'name']]\n",
    "clean_recipe['ingredient'] = clean_ingredient"
   ]
  },
  {
   "cell_type": "code",
   "execution_count": 497,
   "metadata": {
    "colab": {
     "base_uri": "https://localhost:8080/",
     "height": 201
    },
    "colab_type": "code",
    "id": "_NODIwVStriv",
    "outputId": "754c3864-8571-49ad-8906-37d32f593f8b"
   },
   "outputs": [
    {
     "data": {
      "text/html": [
       "<div>\n",
       "<style scoped>\n",
       "    .dataframe tbody tr th:only-of-type {\n",
       "        vertical-align: middle;\n",
       "    }\n",
       "\n",
       "    .dataframe tbody tr th {\n",
       "        vertical-align: top;\n",
       "    }\n",
       "\n",
       "    .dataframe thead th {\n",
       "        text-align: right;\n",
       "    }\n",
       "</style>\n",
       "<table border=\"1\" class=\"dataframe\">\n",
       "  <thead>\n",
       "    <tr style=\"text-align: right;\">\n",
       "      <th></th>\n",
       "      <th>url</th>\n",
       "      <th>name</th>\n",
       "      <th>ingredient</th>\n",
       "    </tr>\n",
       "  </thead>\n",
       "  <tbody>\n",
       "    <tr>\n",
       "      <th>0</th>\n",
       "      <td>https://www.allrecipes.com/recipe/267875/chef-...</td>\n",
       "      <td>Chef John's Juicy Lucy</td>\n",
       "      <td>beef</td>\n",
       "    </tr>\n",
       "    <tr>\n",
       "      <th>1</th>\n",
       "      <td>https://www.allrecipes.com/recipe/267875/chef-...</td>\n",
       "      <td>Chef John's Juicy Lucy</td>\n",
       "      <td>worcestershire</td>\n",
       "    </tr>\n",
       "    <tr>\n",
       "      <th>2</th>\n",
       "      <td>https://www.allrecipes.com/recipe/267875/chef-...</td>\n",
       "      <td>Chef John's Juicy Lucy</td>\n",
       "      <td>garlic</td>\n",
       "    </tr>\n",
       "    <tr>\n",
       "      <th>3</th>\n",
       "      <td>https://www.allrecipes.com/recipe/267875/chef-...</td>\n",
       "      <td>Chef John's Juicy Lucy</td>\n",
       "      <td>pepper</td>\n",
       "    </tr>\n",
       "    <tr>\n",
       "      <th>4</th>\n",
       "      <td>https://www.allrecipes.com/recipe/267875/chef-...</td>\n",
       "      <td>Chef John's Juicy Lucy</td>\n",
       "      <td>salt</td>\n",
       "    </tr>\n",
       "  </tbody>\n",
       "</table>\n",
       "</div>"
      ],
      "text/plain": [
       "                                                 url  ...      ingredient\n",
       "0  https://www.allrecipes.com/recipe/267875/chef-...  ...            beef\n",
       "1  https://www.allrecipes.com/recipe/267875/chef-...  ...  worcestershire\n",
       "2  https://www.allrecipes.com/recipe/267875/chef-...  ...          garlic\n",
       "3  https://www.allrecipes.com/recipe/267875/chef-...  ...          pepper\n",
       "4  https://www.allrecipes.com/recipe/267875/chef-...  ...            salt\n",
       "\n",
       "[5 rows x 3 columns]"
      ]
     },
     "execution_count": 497,
     "metadata": {
      "tags": []
     },
     "output_type": "execute_result"
    }
   ],
   "source": [
    "clean_recipe.head()"
   ]
  },
  {
   "cell_type": "code",
   "execution_count": 0,
   "metadata": {
    "colab": {},
    "colab_type": "code",
    "id": "DzRw6CjNtt3P"
   },
   "outputs": [],
   "source": [
    "clean_recipe.to_csv('cleanData.csv')"
   ]
  },
  {
   "cell_type": "markdown",
   "metadata": {
    "colab_type": "text",
    "id": "RKThWv_RVYZT"
   },
   "source": [
    "\n",
    "---\n",
    "\n",
    "# Analysis\n",
    "\n",
    "---\n",
    "\n"
   ]
  },
  {
   "cell_type": "markdown",
   "metadata": {
    "colab_type": "text",
    "id": "6EZkGZjtnVMY"
   },
   "source": [
    "The objective of the analyis is to generate the count and proportion of each ingredient to fid the 10 most common ingredient."
   ]
  },
  {
   "cell_type": "markdown",
   "metadata": {
    "colab_type": "text",
    "id": "_8VMjuNJ2KEn"
   },
   "source": [
    "---\n",
    "### 1. Count Calculation\n",
    "\n",
    "\n",
    "---\n",
    "\n"
   ]
  },
  {
   "cell_type": "code",
   "execution_count": 0,
   "metadata": {
    "colab": {},
    "colab_type": "code",
    "id": "yByfGki4Yh1E"
   },
   "outputs": [],
   "source": [
    "count_df = pd.DataFrame(clean_recipe.ingredient.value_counts().rename_axis('ingredient').reset_index(name='count'))"
   ]
  },
  {
   "cell_type": "code",
   "execution_count": 501,
   "metadata": {
    "colab": {
     "base_uri": "https://localhost:8080/",
     "height": 32
    },
    "colab_type": "code",
    "id": "AVw7DaRA1hyI",
    "outputId": "4f3f0e91-7c7f-4ff4-be5a-d394a9bad2c1"
   },
   "outputs": [
    {
     "name": "stdout",
     "output_type": "stream",
     "text": [
      "There are 167 unique ingredients\n"
     ]
    }
   ],
   "source": [
    "print(\"There are {} unique ingredients\".format(count_df.shape[0]))"
   ]
  },
  {
   "cell_type": "markdown",
   "metadata": {
    "colab_type": "text",
    "id": "F0vjCLle2CRw"
   },
   "source": [
    "**The top 10 most common ingredients are as follows:**"
   ]
  },
  {
   "cell_type": "code",
   "execution_count": 502,
   "metadata": {
    "colab": {
     "base_uri": "https://localhost:8080/",
     "height": 352
    },
    "colab_type": "code",
    "id": "8-90SLyVuCB8",
    "outputId": "039bf99c-93c0-403d-9973-bd83603b8e83"
   },
   "outputs": [
    {
     "data": {
      "text/html": [
       "<div>\n",
       "<style scoped>\n",
       "    .dataframe tbody tr th:only-of-type {\n",
       "        vertical-align: middle;\n",
       "    }\n",
       "\n",
       "    .dataframe tbody tr th {\n",
       "        vertical-align: top;\n",
       "    }\n",
       "\n",
       "    .dataframe thead th {\n",
       "        text-align: right;\n",
       "    }\n",
       "</style>\n",
       "<table border=\"1\" class=\"dataframe\">\n",
       "  <thead>\n",
       "    <tr style=\"text-align: right;\">\n",
       "      <th></th>\n",
       "      <th>ingredient</th>\n",
       "      <th>count</th>\n",
       "    </tr>\n",
       "  </thead>\n",
       "  <tbody>\n",
       "    <tr>\n",
       "      <th>0</th>\n",
       "      <td>sugar</td>\n",
       "      <td>94</td>\n",
       "    </tr>\n",
       "    <tr>\n",
       "      <th>1</th>\n",
       "      <td>salt</td>\n",
       "      <td>76</td>\n",
       "    </tr>\n",
       "    <tr>\n",
       "      <th>2</th>\n",
       "      <td>butter</td>\n",
       "      <td>66</td>\n",
       "    </tr>\n",
       "    <tr>\n",
       "      <th>3</th>\n",
       "      <td>flour</td>\n",
       "      <td>62</td>\n",
       "    </tr>\n",
       "    <tr>\n",
       "      <th>4</th>\n",
       "      <td>pepper</td>\n",
       "      <td>56</td>\n",
       "    </tr>\n",
       "    <tr>\n",
       "      <th>5</th>\n",
       "      <td>cheese</td>\n",
       "      <td>42</td>\n",
       "    </tr>\n",
       "    <tr>\n",
       "      <th>6</th>\n",
       "      <td>onion</td>\n",
       "      <td>41</td>\n",
       "    </tr>\n",
       "    <tr>\n",
       "      <th>7</th>\n",
       "      <td>garlic</td>\n",
       "      <td>37</td>\n",
       "    </tr>\n",
       "    <tr>\n",
       "      <th>8</th>\n",
       "      <td>eggs</td>\n",
       "      <td>37</td>\n",
       "    </tr>\n",
       "    <tr>\n",
       "      <th>9</th>\n",
       "      <td>vanilla</td>\n",
       "      <td>36</td>\n",
       "    </tr>\n",
       "  </tbody>\n",
       "</table>\n",
       "</div>"
      ],
      "text/plain": [
       "  ingredient  count\n",
       "0      sugar     94\n",
       "1       salt     76\n",
       "2     butter     66\n",
       "3      flour     62\n",
       "4     pepper     56\n",
       "5     cheese     42\n",
       "6      onion     41\n",
       "7     garlic     37\n",
       "8       eggs     37\n",
       "9    vanilla     36"
      ]
     },
     "execution_count": 502,
     "metadata": {
      "tags": []
     },
     "output_type": "execute_result"
    }
   ],
   "source": [
    "count_df.head(10)"
   ]
  },
  {
   "cell_type": "markdown",
   "metadata": {
    "colab_type": "text",
    "id": "c_aH47Y82NuK"
   },
   "source": [
    "---\n",
    "### 2. Proportion Calculation\n",
    "---"
   ]
  },
  {
   "cell_type": "markdown",
   "metadata": {
    "colab_type": "text",
    "id": "rh8C6l9OwaNE"
   },
   "source": [
    "Let us find if one ingredient appears more than once in a recipe. This is important as if they don't appear more than once than the count divided by the number of recipe will give us the proportion. \n",
    "\n",
    "However, if an ingredient occurs more than once the count is not reflective of the number of recipes it occurs in alone and includes multiple occurence within a recipe. "
   ]
  },
  {
   "cell_type": "code",
   "execution_count": 0,
   "metadata": {
    "colab": {},
    "colab_type": "code",
    "id": "hJvywxJBOyQG"
   },
   "outputs": [],
   "source": [
    "count_recipe_ingredient = clean_recipe.groupby(['name', 'ingredient']).count()"
   ]
  },
  {
   "cell_type": "code",
   "execution_count": 504,
   "metadata": {
    "colab": {
     "base_uri": "https://localhost:8080/",
     "height": 442
    },
    "colab_type": "code",
    "id": "tGoaA8Rm01FI",
    "outputId": "98c3b826-4ace-46fb-b940-3f681efe4567"
   },
   "outputs": [
    {
     "data": {
      "text/html": [
       "<div>\n",
       "<style scoped>\n",
       "    .dataframe tbody tr th:only-of-type {\n",
       "        vertical-align: middle;\n",
       "    }\n",
       "\n",
       "    .dataframe tbody tr th {\n",
       "        vertical-align: top;\n",
       "    }\n",
       "\n",
       "    .dataframe thead th {\n",
       "        text-align: right;\n",
       "    }\n",
       "</style>\n",
       "<table border=\"1\" class=\"dataframe\">\n",
       "  <thead>\n",
       "    <tr style=\"text-align: right;\">\n",
       "      <th></th>\n",
       "      <th></th>\n",
       "      <th>url</th>\n",
       "    </tr>\n",
       "    <tr>\n",
       "      <th>name</th>\n",
       "      <th>ingredient</th>\n",
       "      <th></th>\n",
       "    </tr>\n",
       "  </thead>\n",
       "  <tbody>\n",
       "    <tr>\n",
       "      <th rowspan=\"5\" valign=\"top\">Air Fryer Lemon Pepper Shrimp</th>\n",
       "      <th>garlic</th>\n",
       "      <td>1</td>\n",
       "    </tr>\n",
       "    <tr>\n",
       "      <th>lemon</th>\n",
       "      <td>2</td>\n",
       "    </tr>\n",
       "    <tr>\n",
       "      <th>oil</th>\n",
       "      <td>1</td>\n",
       "    </tr>\n",
       "    <tr>\n",
       "      <th>paprika</th>\n",
       "      <td>1</td>\n",
       "    </tr>\n",
       "    <tr>\n",
       "      <th>pepper</th>\n",
       "      <td>1</td>\n",
       "    </tr>\n",
       "    <tr>\n",
       "      <th>...</th>\n",
       "      <th>...</th>\n",
       "      <td>...</td>\n",
       "    </tr>\n",
       "    <tr>\n",
       "      <th rowspan=\"5\" valign=\"top\">Zesty Slow Cooker Chicken Barbecue</th>\n",
       "      <th>barbeque</th>\n",
       "      <td>1</td>\n",
       "    </tr>\n",
       "    <tr>\n",
       "      <th>chicken</th>\n",
       "      <td>1</td>\n",
       "    </tr>\n",
       "    <tr>\n",
       "      <th>salad</th>\n",
       "      <td>1</td>\n",
       "    </tr>\n",
       "    <tr>\n",
       "      <th>sugar</th>\n",
       "      <td>1</td>\n",
       "    </tr>\n",
       "    <tr>\n",
       "      <th>worcestershire</th>\n",
       "      <td>1</td>\n",
       "    </tr>\n",
       "  </tbody>\n",
       "</table>\n",
       "<p>1105 rows × 1 columns</p>\n",
       "</div>"
      ],
      "text/plain": [
       "                                                   url\n",
       "name                               ingredient         \n",
       "Air Fryer Lemon Pepper Shrimp      garlic            1\n",
       "                                   lemon             2\n",
       "                                   oil               1\n",
       "                                   paprika           1\n",
       "                                   pepper            1\n",
       "...                                                ...\n",
       "Zesty Slow Cooker Chicken Barbecue barbeque          1\n",
       "                                   chicken           1\n",
       "                                   salad             1\n",
       "                                   sugar             1\n",
       "                                   worcestershire    1\n",
       "\n",
       "[1105 rows x 1 columns]"
      ]
     },
     "execution_count": 504,
     "metadata": {
      "tags": []
     },
     "output_type": "execute_result"
    }
   ],
   "source": [
    "count_recipe_ingredient"
   ]
  },
  {
   "cell_type": "code",
   "execution_count": 506,
   "metadata": {
    "colab": {
     "base_uri": "https://localhost:8080/",
     "height": 115
    },
    "colab_type": "code",
    "id": "WbkvN4UTVt6A",
    "outputId": "33ad6e05-e86e-4e91-ab3a-45ce5542cea5"
   },
   "outputs": [
    {
     "data": {
      "text/plain": [
       "1    1017\n",
       "2      79\n",
       "3       7\n",
       "5       1\n",
       "4       1\n",
       "Name: url, dtype: int64"
      ]
     },
     "execution_count": 506,
     "metadata": {
      "tags": []
     },
     "output_type": "execute_result"
    }
   ],
   "source": [
    "count_recipe_ingredient.url.value_counts()"
   ]
  },
  {
   "cell_type": "markdown",
   "metadata": {
    "colab_type": "text",
    "id": "Au5Qm3UbBKMB"
   },
   "source": [
    "Since there are a few recipes which contain the same ingredient multiple number of times. This could be because there could be variation of the ingredient such as chopped, diced onions etc. \n",
    "\n",
    "Thus, I first group the recipes by name and find the set of ingredient associated with each and then count each ingredients occurence to eventually calculate the proportion."
   ]
  },
  {
   "cell_type": "code",
   "execution_count": 0,
   "metadata": {
    "colab": {},
    "colab_type": "code",
    "id": "O0Tfy8Mk3E6W"
   },
   "outputs": [],
   "source": [
    "recipe_ingredient = clean_recipe.groupby('name')['ingredient'].apply(set)"
   ]
  },
  {
   "cell_type": "code",
   "execution_count": 0,
   "metadata": {
    "colab": {},
    "colab_type": "code",
    "id": "XM4WUMXo2t0s"
   },
   "outputs": [],
   "source": [
    "ingd_count = {}\n",
    "for el in count_df.ingredient:\n",
    "    for r in recipe_ingredient.index:\n",
    "        if el in recipe_ingredient[r]:\n",
    "            if el not in ingd_count:\n",
    "                ingd_count[el] = 1\n",
    "            else:\n",
    "                ingd_count[el] += 1"
   ]
  },
  {
   "cell_type": "code",
   "execution_count": 0,
   "metadata": {
    "colab": {},
    "colab_type": "code",
    "id": "SUiM9u3I4xxn"
   },
   "outputs": [],
   "source": [
    "prop_df = pd.DataFrame(ingd_count.items(), columns = ['ingredient', 'proportion'])"
   ]
  },
  {
   "cell_type": "code",
   "execution_count": 0,
   "metadata": {
    "colab": {},
    "colab_type": "code",
    "id": "bld_1CPf5uJE"
   },
   "outputs": [],
   "source": [
    "prop_df['proportion'] = prop_df['proportion'].div(len(recipes_df))"
   ]
  },
  {
   "cell_type": "code",
   "execution_count": 515,
   "metadata": {
    "colab": {
     "base_uri": "https://localhost:8080/",
     "height": 411
    },
    "colab_type": "code",
    "id": "ov3BQZDN6CKi",
    "outputId": "55877467-956e-4e21-a823-03228a082e7b"
   },
   "outputs": [
    {
     "data": {
      "text/html": [
       "<div>\n",
       "<style scoped>\n",
       "    .dataframe tbody tr th:only-of-type {\n",
       "        vertical-align: middle;\n",
       "    }\n",
       "\n",
       "    .dataframe tbody tr th {\n",
       "        vertical-align: top;\n",
       "    }\n",
       "\n",
       "    .dataframe thead th {\n",
       "        text-align: right;\n",
       "    }\n",
       "</style>\n",
       "<table border=\"1\" class=\"dataframe\">\n",
       "  <thead>\n",
       "    <tr style=\"text-align: right;\">\n",
       "      <th></th>\n",
       "      <th>ingredient</th>\n",
       "      <th>proportion</th>\n",
       "    </tr>\n",
       "  </thead>\n",
       "  <tbody>\n",
       "    <tr>\n",
       "      <th>1</th>\n",
       "      <td>salt</td>\n",
       "      <td>0.060581</td>\n",
       "    </tr>\n",
       "    <tr>\n",
       "      <th>0</th>\n",
       "      <td>sugar</td>\n",
       "      <td>0.054772</td>\n",
       "    </tr>\n",
       "    <tr>\n",
       "      <th>3</th>\n",
       "      <td>flour</td>\n",
       "      <td>0.048963</td>\n",
       "    </tr>\n",
       "    <tr>\n",
       "      <th>2</th>\n",
       "      <td>butter</td>\n",
       "      <td>0.047303</td>\n",
       "    </tr>\n",
       "    <tr>\n",
       "      <th>4</th>\n",
       "      <td>pepper</td>\n",
       "      <td>0.036515</td>\n",
       "    </tr>\n",
       "    <tr>\n",
       "      <th>...</th>\n",
       "      <td>...</td>\n",
       "      <td>...</td>\n",
       "    </tr>\n",
       "    <tr>\n",
       "      <th>127</th>\n",
       "      <td>fillets</td>\n",
       "      <td>0.000830</td>\n",
       "    </tr>\n",
       "    <tr>\n",
       "      <th>129</th>\n",
       "      <td>raspberries</td>\n",
       "      <td>0.000830</td>\n",
       "    </tr>\n",
       "    <tr>\n",
       "      <th>130</th>\n",
       "      <td>chuck</td>\n",
       "      <td>0.000830</td>\n",
       "    </tr>\n",
       "    <tr>\n",
       "      <th>131</th>\n",
       "      <td>spinach</td>\n",
       "      <td>0.000830</td>\n",
       "    </tr>\n",
       "    <tr>\n",
       "      <th>166</th>\n",
       "      <td>pickles</td>\n",
       "      <td>0.000830</td>\n",
       "    </tr>\n",
       "  </tbody>\n",
       "</table>\n",
       "<p>167 rows × 2 columns</p>\n",
       "</div>"
      ],
      "text/plain": [
       "      ingredient  proportion\n",
       "1           salt    0.060581\n",
       "0          sugar    0.054772\n",
       "3          flour    0.048963\n",
       "2         butter    0.047303\n",
       "4         pepper    0.036515\n",
       "..           ...         ...\n",
       "127      fillets    0.000830\n",
       "129  raspberries    0.000830\n",
       "130        chuck    0.000830\n",
       "131      spinach    0.000830\n",
       "166      pickles    0.000830\n",
       "\n",
       "[167 rows x 2 columns]"
      ]
     },
     "execution_count": 515,
     "metadata": {
      "tags": []
     },
     "output_type": "execute_result"
    }
   ],
   "source": [
    "prop_df.sort_values( by = 'proportion', ascending = False)"
   ]
  },
  {
   "cell_type": "code",
   "execution_count": 520,
   "metadata": {
    "colab": {
     "base_uri": "https://localhost:8080/",
     "height": 352
    },
    "colab_type": "code",
    "id": "pvaqltwQ6gBt",
    "outputId": "1ca8deef-22a0-414c-9a78-9f5fce30d80b"
   },
   "outputs": [
    {
     "data": {
      "text/html": [
       "<div>\n",
       "<style scoped>\n",
       "    .dataframe tbody tr th:only-of-type {\n",
       "        vertical-align: middle;\n",
       "    }\n",
       "\n",
       "    .dataframe tbody tr th {\n",
       "        vertical-align: top;\n",
       "    }\n",
       "\n",
       "    .dataframe thead th {\n",
       "        text-align: right;\n",
       "    }\n",
       "</style>\n",
       "<table border=\"1\" class=\"dataframe\">\n",
       "  <thead>\n",
       "    <tr style=\"text-align: right;\">\n",
       "      <th></th>\n",
       "      <th>ingredient</th>\n",
       "      <th>count</th>\n",
       "      <th>proportion</th>\n",
       "    </tr>\n",
       "  </thead>\n",
       "  <tbody>\n",
       "    <tr>\n",
       "      <th>0</th>\n",
       "      <td>sugar</td>\n",
       "      <td>94</td>\n",
       "      <td>0.054772</td>\n",
       "    </tr>\n",
       "    <tr>\n",
       "      <th>1</th>\n",
       "      <td>salt</td>\n",
       "      <td>76</td>\n",
       "      <td>0.060581</td>\n",
       "    </tr>\n",
       "    <tr>\n",
       "      <th>2</th>\n",
       "      <td>butter</td>\n",
       "      <td>66</td>\n",
       "      <td>0.047303</td>\n",
       "    </tr>\n",
       "    <tr>\n",
       "      <th>3</th>\n",
       "      <td>flour</td>\n",
       "      <td>62</td>\n",
       "      <td>0.048963</td>\n",
       "    </tr>\n",
       "    <tr>\n",
       "      <th>4</th>\n",
       "      <td>pepper</td>\n",
       "      <td>56</td>\n",
       "      <td>0.036515</td>\n",
       "    </tr>\n",
       "    <tr>\n",
       "      <th>5</th>\n",
       "      <td>cheese</td>\n",
       "      <td>42</td>\n",
       "      <td>0.025726</td>\n",
       "    </tr>\n",
       "    <tr>\n",
       "      <th>6</th>\n",
       "      <td>onion</td>\n",
       "      <td>41</td>\n",
       "      <td>0.032365</td>\n",
       "    </tr>\n",
       "    <tr>\n",
       "      <th>7</th>\n",
       "      <td>garlic</td>\n",
       "      <td>37</td>\n",
       "      <td>0.027386</td>\n",
       "    </tr>\n",
       "    <tr>\n",
       "      <th>8</th>\n",
       "      <td>eggs</td>\n",
       "      <td>37</td>\n",
       "      <td>0.030705</td>\n",
       "    </tr>\n",
       "    <tr>\n",
       "      <th>9</th>\n",
       "      <td>vanilla</td>\n",
       "      <td>36</td>\n",
       "      <td>0.025726</td>\n",
       "    </tr>\n",
       "  </tbody>\n",
       "</table>\n",
       "</div>"
      ],
      "text/plain": [
       "  ingredient  count  proportion\n",
       "0      sugar     94    0.054772\n",
       "1       salt     76    0.060581\n",
       "2     butter     66    0.047303\n",
       "3      flour     62    0.048963\n",
       "4     pepper     56    0.036515\n",
       "5     cheese     42    0.025726\n",
       "6      onion     41    0.032365\n",
       "7     garlic     37    0.027386\n",
       "8       eggs     37    0.030705\n",
       "9    vanilla     36    0.025726"
      ]
     },
     "execution_count": 520,
     "metadata": {
      "tags": []
     },
     "output_type": "execute_result"
    }
   ],
   "source": [
    "#join with count_df\n",
    "results_df = pd.merge(count_df, prop_df, on = 'ingredient')\n",
    "results_df.head(10)"
   ]
  },
  {
   "cell_type": "markdown",
   "metadata": {
    "colab_type": "text",
    "id": "ffYjas2iHYxZ"
   },
   "source": [
    "---\n",
    "---\n",
    "\n",
    "The top 10 ingredients are filled with condiments and diary mainly. The only vegetables here are onion and garlic since there are used in almost all sauces, gravies etc. There is flour too and the presence of this along with eggs and butter suggest substantial baking recipes among the scraped dataset.\n",
    "\n",
    "---\n",
    "---\n",
    "\n"
   ]
  },
  {
   "cell_type": "code",
   "execution_count": 0,
   "metadata": {
    "colab": {},
    "colab_type": "code",
    "id": "vtu5_uKRC3es"
   },
   "outputs": [],
   "source": [
    "#save to file only top 10\n",
    "results_df.iloc[:10, :].to_csv(\"results.csv\")\n",
    "#save all results\n",
    "results_df.to_csv(\"resultsAll.csv\")"
   ]
  },
  {
   "cell_type": "markdown",
   "metadata": {
    "colab_type": "text",
    "id": "Cmt15PZuYtsd"
   },
   "source": [
    "---\n",
    "\n",
    "# Appendix\n",
    "\n",
    "---"
   ]
  },
  {
   "cell_type": "markdown",
   "metadata": {
    "colab_type": "text",
    "id": "QgUKkTpSxdEb"
   },
   "source": [
    "### 1. Approach 1 "
   ]
  },
  {
   "cell_type": "markdown",
   "metadata": {
    "colab_type": "text",
    "id": "vPWGj_fjYvaJ"
   },
   "source": [
    "Approach 1 is explored here. This was used to understand if a simpler method will produce high accuracy results.\n",
    "\n",
    "Here, to find the ingredient, \n",
    "\n",
    "\n",
    "\n",
    "```\n",
    "PSEUDOCODE\n",
    "> for each token do the following  \n",
    "        1.   If on checking the token dependencies, the dependencies    \n",
    "             of the token for sentences' subject or root is true then \n",
    "             move to step 2\n",
    "        2.   If the token is a noun, then move to step 3.\n",
    "        3.   Scan the token for childrens which are either             \n",
    "             modifications or compounds and not measurements and return  \n",
    "             the identified token as ingredient name\n",
    "```\n",
    "\n",
    "\n",
    "\n",
    "\n",
    "\n",
    "\n",
    "\n",
    "\n",
    "\n",
    "\n",
    "\n",
    "\n"
   ]
  },
  {
   "cell_type": "code",
   "execution_count": 0,
   "metadata": {
    "colab": {},
    "colab_type": "code",
    "id": "X6woEK37ybFh"
   },
   "outputs": [],
   "source": [
    "#load the existing small model from spacy\n",
    "base_model = spacy.load('en_core_web_sm')"
   ]
  },
  {
   "cell_type": "code",
   "execution_count": 96,
   "metadata": {
    "colab": {
     "base_uri": "https://localhost:8080/",
     "height": 32
    },
    "colab_type": "code",
    "id": "BpsAmy8zzlIl",
    "outputId": "f8dce428-aa30-4948-abb4-5afcf1685870"
   },
   "outputs": [
    {
     "name": "stdout",
     "output_type": "stream",
     "text": [
      " Extracting ingredient for row 1204"
     ]
    }
   ],
   "source": [
    "measurements = re.compile(r'(bowl|bulb|cube|clove|cup|drop|ounce|oz|pinch|pound|teaspoon|tablespoon)s?')\n",
    "extracted = []\n",
    "\n",
    "for ix, row in recipes_df.iterrows():\n",
    "    print('\\r', \"Extracting ingredient for row\", ix, end='')\n",
    "    tokens = base_model(row['ingredients'])\n",
    "    extract = ''\n",
    "    for token in tokens:\n",
    "        if (token.dep_ in ['nsubj', 'ROOT']) and (token.pos_ in ['NOUN', 'PROPN']) and (not measurements.match(token.text)):\n",
    "        #explore children\n",
    "            for child in token.children:\n",
    "                if (not measurements.match(child.text)) and (child.dep_ in ['amod', 'compound']):\n",
    "                    extract += child.text + ' '\n",
    "            extract += token.text + ' '\n",
    "    extracted.append(extract)"
   ]
  },
  {
   "cell_type": "code",
   "execution_count": 97,
   "metadata": {
    "colab": {
     "base_uri": "https://localhost:8080/",
     "height": 115
    },
    "colab_type": "code",
    "id": "WnA3PKOh1zQi",
    "outputId": "f117fe0d-2a9b-4c52-cbf3-a05f79d65551"
   },
   "outputs": [
    {
     "name": "stderr",
     "output_type": "stream",
     "text": [
      "/usr/local/lib/python3.6/dist-packages/ipykernel_launcher.py:3: SettingWithCopyWarning: \n",
      "A value is trying to be set on a copy of a slice from a DataFrame.\n",
      "Try using .loc[row_indexer,col_indexer] = value instead\n",
      "\n",
      "See the caveats in the documentation: https://pandas.pydata.org/pandas-docs/stable/user_guide/indexing.html#returning-a-view-versus-a-copy\n",
      "  This is separate from the ipykernel package so we can avoid doing imports until\n"
     ]
    }
   ],
   "source": [
    "#convert to dataframe to view \n",
    "dup_recipe = recipes_df[['name', 'link', 'ingredients']]\n",
    "dup_recipe['cleaned ingredients'] = extracted"
   ]
  },
  {
   "cell_type": "code",
   "execution_count": 99,
   "metadata": {
    "colab": {
     "base_uri": "https://localhost:8080/",
     "height": 352
    },
    "colab_type": "code",
    "id": "7nPzV9kk2rAU",
    "outputId": "16e5cf86-3ba4-443a-bf1b-09bd4ff301ee"
   },
   "outputs": [
    {
     "data": {
      "text/html": [
       "<div>\n",
       "<style scoped>\n",
       "    .dataframe tbody tr th:only-of-type {\n",
       "        vertical-align: middle;\n",
       "    }\n",
       "\n",
       "    .dataframe tbody tr th {\n",
       "        vertical-align: top;\n",
       "    }\n",
       "\n",
       "    .dataframe thead th {\n",
       "        text-align: right;\n",
       "    }\n",
       "</style>\n",
       "<table border=\"1\" class=\"dataframe\">\n",
       "  <thead>\n",
       "    <tr style=\"text-align: right;\">\n",
       "      <th></th>\n",
       "      <th>name</th>\n",
       "      <th>link</th>\n",
       "      <th>ingredients</th>\n",
       "      <th>cleaned ingredients</th>\n",
       "    </tr>\n",
       "  </thead>\n",
       "  <tbody>\n",
       "    <tr>\n",
       "      <th>0</th>\n",
       "      <td>Chef John's Juicy Lucy</td>\n",
       "      <td>https://www.allrecipes.com/recipe/267875/chef-...</td>\n",
       "      <td>6 ounces ground beef</td>\n",
       "      <td>ground beef</td>\n",
       "    </tr>\n",
       "    <tr>\n",
       "      <th>1</th>\n",
       "      <td>Chef John's Juicy Lucy</td>\n",
       "      <td>https://www.allrecipes.com/recipe/267875/chef-...</td>\n",
       "      <td>4 drops Worcestershire sauce, or to taste</td>\n",
       "      <td></td>\n",
       "    </tr>\n",
       "    <tr>\n",
       "      <th>2</th>\n",
       "      <td>Chef John's Juicy Lucy</td>\n",
       "      <td>https://www.allrecipes.com/recipe/267875/chef-...</td>\n",
       "      <td>3 pinches garlic powder</td>\n",
       "      <td>garlic powder</td>\n",
       "    </tr>\n",
       "    <tr>\n",
       "      <th>3</th>\n",
       "      <td>Chef John's Juicy Lucy</td>\n",
       "      <td>https://www.allrecipes.com/recipe/267875/chef-...</td>\n",
       "      <td>freshly ground black pepper to taste</td>\n",
       "      <td>black pepper</td>\n",
       "    </tr>\n",
       "    <tr>\n",
       "      <th>4</th>\n",
       "      <td>Chef John's Juicy Lucy</td>\n",
       "      <td>https://www.allrecipes.com/recipe/267875/chef-...</td>\n",
       "      <td>kosher salt to taste</td>\n",
       "      <td>kosher salt</td>\n",
       "    </tr>\n",
       "    <tr>\n",
       "      <th>5</th>\n",
       "      <td>Chef John's Juicy Lucy</td>\n",
       "      <td>https://www.allrecipes.com/recipe/267875/chef-...</td>\n",
       "      <td>1 pinch cayenne pepper</td>\n",
       "      <td>cayenne pepper</td>\n",
       "    </tr>\n",
       "    <tr>\n",
       "      <th>6</th>\n",
       "      <td>Chef John's Juicy Lucy</td>\n",
       "      <td>https://www.allrecipes.com/recipe/267875/chef-...</td>\n",
       "      <td>1 slice Cheddar cheese</td>\n",
       "      <td>slice Cheddar cheese</td>\n",
       "    </tr>\n",
       "    <tr>\n",
       "      <th>7</th>\n",
       "      <td>Chef John's Juicy Lucy</td>\n",
       "      <td>https://www.allrecipes.com/recipe/267875/chef-...</td>\n",
       "      <td>1  hamburger bun, split</td>\n",
       "      <td>hamburger bun split</td>\n",
       "    </tr>\n",
       "    <tr>\n",
       "      <th>8</th>\n",
       "      <td>Chef John's Juicy Lucy</td>\n",
       "      <td>https://www.allrecipes.com/recipe/267875/chef-...</td>\n",
       "      <td>1 slice tomato</td>\n",
       "      <td>slice tomato</td>\n",
       "    </tr>\n",
       "    <tr>\n",
       "      <th>9</th>\n",
       "      <td>Chef John's Juicy Lucy</td>\n",
       "      <td>https://www.allrecipes.com/recipe/267875/chef-...</td>\n",
       "      <td>1 leaf lettuce</td>\n",
       "      <td>leaf lettuce</td>\n",
       "    </tr>\n",
       "  </tbody>\n",
       "</table>\n",
       "</div>"
      ],
      "text/plain": [
       "                     name  ...    cleaned ingredients\n",
       "0  Chef John's Juicy Lucy  ...           ground beef \n",
       "1  Chef John's Juicy Lucy  ...                       \n",
       "2  Chef John's Juicy Lucy  ...         garlic powder \n",
       "3  Chef John's Juicy Lucy  ...          black pepper \n",
       "4  Chef John's Juicy Lucy  ...           kosher salt \n",
       "5  Chef John's Juicy Lucy  ...        cayenne pepper \n",
       "6  Chef John's Juicy Lucy  ...  slice Cheddar cheese \n",
       "7  Chef John's Juicy Lucy  ...   hamburger bun split \n",
       "8  Chef John's Juicy Lucy  ...          slice tomato \n",
       "9  Chef John's Juicy Lucy  ...          leaf lettuce \n",
       "\n",
       "[10 rows x 4 columns]"
      ]
     },
     "execution_count": 99,
     "metadata": {
      "tags": []
     },
     "output_type": "execute_result"
    }
   ],
   "source": [
    "dup_recipe.head(10)"
   ]
  },
  {
   "cell_type": "code",
   "execution_count": 0,
   "metadata": {
    "colab": {},
    "colab_type": "code",
    "id": "asIOzynO3WBa"
   },
   "outputs": [],
   "source": [
    "dup_recipe.to_csv(\"secondaryModelResults.csv\") "
   ]
  },
  {
   "cell_type": "markdown",
   "metadata": {
    "colab_type": "text",
    "id": "O7bxsjrDHLg8"
   },
   "source": [
    "It is noticed that this method though not as good as the trained model, does a fairly good job and is a good starting point for venturing into the space of text mining."
   ]
  }
 ],
 "metadata": {
  "colab": {
   "collapsed_sections": [
    "Wl4UsbrNmLyu"
   ],
   "name": "Recipe ScrapingFInal.ipynb",
   "provenance": []
  },
  "kernelspec": {
   "display_name": "Python 3",
   "language": "python",
   "name": "python3"
  },
  "language_info": {
   "codemirror_mode": {
    "name": "ipython",
    "version": 3
   },
   "file_extension": ".py",
   "mimetype": "text/x-python",
   "name": "python",
   "nbconvert_exporter": "python",
   "pygments_lexer": "ipython3",
   "version": "3.8.8"
  }
 },
 "nbformat": 4,
 "nbformat_minor": 1
}
