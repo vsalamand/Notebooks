{
 "cells": [
  {
   "cell_type": "code",
   "execution_count": 1,
   "metadata": {},
   "outputs": [
    {
     "name": "stderr",
     "output_type": "stream",
     "text": [
      "/anaconda3/lib/python3.7/site-packages/fuzzywuzzy/fuzz.py:11: UserWarning: Using slow pure-python SequenceMatcher. Install python-Levenshtein to remove this warning\n",
      "  warnings.warn('Using slow pure-python SequenceMatcher. Install python-Levenshtein to remove this warning')\n"
     ]
    }
   ],
   "source": [
    "import pandas as pd\n",
    "pd.set_option('display.max_columns', None)\n",
    "import numpy as np\n",
    "import spacy\n",
    "from spacy.lang.fr import French\n",
    "from spacy.tokenizer import Tokenizer\n",
    "from spacy.tokens import Doc\n",
    "from spacy.vocab import Vocab\n",
    "from spacy.matcher import Matcher\n",
    "from spacy.matcher import PhraseMatcher\n",
    "from textblob import TextBlob\n",
    "from fuzzywuzzy import fuzz\n",
    "from fuzzywuzzy import process\n",
    "import re"
   ]
  },
  {
   "cell_type": "code",
   "execution_count": 22,
   "metadata": {},
   "outputs": [],
   "source": [
    "measurements = {\"g\": [\"gr.\", \"gr\", \"g\", \"g.\", \"grams\", \"gramme\", \"GR\"], \"kg\": [\"kg.\", \"kg\", \"kilogramme\", \"vrac\", \"Vrac\"], \"mg\": [\"mg.\", \"mg\", \"miligramme\"],\n",
    "                \"ml\": [\"ml.\", \"ml\", \"milliliters\", \"mililitre\", \"ML\"], \"cl\": [\"cl.\", \"cl\", \"centilitre\"], \"l\": [\"l.\", \"l\", \"litre\"],\n",
    "                \"cuillère à soupe\": [\"c. à soupe\", \"cuillère à soupe\", \"cs\", \"cas\", \"càs\", \"c. à table\", \"cuillère à table\"],\n",
    "                \"cuillère à café\": [\"c. à café\", \"cuillère à café\", \"cc\", \"cac\", \"càc\", \"c. à thé\", \"cuillère à thé\"],\n",
    "                \"tasse\": [\"tasse\"], \"bol\": [\"bol\"], \"verre\": [\"verre\"], \"filet\": [\"filet\"], \"zeste\": [\"zeste\"], \"pièce\": [\"pièce\", \"unité\", \"ampollas\", \"set\"],\n",
    "                \"noisette\": [\"noisette\"], \"noix\": [\"noix\"], \"pincée\": [\"pincée\"], \"pointe\":[\"pointe\"], \"poignée\": [\"poignée\"],\n",
    "                \"feuille\": [\"feuille\"], \"branche\": [\"branche\"], \"gousse\": [\"gousse\"], \"tranche\": [\"tranche\"], \"cube\": [\"cube\"],\n",
    "                \"boîte\": [\"boîte\"], \"barquette\": [\"barquette\"], \"pot\": [\"pot\"], \"bâtonnet\": [\"bâtonnet\"], \"boule\": [\"boule\"],\n",
    "                \"rouleau\": [\"rouleau\"], \"p\": [\"p\"]}\n",
    "\n",
    "units = [item for sublist in measurements.values() for item in sublist]\n",
    "\n",
    "quantities = { \"½\": 0.5, \"1/2\": 0.5, \"1½\": 1.5, \"1 1/2\": 0.5, \"⅓\": 0.33, \"1/3\": 0.33, \"¼\": 0.25, \"1/5\": 0.2, \"¼\": 0.25, \"un demi\": 0.5, \"une demi\": 0.5,\"un et demi\": 1.5,\n",
    "              \"tiers\": 0.33, \"quart\": 0.25, \"zero\": 0, \"deux\": 2, \"trois\": 3, \"quatre\": 4,\"cinq\": 5, \"six\": 6, \"sept\": 7,\n",
    "              \"huit\": 8, \"neuf\": 9, \"dix\": 10, \"onze\": 11, \"douze\": 12, \"treize\": 13, \"quatorze\": 14, \"quinze\": 15, \"seize\": 16,\n",
    "              \"dix-sept\": 17, \"dix-huit\": 18, \"dix-neuf\": 19, \"vingt\": 20, \"trente\": 30, \"quarante\": 40, \"cinquante\": 50,\n",
    "              \"soixante\": 60, \"soixante-dix\": 70, \"quatre-vingt\": 80, \"quatre-vingt-dix\": 90, \"dizaine\": 10, \"une dizaine\": 10,\n",
    "              \"douzaine\": 12, \"une douzaine\": 12, \"demi-douzaine\": 6, \"une demi-douzaine\": 6, \"vingtaine\": 20, \"une vingtaine\": 20,\n",
    "              \"trentaine\": 30, \"quarantaine\": 40, \"cinquantaine\": 50, \"centaine\": 100, \"une centaine\": 100, \"cent\": 100,\n",
    "              \"un\": 1, \"une\": 1, \"vrac\": 1}\n",
    "\n",
    "char_list = [i for i in \"abcdefghijklmnopqrstuvwxyzABCDEFGHIJKLMNOPQRSTUVWXYZéèàâêïù▪️\"]\n"
   ]
  },
  {
   "cell_type": "code",
   "execution_count": 3,
   "metadata": {},
   "outputs": [
    {
     "name": "stdout",
     "output_type": "stream",
     "text": [
      "9937\n"
     ]
    }
   ],
   "source": [
    "web_product_data = pd.read_csv ('/Users/vincentsalamand/Downloads/products_auchan.csv')\n",
    "print(len(web_product_data))"
   ]
  },
  {
   "cell_type": "code",
   "execution_count": 4,
   "metadata": {},
   "outputs": [],
   "source": [
    "data = pd.DataFrame()\n",
    "data['quantity_match'] = \"\"\n",
    "data['unit_match'] = \"\"\n",
    "data['price_match'] = \"\"\n",
    "data['price_per_unit_match'] = \"\"\n",
    "data = pd.concat([data, web_product_data], axis=1)\n",
    "data['shelter'] = \"\""
   ]
  },
  {
   "cell_type": "code",
   "execution_count": 29,
   "metadata": {},
   "outputs": [],
   "source": [
    "# clean prices\n",
    "data['price_per_unit'] = data.price_per_unit.apply(lambda x: x.lower().replace('€/',' '))\n",
    "\n",
    "data['price_match'] = data.price.apply(lambda x: float(x.replace(',','.')))\n",
    "data['price_per_unit_match'] = data.price_per_unit.apply(lambda x: float(x.replace('.','').replace(',','.').replace('€/',' ').split()[0]))\n",
    "data.quantity_match = round(data.price_match / data.price_per_unit_match, 3)\n"
   ]
  },
  {
   "cell_type": "code",
   "execution_count": 30,
   "metadata": {},
   "outputs": [],
   "source": [
    "# match description to find unit\n",
    "nlp = French()\n",
    "\n",
    "def convert_unit(value):\n",
    "    results = []\n",
    "    result = [unit for unit, item in measurements.items() if value in item]\n",
    "    if len(result) > 0:\n",
    "        return result[0]\n",
    "\n",
    "measurement_matcher = PhraseMatcher(nlp.vocab, attr=\"LOWER\")\n",
    "measurement_patterns = list(nlp.tokenizer.pipe(list(units)))\n",
    "measurement_matcher.add(\"MEASUREMENT_PATTERN\", None, *measurement_patterns)\n",
    "tokenizer = Tokenizer(nlp.vocab)\n",
    "\n",
    "measurement_parser = []\n",
    "price_per_unit = list(nlp.pipe(data.price_per_unit))\n",
    "\n",
    "for line in price_per_unit:\n",
    "    line = tokenizer(re.sub('[0-9]', ' ', line.text))\n",
    "    matches = measurement_matcher(line)\n",
    "    elements = []\n",
    "    if len(matches) > 0:\n",
    "        for match_id, start, end in matches:\n",
    "            span = line[start:end]\n",
    "            elements.append(span.text.lower())\n",
    "        measurement_parser.append(convert_unit(elements[0]))\n",
    "    else:\n",
    "        text_blob_object = TextBlob(line.text)\n",
    "        singular_line = ' '.join(text_blob_object.words.singularize())\n",
    "        matches = measurement_matcher(tokenizer(singular_line))\n",
    "        if len(matches) > 0:\n",
    "            for match_id, start, end in matches:\n",
    "                span = tokenizer(singular_line)[start:end]\n",
    "                elements.append(span.text.lower())\n",
    "            measurement_parser.append(convert_unit(elements[0]))\n",
    "        else:\n",
    "            plural_line = ' '.join(text_blob_object.words.pluralize())\n",
    "            matches = measurement_matcher(tokenizer(plural_line))\n",
    "            if len(matches) > 0:\n",
    "                for match_id, start, end in matches:\n",
    "                    span = tokenizer(plural_line)[start:end]\n",
    "                    elements.append(span.text.lower())\n",
    "                measurement_parser.append(convert_unit(elements[0]))\n",
    "            else:\n",
    "                 measurement_parser.append(\"\")\n",
    "\n",
    "data['unit_match'] = measurement_parser"
   ]
  },
  {
   "cell_type": "code",
   "execution_count": 16,
   "metadata": {},
   "outputs": [],
   "source": [
    "# get shelter list\n",
    "\n",
    "for index, product in data.iterrows():       \n",
    "    shelter = []\n",
    "    shelter.append(data.loc[index].shelter_main)   \n",
    "    shelter.append(data.loc[index].shelter_parent)    \n",
    "    shelter.append(data.loc[index].shelter_child)\n",
    "    #if \"Surgelés\" in shelter:\n",
    "     #   print(product)\n",
    "    data.at[index,'shelter'] = shelter"
   ]
  },
  {
   "cell_type": "code",
   "execution_count": 33,
   "metadata": {},
   "outputs": [],
   "source": [
    "export_csv = data.to_csv (r'/Users/vincentsalamand/Downloads/auchan_catalog.csv', index = None, header=True)\n"
   ]
  },
  {
   "cell_type": "code",
   "execution_count": null,
   "metadata": {},
   "outputs": [],
   "source": []
  }
 ],
 "metadata": {
  "kernelspec": {
   "display_name": "Python 3",
   "language": "python",
   "name": "python3"
  },
  "language_info": {
   "codemirror_mode": {
    "name": "ipython",
    "version": 3
   },
   "file_extension": ".py",
   "mimetype": "text/x-python",
   "name": "python",
   "nbconvert_exporter": "python",
   "pygments_lexer": "ipython3",
   "version": "3.7.5"
  }
 },
 "nbformat": 4,
 "nbformat_minor": 2
}
