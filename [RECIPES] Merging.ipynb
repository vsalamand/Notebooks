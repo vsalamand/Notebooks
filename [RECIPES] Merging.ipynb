{
 "cells": [
  {
   "cell_type": "code",
   "execution_count": 2,
   "metadata": {},
   "outputs": [],
   "source": [
    "from selenium import webdriver\n",
    "from selenium.webdriver.common.keys import Keys\n",
    "from selenium.webdriver.common.action_chains import ActionChains\n",
    "from selenium.common.exceptions import ElementNotVisibleException\n",
    "from selenium.common.exceptions import NoSuchElementException\n",
    "from selenium.common.exceptions import StaleElementReferenceException\n",
    "from selenium.webdriver.common.by import By\n",
    "from selenium.webdriver.support.ui import WebDriverWait\n",
    "from selenium.webdriver.support import expected_conditions as EC\n",
    "from bs4 import BeautifulSoup, CData\n",
    "import requests\n",
    "\n",
    "from time import sleep\n",
    "import pandas as pd \n",
    "import numpy as np\n",
    "import re\n",
    "import tldextract\n",
    "import html\n",
    "import scrape_schema_recipe\n",
    "from ast import literal_eval\n",
    "from html import unescape\n",
    "\n",
    "\n"
   ]
  },
  {
   "cell_type": "code",
   "execution_count": 4,
   "metadata": {},
   "outputs": [],
   "source": [
    "amandinebasilic = pd.read_csv ('/Users/vincentsalamand/Documents/Clubmama/Recipes/amandinebasilic.csv')\n",
    "cahierdegourmandises = pd.read_csv ('/Users/vincentsalamand/Documents/Clubmama/Recipes/cahierdegourmandises.csv')\n",
    "clemfoodie = pd.read_csv ('/Users/vincentsalamand/Documents/Clubmama/Recipes/clemfoodie.csv')\n",
    "cuisineaddict = pd.read_csv ('/Users/vincentsalamand/Documents/Clubmama/Recipes/cuisine-addict.csv')\n",
    "cuisineculinaire = pd.read_csv ('/Users/vincentsalamand/Documents/Clubmama/Recipes/cuisineculinaire.csv')\n",
    "cuisinemoiunmouton = pd.read_csv ('/Users/vincentsalamand/Documents/Clubmama/Recipes/cuisinemoiunmouton.csv')\n",
    "deliacious = pd.read_csv ('/Users/vincentsalamand/Documents/Clubmama/Recipes/deliacious.csv')\n",
    "delizioso = pd.read_csv ('/Users/vincentsalamand/Documents/Clubmama/Recipes/delizioso.csv')\n",
    "emiliemurmure = pd.read_csv ('/Users/vincentsalamand/Documents/Clubmama/Recipes/emiliemurmure.csv')\n",
    "fourneauxetfourchettes = pd.read_csv ('/Users/vincentsalamand/Documents/Clubmama/Recipes/fourneauxetfourchettes.csv')\n",
    "freethepickle = pd.read_csv ('/Users/vincentsalamand/Documents/Clubmama/Recipes/freethepickle.csv')\n",
    "mahealthytendency = pd.read_csv ('/Users/vincentsalamand/Documents/Clubmama/Recipes/mahealthytendency.csv')\n",
    "marciatack = pd.read_csv ('/Users/vincentsalamand/Documents/Clubmama/Recipes/marciatack.csv')\n",
    "mesbrouillonsdecuisine = pd.read_csv ('/Users/vincentsalamand/Documents/Clubmama/Recipes/mesbrouillonsdecuisine.csv')\n",
    "papillesetpupilles = pd.read_csv ('/Users/vincentsalamand/Documents/Clubmama/Recipes/papillesetpupilles.csv')\n",
    "tangerinezest = pd.read_csv ('/Users/vincentsalamand/Documents/Clubmama/Recipes/tangerinezest.csv')\n",
    "undejeunerdesoleil = pd.read_csv ('/Users/vincentsalamand/Documents/Clubmama/Recipes/undejeunerdesoleil.csv')\n",
    "\n",
    "\n",
    "recipes = [amandinebasilic, cahierdegourmandises, clemfoodie, cuisineaddict, cuisineculinaire, cuisinemoiunmouton,\n",
    "            deliacious, delizioso, emiliemurmure, fourneauxetfourchettes, freethepickle, mahealthytendency,\n",
    "           marciatack, mesbrouillonsdecuisine, papillesetpupilles, tangerinezest, undejeunerdesoleil]\n"
   ]
  },
  {
   "cell_type": "code",
   "execution_count": 9,
   "metadata": {},
   "outputs": [],
   "source": [
    "#recipe_data = pd.concat(recipes, ignore_index=True, sort=False)\n",
    "recipe_data = cuisineaddict\n"
   ]
  },
  {
   "cell_type": "code",
   "execution_count": 178,
   "metadata": {},
   "outputs": [],
   "source": [
    "recipe_data.image = recipe_data.image.apply(lambda x : literal_eval(x) if str(x).startswith('[') else x )\n",
    "\n",
    "#recipe_data.recipeIngredient = recipe_data.recipeIngredient.apply(lambda x : literal_eval(x) if str(x).startswith('[') else x )\n",
    "#recipe_data.recipeInstructions = recipe_data.recipeInstructions.apply(lambda x : literal_eval(x) if str(x).startswith('[') else x )\n",
    "\n"
   ]
  },
  {
   "cell_type": "code",
   "execution_count": 193,
   "metadata": {},
   "outputs": [],
   "source": [
    "#recipe_data.to_csv (r'/Users/vincentsalamand/Documents/Clubmama/Recipes/recipelist.csv', index = None, header=True)\n"
   ]
  },
  {
   "cell_type": "code",
   "execution_count": 180,
   "metadata": {},
   "outputs": [],
   "source": [
    "#literal_eval(recipe_data.loc[803].recipeInstructions)\n",
    "\n",
    "#recipe_data.loc[804].recipeInstructions\n"
   ]
  },
  {
   "cell_type": "code",
   "execution_count": 8,
   "metadata": {
    "scrolled": true
   },
   "outputs": [
    {
     "data": {
      "text/html": [
       "<div>\n",
       "<style scoped>\n",
       "    .dataframe tbody tr th:only-of-type {\n",
       "        vertical-align: middle;\n",
       "    }\n",
       "\n",
       "    .dataframe tbody tr th {\n",
       "        vertical-align: top;\n",
       "    }\n",
       "\n",
       "    .dataframe thead th {\n",
       "        text-align: right;\n",
       "    }\n",
       "</style>\n",
       "<table border=\"1\" class=\"dataframe\">\n",
       "  <thead>\n",
       "    <tr style=\"text-align: right;\">\n",
       "      <th></th>\n",
       "      <th>url</th>\n",
       "      <th>cookTime</th>\n",
       "      <th>prepTime</th>\n",
       "      <th>name</th>\n",
       "      <th>image</th>\n",
       "      <th>recipeIngredient</th>\n",
       "      <th>recipeInstructions</th>\n",
       "      <th>recipeYield</th>\n",
       "      <th>author</th>\n",
       "      <th>totalTime</th>\n",
       "    </tr>\n",
       "  </thead>\n",
       "  <tbody>\n",
       "    <tr>\n",
       "      <th>181</th>\n",
       "      <td>https://amandebasilic.com/trifle-aux-pommes-cr...</td>\n",
       "      <td>20 minutes</td>\n",
       "      <td>30 minutes</td>\n",
       "      <td>NaN</td>\n",
       "      <td>['https://amandebasilic.com/wp-content/uploads...</td>\n",
       "      <td>['4 pommes (type Rainette du Canada)', '2 cuil...</td>\n",
       "      <td>['Tout d’abord, mettre la crème de coco, les f...</td>\n",
       "      <td>4 personnes</td>\n",
       "      <td>Amande et Basilic</td>\n",
       "      <td>50 minutes</td>\n",
       "    </tr>\n",
       "  </tbody>\n",
       "</table>\n",
       "</div>"
      ],
      "text/plain": [
       "                                                   url      cookTime  \\\n",
       "181  https://amandebasilic.com/trifle-aux-pommes-cr...    20 minutes   \n",
       "\n",
       "        prepTime name                                              image  \\\n",
       "181   30 minutes  NaN  ['https://amandebasilic.com/wp-content/uploads...   \n",
       "\n",
       "                                      recipeIngredient  \\\n",
       "181  ['4 pommes (type Rainette du Canada)', '2 cuil...   \n",
       "\n",
       "                                    recipeInstructions  recipeYield  \\\n",
       "181  ['Tout d’abord, mettre la crème de coco, les f...  4 personnes   \n",
       "\n",
       "                author    totalTime  \n",
       "181  Amande et Basilic   50 minutes  "
      ]
     },
     "execution_count": 8,
     "metadata": {},
     "output_type": "execute_result"
    }
   ],
   "source": [
    "#recipe_data[recipe_data[\"url\"] == \"http://cuisinemoiunmouton.com/pavlova-au-chocolat/\"]\n",
    "recipe_data[recipe_data['name'].isnull()]\n",
    "#recipe_data.iloc[1084].url\n",
    "\n"
   ]
  },
  {
   "cell_type": "code",
   "execution_count": 10,
   "metadata": {},
   "outputs": [
    {
     "data": {
      "text/plain": [
       "381"
      ]
     },
     "execution_count": 10,
     "metadata": {},
     "output_type": "execute_result"
    }
   ],
   "source": [
    "len(recipe_data)"
   ]
  },
  {
   "cell_type": "code",
   "execution_count": 198,
   "metadata": {},
   "outputs": [
    {
     "data": {
      "text/plain": [
       "180"
      ]
     },
     "execution_count": 198,
     "metadata": {},
     "output_type": "execute_result"
    }
   ],
   "source": [
    "len(recipe_data)"
   ]
  },
  {
   "cell_type": "code",
   "execution_count": 199,
   "metadata": {},
   "outputs": [
    {
     "data": {
      "text/plain": [
       "784"
      ]
     },
     "execution_count": 199,
     "metadata": {},
     "output_type": "execute_result"
    }
   ],
   "source": [
    "604 + 180"
   ]
  },
  {
   "cell_type": "code",
   "execution_count": 36,
   "metadata": {},
   "outputs": [],
   "source": [
    "#cuisineculinaire = pd.read_csv ('/Users/vincentsalamand/Documents/Clubmama/Recipes/cuisineculinaire.csv')\n",
    "cuisineculinaire.to_csv (r'/Users/vincentsalamand/Documents/Clubmama/Recipes/cuisineculinaire.csv', index = None, header=True)\n",
    "\n"
   ]
  },
  {
   "cell_type": "code",
   "execution_count": 34,
   "metadata": {},
   "outputs": [],
   "source": [
    "#cuisineculinaire[cuisineculinaire[\"url\"] == \"https://www.cuisineculinaire.com/lasagnes-aux-feuilles-de-chou-sans-gluten/\"]\n",
    "cuisineculinaire.at[53, 'image'] = \"['https://www.cuisineculinaire.com/wp-content/uploads/2019/02/Lasagnes-aux-feuilles-de-chou-epinards-recette-sans-gluten_3_680.jpg']\"\n",
    "\n",
    "\n"
   ]
  },
  {
   "cell_type": "code",
   "execution_count": 54,
   "metadata": {},
   "outputs": [
    {
     "data": {
      "text/html": [
       "<div>\n",
       "<style scoped>\n",
       "    .dataframe tbody tr th:only-of-type {\n",
       "        vertical-align: middle;\n",
       "    }\n",
       "\n",
       "    .dataframe tbody tr th {\n",
       "        vertical-align: top;\n",
       "    }\n",
       "\n",
       "    .dataframe thead th {\n",
       "        text-align: right;\n",
       "    }\n",
       "</style>\n",
       "<table border=\"1\" class=\"dataframe\">\n",
       "  <thead>\n",
       "    <tr style=\"text-align: right;\">\n",
       "      <th></th>\n",
       "      <th>name</th>\n",
       "      <th>author</th>\n",
       "      <th>datePublished</th>\n",
       "      <th>image</th>\n",
       "      <th>recipeYield</th>\n",
       "      <th>prepTime</th>\n",
       "      <th>cookTime</th>\n",
       "      <th>recipeIngredient</th>\n",
       "      <th>recipeInstructions</th>\n",
       "      <th>url</th>\n",
       "      <th>totalTime</th>\n",
       "    </tr>\n",
       "  </thead>\n",
       "  <tbody>\n",
       "    <tr>\n",
       "      <th>437</th>\n",
       "      <td>Cocktail Balalaïka ou Troïka</td>\n",
       "      <td>Edda Onorato</td>\n",
       "      <td>2018-12-31 08:00:23+00:00</td>\n",
       "      <td>['https://www.undejeunerdesoleil.com/wp-conten...</td>\n",
       "      <td>4 personnes</td>\n",
       "      <td>0 days 00:10:00.000000000</td>\n",
       "      <td>NaN</td>\n",
       "      <td>['12 cl vodka', '8 cl triple sec (type Grand M...</td>\n",
       "      <td>[\"Verser le sucre dans une petite assiette. Mo...</td>\n",
       "      <td>https://www.undejeunerdesoleil.com/2018/12/coc...</td>\n",
       "      <td>NaN</td>\n",
       "    </tr>\n",
       "    <tr>\n",
       "      <th>438</th>\n",
       "      <td>Gin Tonic</td>\n",
       "      <td>Edda Onorato</td>\n",
       "      <td>2018-09-29 09:00:26+00:00</td>\n",
       "      <td>['https://www.undejeunerdesoleil.com/wp-conten...</td>\n",
       "      <td>4 personnes</td>\n",
       "      <td>0 days 00:05:00.000000000</td>\n",
       "      <td>NaN</td>\n",
       "      <td>['16 cl gin', '8 cl jus de citron (facultatif)...</td>\n",
       "      <td>['Remplir la moitié des verres avec des glaçon...</td>\n",
       "      <td>https://www.undejeunerdesoleil.com/2018/09/gin...</td>\n",
       "      <td>0 days 00:05:00.000000000</td>\n",
       "    </tr>\n",
       "    <tr>\n",
       "      <th>439</th>\n",
       "      <td>Bellini cocktail</td>\n",
       "      <td>Edda</td>\n",
       "      <td>2018-09-08 09:00:22+00:00</td>\n",
       "      <td>['https://www.undejeunerdesoleil.com/wp-conten...</td>\n",
       "      <td>4 personnes</td>\n",
       "      <td>0 days 00:10:00.000000000</td>\n",
       "      <td>NaN</td>\n",
       "      <td>['160 g pêche (blanche (pulpe) ou de nectarine...</td>\n",
       "      <td>['Mettre les verres au frais 5 minutes. Pendan...</td>\n",
       "      <td>https://www.undejeunerdesoleil.com/2018/09/bel...</td>\n",
       "      <td>0 days 00:10:00.000000000</td>\n",
       "    </tr>\n",
       "    <tr>\n",
       "      <th>440</th>\n",
       "      <td>Irish coffee</td>\n",
       "      <td>Edda Onorato</td>\n",
       "      <td>2018-02-26 09:00:37+00:00</td>\n",
       "      <td>['https://www.undejeunerdesoleil.com/wp-conten...</td>\n",
       "      <td>4 personnes</td>\n",
       "      <td>0 days 00:10:00.000000000</td>\n",
       "      <td>0 days 00:05:00.000000000</td>\n",
       "      <td>['16 cl whisky (Irish)', '32 cl café (chaud)',...</td>\n",
       "      <td>[\"Préparer la crème fouettée : dans un bol, fo...</td>\n",
       "      <td>https://www.undejeunerdesoleil.com/2018/02/iri...</td>\n",
       "      <td>NaN</td>\n",
       "    </tr>\n",
       "    <tr>\n",
       "      <th>441</th>\n",
       "      <td>Bière de gingembre maison (ginger beer)</td>\n",
       "      <td>Edda Onorato</td>\n",
       "      <td>2017-06-19 07:00:00+00:00</td>\n",
       "      <td>['https://www.undejeunerdesoleil.com/wp-conten...</td>\n",
       "      <td>4 personnes (1l)</td>\n",
       "      <td>0 days 00:15:00.000000000</td>\n",
       "      <td>NaN</td>\n",
       "      <td>['1 l eau minérale', '100 g gingembre  (frais ...</td>\n",
       "      <td>['Couper en tout petits dés le gingembre, le h...</td>\n",
       "      <td>https://www.undejeunerdesoleil.com/2017/06/bie...</td>\n",
       "      <td>NaN</td>\n",
       "    </tr>\n",
       "  </tbody>\n",
       "</table>\n",
       "</div>"
      ],
      "text/plain": [
       "                                        name        author  \\\n",
       "437             Cocktail Balalaïka ou Troïka  Edda Onorato   \n",
       "438                                Gin Tonic  Edda Onorato   \n",
       "439                         Bellini cocktail          Edda   \n",
       "440                             Irish coffee  Edda Onorato   \n",
       "441  Bière de gingembre maison (ginger beer)  Edda Onorato   \n",
       "\n",
       "                 datePublished  \\\n",
       "437  2018-12-31 08:00:23+00:00   \n",
       "438  2018-09-29 09:00:26+00:00   \n",
       "439  2018-09-08 09:00:22+00:00   \n",
       "440  2018-02-26 09:00:37+00:00   \n",
       "441  2017-06-19 07:00:00+00:00   \n",
       "\n",
       "                                                 image       recipeYield  \\\n",
       "437  ['https://www.undejeunerdesoleil.com/wp-conten...       4 personnes   \n",
       "438  ['https://www.undejeunerdesoleil.com/wp-conten...       4 personnes   \n",
       "439  ['https://www.undejeunerdesoleil.com/wp-conten...       4 personnes   \n",
       "440  ['https://www.undejeunerdesoleil.com/wp-conten...       4 personnes   \n",
       "441  ['https://www.undejeunerdesoleil.com/wp-conten...  4 personnes (1l)   \n",
       "\n",
       "                      prepTime                   cookTime  \\\n",
       "437  0 days 00:10:00.000000000                        NaN   \n",
       "438  0 days 00:05:00.000000000                        NaN   \n",
       "439  0 days 00:10:00.000000000                        NaN   \n",
       "440  0 days 00:10:00.000000000  0 days 00:05:00.000000000   \n",
       "441  0 days 00:15:00.000000000                        NaN   \n",
       "\n",
       "                                      recipeIngredient  \\\n",
       "437  ['12 cl vodka', '8 cl triple sec (type Grand M...   \n",
       "438  ['16 cl gin', '8 cl jus de citron (facultatif)...   \n",
       "439  ['160 g pêche (blanche (pulpe) ou de nectarine...   \n",
       "440  ['16 cl whisky (Irish)', '32 cl café (chaud)',...   \n",
       "441  ['1 l eau minérale', '100 g gingembre  (frais ...   \n",
       "\n",
       "                                    recipeInstructions  \\\n",
       "437  [\"Verser le sucre dans une petite assiette. Mo...   \n",
       "438  ['Remplir la moitié des verres avec des glaçon...   \n",
       "439  ['Mettre les verres au frais 5 minutes. Pendan...   \n",
       "440  [\"Préparer la crème fouettée : dans un bol, fo...   \n",
       "441  ['Couper en tout petits dés le gingembre, le h...   \n",
       "\n",
       "                                                   url  \\\n",
       "437  https://www.undejeunerdesoleil.com/2018/12/coc...   \n",
       "438  https://www.undejeunerdesoleil.com/2018/09/gin...   \n",
       "439  https://www.undejeunerdesoleil.com/2018/09/bel...   \n",
       "440  https://www.undejeunerdesoleil.com/2018/02/iri...   \n",
       "441  https://www.undejeunerdesoleil.com/2017/06/bie...   \n",
       "\n",
       "                     totalTime  \n",
       "437                        NaN  \n",
       "438  0 days 00:05:00.000000000  \n",
       "439  0 days 00:10:00.000000000  \n",
       "440                        NaN  \n",
       "441                        NaN  "
      ]
     },
     "execution_count": 54,
     "metadata": {},
     "output_type": "execute_result"
    }
   ],
   "source": [
    "undejeunerdesoleil.tail()"
   ]
  },
  {
   "cell_type": "code",
   "execution_count": null,
   "metadata": {},
   "outputs": [],
   "source": []
  }
 ],
 "metadata": {
  "kernelspec": {
   "display_name": "Python 3",
   "language": "python",
   "name": "python3"
  },
  "language_info": {
   "codemirror_mode": {
    "name": "ipython",
    "version": 3
   },
   "file_extension": ".py",
   "mimetype": "text/x-python",
   "name": "python",
   "nbconvert_exporter": "python",
   "pygments_lexer": "ipython3",
   "version": "3.7.5"
  }
 },
 "nbformat": 4,
 "nbformat_minor": 2
}
