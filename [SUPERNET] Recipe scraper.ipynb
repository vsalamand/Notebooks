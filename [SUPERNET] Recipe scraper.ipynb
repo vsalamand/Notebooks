{
 "cells": [
  {
   "cell_type": "code",
   "execution_count": 5,
   "id": "511d554c",
   "metadata": {},
   "outputs": [],
   "source": [
    "### Defining functions to scrape website & food blogs\n",
    "## 1. With application/ld+json\n",
    "## 2. With schema tags itemprop\n",
    "## 3. With unstructured format \n",
    "\n",
    "\n"
   ]
  },
  {
   "cell_type": "code",
   "execution_count": 186,
   "id": "73d4a86e",
   "metadata": {},
   "outputs": [],
   "source": [
    "json_ld: [\n",
    "    \"https://www.marmiton.org/recettes/recette_gratin-dauphinois-tres-facile_58956.aspx\",\n",
    "    \"https://clemfoodie.com/2021/08/22/crumble-aux-prunes-rouges-et-amandes/\",\n",
    "    \"https://tangerinezest.com/pizza-tomate-burrata-basilic-et-mortadelle/\",\n",
    "    \"https://recettesdejulie.fr/10351/crumble-mirabelles-avoine-noisettes/\"\n",
    "]\n",
    "    \n",
    "microdata: [\n",
    "    \"https://mesbrouillonsdecuisine.fr/pancakes-sales-a-la-farine-de-pois-chiches-jeunes-pousses-depinards-et-tomates-sechees/\"\n",
    "]\n",
    "    \n",
    "hard_test_urls: [\n",
    "    \"https://www.undejeunerdesoleil.com/2018/05/tramezzini-thon-artichauts-venise.html\",\n",
    "    \"http://www.chezmisa.com/burgers-de-boeuf-persilles-et-sauce-au-miel/\",\n",
    "    \"https://cookingjulia.blogspot.com/2021/08/poulet-la-mexicaine.html\",\n",
    "    \"https://wernerhappyeats.com/djeunerdner/2017/12/29/grilled-chicken-lunch-bento-yxbn2\",\n",
    "    \"https://doriannn.blogspot.com/2021/08/knackinkorea-parce-que-decidement-je-ne.html\",\n",
    "    \"https://madamcadamia.com/2021/09/02/crumble-aux-mures-et-noisettes/\",\n",
    "    \"https://www.plusunemiettedanslassiette.fr/moules-marinara/\"\n",
    "]"
   ]
  },
  {
   "cell_type": "code",
   "execution_count": 163,
   "id": "966b3d79",
   "metadata": {},
   "outputs": [],
   "source": [
    "import pandas as pd\n",
    "import numpy as np\n",
    "import requests\n",
    "import extruct\n",
    "import pprint\n",
    "from w3lib.html import get_base_url"
   ]
  },
  {
   "cell_type": "code",
   "execution_count": 440,
   "id": "d7f1ba79",
   "metadata": {
    "scrolled": true
   },
   "outputs": [
    {
     "name": "stdout",
     "output_type": "stream",
     "text": [
      "{'recipe': {'name': 0    Banana bread au beurre de cacahuètes\n",
      "Name: name, dtype: object, 'yield': 0    1 cake \n",
      "Name: recipeYield, dtype: object, 'ingredients': 0    [3 bananes bien mûres , 3 œufs , 100g de beurr...\n",
      "Name: recipeIngredient, dtype: object}}\n"
     ]
    }
   ],
   "source": [
    "url = 'https://yuka.io/recettes/banana-bread/'\n",
    "recipe = scrape(url)\n",
    "print(recipe)\n",
    "#print(recipe['recipe']['yield'].item())"
   ]
  },
  {
   "cell_type": "markdown",
   "id": "bc30ed18",
   "metadata": {},
   "source": [
    "# 1. Scrapping JSON-LD OR MICRODATA"
   ]
  },
  {
   "cell_type": "code",
   "execution_count": 393,
   "id": "96d4fcda",
   "metadata": {},
   "outputs": [],
   "source": [
    "\"\"\"Fetch structured JSON-LD OR MICRODATA data from a given URL.\"\"\"\n",
    "from typing import Optional, List\n",
    "import requests\n",
    "import extruct\n",
    "from w3lib.html import get_base_url\n",
    "from bs4 import BeautifulSoup\n",
    "\n",
    "\n",
    "def scrape(url: str) -> Optional[List[dict]]:\n",
    "    \"\"\"Parse structured data from a URL.\"\"\"\n",
    "    headers = {\n",
    "        'Access-Control-Allow-Origin': '*',\n",
    "        'Access-Control-Allow-Methods': 'GET',\n",
    "        'Access-Control-Allow-Headers': 'Content-Type',\n",
    "        'Access-Control-Max-Age': '3600',\n",
    "        'User-Agent': 'Mozilla/5.0 (X11; Ubuntu; Linux x86_64; rv:52.0) Gecko/20100101 Firefox/52.0'\n",
    "    }    \n",
    "    req = requests.get(url, headers=headers)\n",
    "    base_url = get_base_url(req.content, url)\n",
    "    html = get_html(url) \n",
    "    metadata = get_metadata(html, url)\n",
    "    if metadata:\n",
    "        recipe_df = get_recipe_df(metadata)\n",
    "        recipe = {\"recipe\": {\n",
    "                     \"name\": recipe_df.name,\n",
    "                     \"yield\": recipe_df.recipeYield,\n",
    "                     \"ingredients\": recipe_df.recipeIngredient    \n",
    "                    }\n",
    "                }            \n",
    "    else:\n",
    "        recipe = {\"no results\"\n",
    "                }        \n",
    "    return recipe\n",
    "\n",
    "\n",
    "def get_html(url: str):\n",
    "    \"\"\"Get raw HTML from a URL.\"\"\"\n",
    "    headers = {\n",
    "        'Access-Control-Allow-Origin': '*',\n",
    "        'Access-Control-Allow-Methods': 'GET',\n",
    "        'Access-Control-Allow-Headers': 'Content-Type',\n",
    "        'Access-Control-Max-Age': '3600',\n",
    "        'User-Agent': 'Mozilla/5.0 (X11; Ubuntu; Linux x86_64; rv:52.0) Gecko/20100101 Firefox/52.0'\n",
    "    }\n",
    "    req = requests.get(url, headers=headers)\n",
    "    return req.text\n",
    "\n",
    "\n",
    "def get_metadata(html, url: str):\n",
    "    r = requests.get(url)\n",
    "    \"\"\"Fetch JSON-LD structured data.\"\"\"\n",
    "    metadata = extruct.extract(\n",
    "        html,\n",
    "        base_url = get_base_url(r.text, r.url),\n",
    "        syntaxes=['json-ld'],\n",
    "        uniform=True\n",
    "    )['json-ld']\n",
    "    \"\"\"If empty, try fetch Microdata structured data.\"\"\"    \n",
    "    if metadata == []:\n",
    "        metadata = extruct.extract(\n",
    "            html,\n",
    "            base_url = get_base_url(r.text, r.url),\n",
    "            syntaxes=['microdata'],\n",
    "            uniform=True\n",
    "        )['microdata']        \n",
    "    if bool(metadata) and isinstance(metadata, list):\n",
    "        metadata = metadata[0]\n",
    "    return metadata\n",
    "\n",
    "def get_recipe_df(metadata):\n",
    "    #check metadata dict format \n",
    "    if '@graph' in metadata:\n",
    "        recipe_df = pd.DataFrame(metadata['@graph'])\n",
    "    else:\n",
    "        recipe_df = pd.DataFrame.from_dict(metadata, orient='index').transpose()\n",
    "    #get first row with recipeIngredient\n",
    "    recipe_df = recipe_df.sort_values(by='recipeIngredient').head(1)\n",
    "    return recipe_df\n"
   ]
  },
  {
   "cell_type": "markdown",
   "id": "f80324db",
   "metadata": {},
   "source": [
    "# 2. Non-structured data"
   ]
  },
  {
   "cell_type": "code",
   "execution_count": 725,
   "id": "4d742b4f",
   "metadata": {},
   "outputs": [
    {
     "name": "stdout",
     "output_type": "stream",
     "text": [
      "0\n"
     ]
    },
    {
     "data": {
      "text/html": [
       "<div>\n",
       "<style scoped>\n",
       "    .dataframe tbody tr th:only-of-type {\n",
       "        vertical-align: middle;\n",
       "    }\n",
       "\n",
       "    .dataframe tbody tr th {\n",
       "        vertical-align: top;\n",
       "    }\n",
       "\n",
       "    .dataframe thead th {\n",
       "        text-align: right;\n",
       "    }\n",
       "</style>\n",
       "<table border=\"1\" class=\"dataframe\">\n",
       "  <thead>\n",
       "    <tr style=\"text-align: right;\">\n",
       "      <th></th>\n",
       "      <th>text</th>\n",
       "      <th>type</th>\n",
       "    </tr>\n",
       "  </thead>\n",
       "  <tbody>\n",
       "    <tr>\n",
       "      <th>104944</th>\n",
       "      <td>j’ai refait ma recette de brioche moelleuse dé...</td>\n",
       "      <td>other</td>\n",
       "    </tr>\n",
       "    <tr>\n",
       "      <th>104945</th>\n",
       "      <td>je n’ai pas pu m’empêcher de la photographier ...</td>\n",
       "      <td>other</td>\n",
       "    </tr>\n",
       "    <tr>\n",
       "      <th>104946</th>\n",
       "      <td>pour cette recette, j’ai utilisé environ 1/3 d...</td>\n",
       "      <td>other</td>\n",
       "    </tr>\n",
       "    <tr>\n",
       "      <th>104947</th>\n",
       "      <td>la brioche est moelleuse, parfaitement aromati...</td>\n",
       "      <td>other</td>\n",
       "    </tr>\n",
       "    <tr>\n",
       "      <th>104948</th>\n",
       "      <td>elle monte parfaitement pour être très légère ...</td>\n",
       "      <td>other</td>\n",
       "    </tr>\n",
       "  </tbody>\n",
       "</table>\n",
       "</div>"
      ],
      "text/plain": [
       "                                                     text   type\n",
       "104944  j’ai refait ma recette de brioche moelleuse dé...  other\n",
       "104945  je n’ai pas pu m’empêcher de la photographier ...  other\n",
       "104946  pour cette recette, j’ai utilisé environ 1/3 d...  other\n",
       "104947  la brioche est moelleuse, parfaitement aromati...  other\n",
       "104948  elle monte parfaitement pour être très légère ...  other"
      ]
     },
     "execution_count": 725,
     "metadata": {},
     "output_type": "execute_result"
    }
   ],
   "source": [
    "# Load label dataset\n",
    "label_data = pd.read_csv(r'/Users/vincentsalamand/Documents/datasets/label_recipe_text.csv')\n",
    "print(len(label_data[label_data.isnull().any(axis=1)]))\n",
    "label_data.tail()\n"
   ]
  },
  {
   "cell_type": "code",
   "execution_count": 726,
   "id": "4b73c907",
   "metadata": {},
   "outputs": [],
   "source": [
    "#Splitting the dataset into train and test\n",
    "train = label_data.sample(frac = 0.8, random_state = 42)\n",
    "test = label_data.drop(train.index)\n"
   ]
  },
  {
   "cell_type": "code",
   "execution_count": 731,
   "id": "22530e5d",
   "metadata": {},
   "outputs": [],
   "source": [
    "#convert train & test datasets to array of tuples\n",
    "train_subset = train[['text', 'type']]\n",
    "train_tuples = [tuple(x) for x in train_subset.to_numpy()]\n",
    "test_subset = test[['text', 'type']]\n",
    "test_tuples = [tuple(x) for x in test_subset.to_numpy()]\n",
    "\n"
   ]
  },
  {
   "cell_type": "code",
   "execution_count": 734,
   "id": "37b4a592",
   "metadata": {},
   "outputs": [
    {
     "ename": "ModuleNotFoundError",
     "evalue": "No module named 'textblob'",
     "output_type": "error",
     "traceback": [
      "\u001b[0;31m---------------------------------------------------------------------------\u001b[0m",
      "\u001b[0;31mModuleNotFoundError\u001b[0m                       Traceback (most recent call last)",
      "\u001b[0;32m<ipython-input-734-324dd8396cbd>\u001b[0m in \u001b[0;36m<module>\u001b[0;34m\u001b[0m\n\u001b[0;32m----> 1\u001b[0;31m \u001b[0;32mimport\u001b[0m \u001b[0mtextblob\u001b[0m\u001b[0;34m\u001b[0m\u001b[0;34m\u001b[0m\u001b[0m\n\u001b[0m",
      "\u001b[0;31mModuleNotFoundError\u001b[0m: No module named 'textblob'"
     ]
    }
   ],
   "source": [
    "import textblob"
   ]
  },
  {
   "cell_type": "code",
   "execution_count": 733,
   "id": "27e7cceb",
   "metadata": {},
   "outputs": [
    {
     "ename": "ModuleNotFoundError",
     "evalue": "No module named 'textblob'",
     "output_type": "error",
     "traceback": [
      "\u001b[0;31m---------------------------------------------------------------------------\u001b[0m",
      "\u001b[0;31mModuleNotFoundError\u001b[0m                       Traceback (most recent call last)",
      "\u001b[0;32m<ipython-input-733-83402abddf8f>\u001b[0m in \u001b[0;36m<module>\u001b[0;34m\u001b[0m\n\u001b[1;32m      1\u001b[0m \u001b[0;31m#reate a Naive Bayes classifier, passing the training data into the constructor\u001b[0m\u001b[0;34m\u001b[0m\u001b[0;34m\u001b[0m\u001b[0;34m\u001b[0m\u001b[0m\n\u001b[0;32m----> 2\u001b[0;31m \u001b[0;32mfrom\u001b[0m \u001b[0mtextblob\u001b[0m\u001b[0;34m.\u001b[0m\u001b[0mclassifiers\u001b[0m \u001b[0;32mimport\u001b[0m \u001b[0mNaiveBayesClassifier\u001b[0m\u001b[0;34m\u001b[0m\u001b[0;34m\u001b[0m\u001b[0m\n\u001b[0m\u001b[1;32m      3\u001b[0m \u001b[0mcl\u001b[0m \u001b[0;34m=\u001b[0m \u001b[0mNaiveBayesClassifier\u001b[0m\u001b[0;34m(\u001b[0m\u001b[0mtrain_tuples\u001b[0m\u001b[0;34m)\u001b[0m\u001b[0;34m\u001b[0m\u001b[0;34m\u001b[0m\u001b[0m\n\u001b[1;32m      4\u001b[0m \u001b[0;34m\u001b[0m\u001b[0m\n",
      "\u001b[0;31mModuleNotFoundError\u001b[0m: No module named 'textblob'"
     ]
    }
   ],
   "source": [
    "#reate a Naive Bayes classifier, passing the training data into the constructor\n",
    "from textblob.classifiers import NaiveBayesClassifier\n",
    "cl = NaiveBayesClassifier(train_tuples)\n",
    "\n"
   ]
  },
  {
   "cell_type": "code",
   "execution_count": null,
   "id": "3df75d96",
   "metadata": {},
   "outputs": [],
   "source": []
  }
 ],
 "metadata": {
  "kernelspec": {
   "display_name": "Python 3",
   "language": "python",
   "name": "python3"
  },
  "language_info": {
   "codemirror_mode": {
    "name": "ipython",
    "version": 3
   },
   "file_extension": ".py",
   "mimetype": "text/x-python",
   "name": "python",
   "nbconvert_exporter": "python",
   "pygments_lexer": "ipython3",
   "version": "3.8.8"
  }
 },
 "nbformat": 4,
 "nbformat_minor": 5
}
