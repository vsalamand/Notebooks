{
 "cells": [
  {
   "cell_type": "code",
   "execution_count": 5,
   "id": "511d554c",
   "metadata": {},
   "outputs": [],
   "source": [
    "### Defining functions to scrape website & food blogs\n",
    "## 1. With application/ld+json\n",
    "## 2. With schema tags itemprop\n",
    "## 3. With unstructured format \n",
    "\n",
    "\n"
   ]
  },
  {
   "cell_type": "code",
   "execution_count": 186,
   "id": "641e162d",
   "metadata": {},
   "outputs": [],
   "source": [
    "json_ld: [\n",
    "    \"https://www.marmiton.org/recettes/recette_gratin-dauphinois-tres-facile_58956.aspx\",\n",
    "    \"https://clemfoodie.com/2021/08/22/crumble-aux-prunes-rouges-et-amandes/\",\n",
    "    \"https://tangerinezest.com/pizza-tomate-burrata-basilic-et-mortadelle/\",\n",
    "    \"https://recettesdejulie.fr/10351/crumble-mirabelles-avoine-noisettes/\"\n",
    "]\n",
    "    \n",
    "microdata: [\n",
    "    \"https://mesbrouillonsdecuisine.fr/pancakes-sales-a-la-farine-de-pois-chiches-jeunes-pousses-depinards-et-tomates-sechees/\"\n",
    "]\n",
    "    \n",
    "hard_test_urls: [\n",
    "    \"https://www.undejeunerdesoleil.com/2018/05/tramezzini-thon-artichauts-venise.html\",\n",
    "    \"http://www.chezmisa.com/burgers-de-boeuf-persilles-et-sauce-au-miel/\",\n",
    "    \"https://cookingjulia.blogspot.com/2021/08/poulet-la-mexicaine.html\",\n",
    "    \"https://wernerhappyeats.com/djeunerdner/2017/12/29/grilled-chicken-lunch-bento-yxbn2\",\n",
    "    \"https://doriannn.blogspot.com/2021/08/knackinkorea-parce-que-decidement-je-ne.html\",\n",
    "    \"https://madamcadamia.com/2021/09/02/crumble-aux-mures-et-noisettes/\",\n",
    "    \"https://www.plusunemiettedanslassiette.fr/moules-marinara/\"\n",
    "]"
   ]
  },
  {
   "cell_type": "code",
   "execution_count": 163,
   "id": "966b3d79",
   "metadata": {},
   "outputs": [],
   "source": [
    "import pandas as pd\n",
    "import numpy as np\n",
    "import requests\n",
    "import extruct\n",
    "import pprint\n",
    "from w3lib.html import get_base_url"
   ]
  },
  {
   "cell_type": "code",
   "execution_count": 402,
   "id": "87d0bb22",
   "metadata": {
    "scrolled": true
   },
   "outputs": [
    {
     "name": "stdout",
     "output_type": "stream",
     "text": [
      "{'recipe': {'name': 0    Pancakes salés à la farine de pois chiches, je...\n",
      "Name: name, dtype: object, 'yield': 0    pour 2 personnes\n",
      "Name: recipeYield, dtype: object, 'ingredients': 0    [pour 6 pancakes :, 140g de farine de pois chi...\n",
      "Name: recipeIngredient, dtype: object}}\n"
     ]
    }
   ],
   "source": [
    "url = 'https://www.marmiton.org/recettes/recette_gratin-dauphinois-tres-facile_58956.aspx'\n",
    "recipe = scrape(url)\n",
    "print(recipe)\n",
    "#print(recipe['recipe']['yield'].item())"
   ]
  },
  {
   "cell_type": "markdown",
   "id": "bc30ed18",
   "metadata": {},
   "source": [
    "# 1. Scrapping JSON-LD OR MICRODATA"
   ]
  },
  {
   "cell_type": "code",
   "execution_count": 393,
   "id": "b7ccc62d",
   "metadata": {},
   "outputs": [],
   "source": [
    "\"\"\"Fetch structured JSON-LD OR MICRODATA data from a given URL.\"\"\"\n",
    "from typing import Optional, List\n",
    "import requests\n",
    "import extruct\n",
    "from w3lib.html import get_base_url\n",
    "from bs4 import BeautifulSoup\n",
    "\n",
    "\n",
    "def scrape(url: str) -> Optional[List[dict]]:\n",
    "    \"\"\"Parse structured data from a URL.\"\"\"\n",
    "    headers = {\n",
    "        'Access-Control-Allow-Origin': '*',\n",
    "        'Access-Control-Allow-Methods': 'GET',\n",
    "        'Access-Control-Allow-Headers': 'Content-Type',\n",
    "        'Access-Control-Max-Age': '3600',\n",
    "        'User-Agent': 'Mozilla/5.0 (X11; Ubuntu; Linux x86_64; rv:52.0) Gecko/20100101 Firefox/52.0'\n",
    "    }    \n",
    "    req = requests.get(url, headers=headers)\n",
    "    base_url = get_base_url(req.content, url)\n",
    "    html = get_html(url) \n",
    "    metadata = get_metadata(html, url)\n",
    "    if metadata:\n",
    "        recipe_df = get_recipe_df(metadata)\n",
    "        recipe = {\"recipe\": {\n",
    "                     \"name\": recipe_df.name,\n",
    "                     \"yield\": recipe_df.recipeYield,\n",
    "                     \"ingredients\": recipe_df.recipeIngredient    \n",
    "                    }\n",
    "                }            \n",
    "    else:\n",
    "        recipe = {\"no results\"\n",
    "                }        \n",
    "    return recipe\n",
    "\n",
    "\n",
    "def get_html(url: str):\n",
    "    \"\"\"Get raw HTML from a URL.\"\"\"\n",
    "    headers = {\n",
    "        'Access-Control-Allow-Origin': '*',\n",
    "        'Access-Control-Allow-Methods': 'GET',\n",
    "        'Access-Control-Allow-Headers': 'Content-Type',\n",
    "        'Access-Control-Max-Age': '3600',\n",
    "        'User-Agent': 'Mozilla/5.0 (X11; Ubuntu; Linux x86_64; rv:52.0) Gecko/20100101 Firefox/52.0'\n",
    "    }\n",
    "    req = requests.get(url, headers=headers)\n",
    "    return req.text\n",
    "\n",
    "\n",
    "def get_metadata(html, url: str):\n",
    "    r = requests.get(url)\n",
    "    \"\"\"Fetch JSON-LD structured data.\"\"\"\n",
    "    metadata = extruct.extract(\n",
    "        html,\n",
    "        base_url = get_base_url(r.text, r.url),\n",
    "        syntaxes=['json-ld'],\n",
    "        uniform=True\n",
    "    )['json-ld']\n",
    "    \"\"\"If empty, try fetch Microdata structured data.\"\"\"    \n",
    "    if metadata == []:\n",
    "        metadata = extruct.extract(\n",
    "            html,\n",
    "            base_url = get_base_url(r.text, r.url),\n",
    "            syntaxes=['microdata'],\n",
    "            uniform=True\n",
    "        )['microdata']        \n",
    "    if bool(metadata) and isinstance(metadata, list):\n",
    "        metadata = metadata[0]\n",
    "    return metadata\n",
    "\n",
    "def get_recipe_df(metadata):\n",
    "    #check metadata dict format \n",
    "    if '@graph' in metadata:\n",
    "        recipe_df = pd.DataFrame(metadata['@graph'])\n",
    "    else:\n",
    "        recipe_df = pd.DataFrame.from_dict(metadata, orient='index').transpose()\n",
    "    #get first row with recipeIngredient\n",
    "    recipe_df = recipe_df.sort_values(by='recipeIngredient').head(1)\n",
    "    return recipe_df\n"
   ]
  },
  {
   "cell_type": "markdown",
   "id": "e8970952",
   "metadata": {},
   "source": [
    "# 2. Non-structured data"
   ]
  },
  {
   "cell_type": "code",
   "execution_count": 20,
   "id": "c613dcaa",
   "metadata": {},
   "outputs": [],
   "source": [
    "import scrape_schema_recipe"
   ]
  },
  {
   "cell_type": "code",
   "execution_count": 360,
   "id": "57f01800",
   "metadata": {
    "scrolled": true
   },
   "outputs": [
    {
     "name": "stdout",
     "output_type": "stream",
     "text": [
      "Number cake, biscuit noisette et ganache Pralinoise\n",
      "['4  œufs', '160 g de poudre de noisette', '160 g de sucre glace', '40 g de beurre fondu', '4  blancs d’œuf', '25 g de sucre', '60 g de farine', '50 cl de crème fleurette', '360 g de Pralinoise (2 tablettes)', '40 g de chocolat noir', '100 g de mûres', 'Amandes enrobées de chocolat', 'Crêpes dentelle au chocolat', 'Quelques fleurs de Souci']\n",
      "['20', '20 parts']\n"
     ]
    }
   ],
   "source": [
    "url = 'https://www.byacb4you.com/number-cake-noisette-ganache-pralinoise.html'\n",
    "recipe_list = scrape_schema_recipe.scrape_url(url, python_objects=True)\n",
    "recipe = recipe_list[0]\n",
    "\n",
    "print(recipe['name'])\n",
    "print(recipe['recipeIngredient'])\n"
   ]
  },
  {
   "cell_type": "code",
   "execution_count": 407,
   "id": "5a893ada",
   "metadata": {},
   "outputs": [
    {
     "ename": "NameError",
     "evalue": "name 'hard_test_urls' is not defined",
     "output_type": "error",
     "traceback": [
      "\u001b[0;31m---------------------------------------------------------------------------\u001b[0m",
      "\u001b[0;31mNameError\u001b[0m                                 Traceback (most recent call last)",
      "\u001b[0;32m<ipython-input-407-2e3d8b8086ce>\u001b[0m in \u001b[0;36m<module>\u001b[0;34m\u001b[0m\n\u001b[0;32m----> 1\u001b[0;31m \u001b[0mhard_test_urls\u001b[0m\u001b[0;34m\u001b[0m\u001b[0;34m\u001b[0m\u001b[0m\n\u001b[0m",
      "\u001b[0;31mNameError\u001b[0m: name 'hard_test_urls' is not defined"
     ]
    }
   ],
   "source": [
    "hard_test_urls"
   ]
  },
  {
   "cell_type": "code",
   "execution_count": 406,
   "id": "d022a5a8",
   "metadata": {},
   "outputs": [],
   "source": [
    "hard_test_urls  [\n",
    "    \"https://www.undejeunerdesoleil.com/2018/05/tramezzini-thon-artichauts-venise.html\",\n",
    "    \"http://www.chezmisa.com/burgers-de-boeuf-persilles-et-sauce-au-miel/\",\n",
    "    \"https://cookingjulia.blogspot.com/2021/08/poulet-la-mexicaine.html\",\n",
    "    \"https://wernerhappyeats.com/djeunerdner/2017/12/29/grilled-chicken-lunch-bento-yxbn2\",\n",
    "    \"https://doriannn.blogspot.com/2021/08/knackinkorea-parce-que-decidement-je-ne.html\",\n",
    "    \"https://madamcadamia.com/2021/09/02/crumble-aux-mures-et-noisettes/\",\n",
    "    \"https://www.plusunemiettedanslassiette.fr/moules-marinara/\"\n",
    "]"
   ]
  },
  {
   "cell_type": "code",
   "execution_count": 404,
   "id": "618bbdc3",
   "metadata": {},
   "outputs": [
    {
     "ename": "NameError",
     "evalue": "name 'hard_test_urls' is not defined",
     "output_type": "error",
     "traceback": [
      "\u001b[0;31m---------------------------------------------------------------------------\u001b[0m",
      "\u001b[0;31mNameError\u001b[0m                                 Traceback (most recent call last)",
      "\u001b[0;32m<ipython-input-404-60ac5c7e1030>\u001b[0m in \u001b[0;36m<module>\u001b[0;34m\u001b[0m\n\u001b[1;32m      1\u001b[0m \u001b[0mpp\u001b[0m \u001b[0;34m=\u001b[0m \u001b[0mpprint\u001b[0m\u001b[0;34m.\u001b[0m\u001b[0mPrettyPrinter\u001b[0m\u001b[0;34m(\u001b[0m\u001b[0mindent\u001b[0m\u001b[0;34m=\u001b[0m\u001b[0;36m2\u001b[0m\u001b[0;34m)\u001b[0m\u001b[0;34m\u001b[0m\u001b[0;34m\u001b[0m\u001b[0m\n\u001b[0;32m----> 2\u001b[0;31m \u001b[0mr\u001b[0m \u001b[0;34m=\u001b[0m \u001b[0mrequests\u001b[0m\u001b[0;34m.\u001b[0m\u001b[0mget\u001b[0m\u001b[0;34m(\u001b[0m\u001b[0mhard_test_urls\u001b[0m\u001b[0;34m[\u001b[0m\u001b[0;36m0\u001b[0m\u001b[0;34m]\u001b[0m\u001b[0;34m)\u001b[0m\u001b[0;34m\u001b[0m\u001b[0;34m\u001b[0m\u001b[0m\n\u001b[0m\u001b[1;32m      3\u001b[0m \u001b[0mbase_url\u001b[0m \u001b[0;34m=\u001b[0m \u001b[0mget_base_url\u001b[0m\u001b[0;34m(\u001b[0m\u001b[0mr\u001b[0m\u001b[0;34m.\u001b[0m\u001b[0mtext\u001b[0m\u001b[0;34m,\u001b[0m \u001b[0mr\u001b[0m\u001b[0;34m.\u001b[0m\u001b[0murl\u001b[0m\u001b[0;34m)\u001b[0m\u001b[0;34m\u001b[0m\u001b[0;34m\u001b[0m\u001b[0m\n\u001b[1;32m      4\u001b[0m \u001b[0mdata\u001b[0m \u001b[0;34m=\u001b[0m \u001b[0mextruct\u001b[0m\u001b[0;34m.\u001b[0m\u001b[0mextract\u001b[0m\u001b[0;34m(\u001b[0m\u001b[0mr\u001b[0m\u001b[0;34m.\u001b[0m\u001b[0mtext\u001b[0m\u001b[0;34m,\u001b[0m \u001b[0mbase_url\u001b[0m\u001b[0;34m=\u001b[0m\u001b[0mbase_url\u001b[0m\u001b[0;34m)\u001b[0m\u001b[0;34m\u001b[0m\u001b[0;34m\u001b[0m\u001b[0m\n\u001b[1;32m      5\u001b[0m \u001b[0;34m\u001b[0m\u001b[0m\n",
      "\u001b[0;31mNameError\u001b[0m: name 'hard_test_urls' is not defined"
     ]
    }
   ],
   "source": [
    "pp = pprint.PrettyPrinter(indent=2)\n",
    "r = requests.get(hard_test_urls[0])\n",
    "base_url = get_base_url(r.text, r.url)\n",
    "data = extruct.extract(r.text, base_url=base_url)\n",
    "\n",
    "pp.pprint(data)"
   ]
  },
  {
   "cell_type": "code",
   "execution_count": null,
   "id": "dbcb428d",
   "metadata": {},
   "outputs": [],
   "source": []
  }
 ],
 "metadata": {
  "kernelspec": {
   "display_name": "Python 3",
   "language": "python",
   "name": "python3"
  },
  "language_info": {
   "codemirror_mode": {
    "name": "ipython",
    "version": 3
   },
   "file_extension": ".py",
   "mimetype": "text/x-python",
   "name": "python",
   "nbconvert_exporter": "python",
   "pygments_lexer": "ipython3",
   "version": "3.8.8"
  }
 },
 "nbformat": 4,
 "nbformat_minor": 5
}
