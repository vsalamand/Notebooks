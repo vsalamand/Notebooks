{
 "cells": [
  {
   "cell_type": "code",
   "execution_count": 212,
   "metadata": {},
   "outputs": [],
   "source": [
    "from selenium import webdriver\n",
    "from webdriver_manager.chrome import ChromeDriverManager\n",
    "from selenium.webdriver.common.keys import Keys\n",
    "from selenium.webdriver.common.action_chains import ActionChains\n",
    "from selenium.common.exceptions import ElementNotVisibleException\n",
    "from selenium.common.exceptions import NoSuchElementException\n",
    "from selenium.common.exceptions import StaleElementReferenceException\n",
    "from selenium.webdriver.common.by import By\n",
    "from selenium.webdriver.support.ui import WebDriverWait\n",
    "from selenium.webdriver.support import expected_conditions as EC\n",
    "from bs4 import BeautifulSoup, CData\n",
    "import requests\n",
    "\n",
    "from time import sleep\n",
    "import pandas as pd \n",
    "import numpy as np\n",
    "import re\n",
    "import tldextract\n",
    "from urllib.parse import urlparse\n",
    "import html\n",
    "import scrape_schema_recipe"
   ]
  },
  {
   "cell_type": "code",
   "execution_count": 280,
   "metadata": {},
   "outputs": [],
   "source": [
    "urls = [\n",
    "'http://tangerinezest.com/blog',\n",
    "'http://clemfoodie.com/',\n",
    "'https://cahierdegourmandises.fr/blog/',\n",
    "'https://cuisine-addict.com/',\n",
    "'https://deliacious.com/',\n",
    "'http://emiliemurmure.com/',\n",
    "'http://fourneauxetfourchettes.fr/',\n",
    "'https://mahealthytendency.com/',\n",
    "'https://mesbrouillonsdecuisine.fr/',\n",
    "'https://www.cuisineculinaire.com/',\n",
    "'https://www.delizioso.fr/',\n",
    "'https://www.marciatack.fr/le-blog/',\n",
    "'https://www.undejeunerdesoleil.com/',\n",
    "'http://www.chezmisa.com/',\n",
    "'https://docteurbonnebouffe.com/categorie/cuisine-saine/recettes-saines/',\n",
    "'https://www.pazapah.fr/category/nos-recettes/',\n",
    "'https://thedailysaby.com/mes-recettes/',\n",
    "'https://recettesdejulie.fr/',\n",
    "'https://www.quinoaetbasmati.fr/',\n",
    "'https://lacerisesurlemaillot.fr/',\n",
    "'https://madamcadamia.com/',\n",
    "'https://www.gourmandiseries.fr/',\n",
    "'https://www.byacb4you.com/',\n",
    "'https://www.hervecuisine.com/#',\n",
    "'https://www.quatresaisonsaujardin.com/category/cuisine/',\n",
    "'https://www.panierdesaison.com/',\n",
    "'http://www.plusunemiettedanslassiette.fr/',\n",
    "'https://lalignegourmande.fr/category/recettes/',\n",
    "'https://www.lespepitesdenoisette.fr/',\n",
    "'http://healthy-yumyum.com/',\n",
    "'https://sandrabssi.com/',\n",
    "'http://freethepickle.fr/',\n",
    "'https://www.elle.fr/Elle-a-Table/Recettes-de-cuisine',\n",
    "'https://sandrabssi.com/']\n",
    "\n",
    "broken = [\n",
    "'https://www.papillesetpupilles.fr/',\n",
    "'https://fraise-basilic.com/',    \n",
    "]"
   ]
  },
  {
   "cell_type": "code",
   "execution_count": 238,
   "metadata": {},
   "outputs": [
    {
     "name": "stderr",
     "output_type": "stream",
     "text": [
      "[WDM] - Current google-chrome version is 83.0.4103\n",
      "[WDM] - Get LATEST driver version for 83.0.4103\n",
      "[WDM] - Driver [/Users/vincentsalamand/.wdm/drivers/chromedriver/mac64/83.0.4103.39/chromedriver] found in cache\n"
     ]
    },
    {
     "name": "stdout",
     "output_type": "stream",
     "text": [
      " \n"
     ]
    }
   ],
   "source": [
    "driver = webdriver.Chrome(ChromeDriverManager().install())\n"
   ]
  },
  {
   "cell_type": "code",
   "execution_count": 281,
   "metadata": {},
   "outputs": [
    {
     "name": "stdout",
     "output_type": "stream",
     "text": [
      "http://tangerinezest.com/blog\n",
      "http://clemfoodie.com/\n",
      "https://cahierdegourmandises.fr/blog/\n",
      "https://cuisine-addict.com/\n",
      "https://deliacious.com/\n",
      "http://emiliemurmure.com/\n",
      "http://fourneauxetfourchettes.fr/\n",
      "https://mahealthytendency.com/\n",
      "https://mesbrouillonsdecuisine.fr/\n",
      "https://www.cuisineculinaire.com/\n",
      "https://www.delizioso.fr/\n",
      "https://www.marciatack.fr/le-blog/\n",
      "https://www.undejeunerdesoleil.com/\n",
      "http://www.chezmisa.com/\n",
      "https://docteurbonnebouffe.com/categorie/cuisine-saine/recettes-saines/\n",
      "https://www.pazapah.fr/category/nos-recettes/\n",
      "https://thedailysaby.com/mes-recettes/\n",
      "https://recettesdejulie.fr/\n",
      "https://www.quinoaetbasmati.fr/\n",
      "https://lacerisesurlemaillot.fr/\n",
      "https://madamcadamia.com/\n",
      "https://www.gourmandiseries.fr/\n",
      "https://www.byacb4you.com/\n",
      "https://www.hervecuisine.com/#\n",
      "https://www.quatresaisonsaujardin.com/category/cuisine/\n",
      "https://www.panierdesaison.com/\n",
      "http://www.plusunemiettedanslassiette.fr/\n",
      "https://lalignegourmande.fr/category/recettes/\n",
      "https://www.lespepitesdenoisette.fr/\n",
      "http://healthy-yumyum.com/\n",
      "https://sandrabssi.com/\n",
      "http://freethepickle.fr/\n",
      "https://www.elle.fr/Elle-a-Table/Recettes-de-cuisine\n",
      "https://sandrabssi.com/\n"
     ]
    },
    {
     "data": {
      "text/plain": [
       "34"
      ]
     },
     "execution_count": 281,
     "metadata": {},
     "output_type": "execute_result"
    }
   ],
   "source": [
    "data = []\n",
    "\n",
    "def get_soup(url):\n",
    "    driver.get(url)\n",
    "    bs = BeautifulSoup(driver.page_source, 'lxml')\n",
    "    try:\n",
    "        soup = bs.find_all(\"article\")\n",
    "        if soup == []:\n",
    "            soup = bs.find_all(\"div\", class_=\"post\")\n",
    "            if soup == []:\n",
    "                soup = bs.find_all(\"div\", class_=\"post-box\")\n",
    "                if soup == []:\n",
    "                    soup = bs.find(\"div\", class_=\"last-recipes\").find_all(\"li\")\n",
    "                    if soup == []:\n",
    "                        soup = bs.find_all(\"h4\", class_=\"title\")\n",
    "                        if soup == []:\n",
    "                            soup = bs.find_all(\"li\", class_=\"blog-article\")\n",
    "    except:\n",
    "        pass\n",
    "    return soup\n",
    "    \n",
    "    \n",
    "def get_links(soup):\n",
    "    for article in soup:\n",
    "        try:\n",
    "            links.append(article.find('a')['href'])\n",
    "        except:\n",
    "            continue\n",
    "\n",
    "            \n",
    "for url in urls:\n",
    "    links = []\n",
    "    print(url)\n",
    "    ext = tldextract.extract(url)\n",
    "    soup = get_soup(url)\n",
    "    get_links(soup)\n",
    "    df = pd.DataFrame(columns=['website','link'])\n",
    "    df['link'] = links\n",
    "    df['website'] = ext.domain\n",
    "    data.append(df)\n",
    "    \n",
    "len(data)"
   ]
  },
  {
   "cell_type": "code",
   "execution_count": 282,
   "metadata": {},
   "outputs": [],
   "source": [
    "for df in data:\n",
    "    name = df.website[0]\n",
    "    path = '/Users/vincentsalamand/Documents/Clubmama/Recipes/' + name + '.csv'\n",
    "    df.to_csv (path, index = None, header=True)\n"
   ]
  },
  {
   "cell_type": "code",
   "execution_count": 283,
   "metadata": {},
   "outputs": [],
   "source": [
    "# Keep links history \n",
    "crawler_history = pd.concat(data, axis=0).reset_index()\n",
    "path = '/Users/vincentsalamand/Documents/Clubmama/Recipes/' + 'history' + '.csv'\n",
    "crawler_history.to_csv (path, index = None, header=True)"
   ]
  },
  {
   "cell_type": "code",
   "execution_count": null,
   "metadata": {},
   "outputs": [],
   "source": []
  }
 ],
 "metadata": {
  "kernelspec": {
   "display_name": "Python 3",
   "language": "python",
   "name": "python3"
  },
  "language_info": {
   "codemirror_mode": {
    "name": "ipython",
    "version": 3
   },
   "file_extension": ".py",
   "mimetype": "text/x-python",
   "name": "python",
   "nbconvert_exporter": "python",
   "pygments_lexer": "ipython3",
   "version": "3.7.7"
  }
 },
 "nbformat": 4,
 "nbformat_minor": 4
}
