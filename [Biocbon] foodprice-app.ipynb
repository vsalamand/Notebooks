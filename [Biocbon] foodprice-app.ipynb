{
 "cells": [
  {
   "cell_type": "code",
   "execution_count": 79,
   "metadata": {},
   "outputs": [],
   "source": [
    "from selenium import webdriver\n",
    "from selenium.webdriver.common.keys import Keys\n",
    "from selenium.webdriver.common.action_chains import ActionChains\n",
    "from selenium.common.exceptions import ElementNotVisibleException\n",
    "from selenium.common.exceptions import NoSuchElementException\n",
    "from selenium.common.exceptions import StaleElementReferenceException\n",
    "from selenium.webdriver.common.by import By\n",
    "from selenium.webdriver.support.ui import WebDriverWait\n",
    "from selenium.webdriver.support import expected_conditions as EC\n",
    "from bs4 import BeautifulSoup, CData\n",
    "import requests\n",
    "\n",
    "from time import sleep\n",
    "import pandas as pd \n",
    "import numpy as np\n",
    "import re\n"
   ]
  },
  {
   "cell_type": "code",
   "execution_count": 51,
   "metadata": {},
   "outputs": [],
   "source": [
    "driver = webdriver.Chrome(\"/Applications/chromedriver\")\n"
   ]
  },
  {
   "cell_type": "code",
   "execution_count": 188,
   "metadata": {},
   "outputs": [],
   "source": [
    "store_url = 'https://commande.bio-c-bon.fr/'\n",
    "# need to manually select Paris 15 to get the biggest store\n",
    "driver.get(store_url)\n",
    "\n"
   ]
  },
  {
   "cell_type": "code",
   "execution_count": 23,
   "metadata": {},
   "outputs": [
    {
     "data": {
      "text/plain": [
       "12"
      ]
     },
     "execution_count": 23,
     "metadata": {},
     "output_type": "execute_result"
    }
   ],
   "source": [
    "main_categories = []\n",
    "\n",
    "main_category_list = driver.find_elements_by_class_name('category-subcategory-box')\n",
    "\n",
    "for main_category in main_category_list:\n",
    "    name = main_category.find_element_by_class_name('category-subcategory-name-text').text\n",
    "    url = main_category.find_element_by_class_name('category-subcategory-name-text').get_attribute(\"href\")\n",
    "    main_categories.append({\"name\":name, \n",
    "                          \"url\": url\n",
    "                          })\n",
    "len(main_categories)\n",
    "\n",
    "selected_categories = main_categories[:-4]"
   ]
  },
  {
   "cell_type": "code",
   "execution_count": 27,
   "metadata": {},
   "outputs": [
    {
     "data": {
      "text/plain": [
       "51"
      ]
     },
     "execution_count": 27,
     "metadata": {},
     "output_type": "execute_result"
    }
   ],
   "source": [
    "categories = []\n",
    "\n",
    "for main_cat in selected_categories:\n",
    "    parent_shelter = main_cat['name']\n",
    "    driver.get(main_cat['url'])\n",
    "    sleep(1)\n",
    "\n",
    "    sub_category_list = driver.find_elements_by_class_name('category-subcategory-box')\n",
    "\n",
    "    for main_category in sub_category_list:\n",
    "        name = main_category.find_element_by_class_name('category-subcategory-name-text').text\n",
    "        url = main_category.find_element_by_class_name('category-subcategory-name-text').get_attribute(\"href\")\n",
    "        categories.append({\"parent_shelter\": parent_shelter, \n",
    "                           \"child_shelter\": name, \n",
    "                            \"url\": url\n",
    "                          })\n",
    "    \n",
    "\n",
    "\n",
    "len(categories)\n"
   ]
  },
  {
   "cell_type": "code",
   "execution_count": 189,
   "metadata": {},
   "outputs": [
    {
     "data": {
      "text/plain": [
       "51"
      ]
     },
     "execution_count": 189,
     "metadata": {},
     "output_type": "execute_result"
    }
   ],
   "source": [
    "headers = {'User-Agent': 'Mozilla/5.0 (X11; Linux x86_64) AppleWebKit/537.36 (KHTML, like Gecko) Chrome/78.0.3904.70 Safari/537.36'}\n",
    "product_pages = []\n",
    "\n",
    "for category in categories:\n",
    "    url = category['url']\n",
    "    driver.get(url)\n",
    "    sleep(1)\n",
    "\n",
    "    for i in range(3):\n",
    "        actions = ActionChains(driver)\n",
    "        try:\n",
    "            driver.find_element_by_class_name(\"button-more-products\").click()\n",
    "        except:\n",
    "            pass\n",
    "\n",
    "\n",
    "    soup = BeautifulSoup(driver.page_source, 'lxml')\n",
    "    try:\n",
    "        results = soup.select('.product-grid')[0]\n",
    "    except:\n",
    "        results = ''\n",
    "\n",
    "    product_pages.append({\"shelter_parent\": category['parent_shelter'],\n",
    "                          \"child_shelter\": category['child_shelter'],\n",
    "                          \"url\": url, \n",
    "                          \"soup\": results\n",
    "                          })\n",
    "\n",
    "\n",
    "        \n",
    "len(product_pages)  \n",
    "\n",
    "\n"
   ]
  },
  {
   "cell_type": "code",
   "execution_count": 194,
   "metadata": {},
   "outputs": [
    {
     "name": "stdout",
     "output_type": "stream",
     "text": [
      "Chou-fleur bio (à la pièce)\n",
      "Persil plat bio, botte (à la pièce)\n",
      "Salade Laitue bio (à la pièce)\n",
      "Avocat bio (à la pièce)\n",
      "Concombre bio (à la pièce)\n",
      "Salade Batavia verte bio (à la pièce)\n",
      "Chou blanc bio (à la pièce)\n",
      "Panier de Fruits et Légumes bio - Spécial Bébé (à la pièce)\n",
      "Panier de Fruits bio (à la pièce)\n",
      "Panier de Légumes bio (à la pièce)\n",
      "Mangue bio (à la pièce)\n",
      "Noix de Coco bio (à la pièce)\n",
      "4 gros œufs frais bio (à la pièce)\n",
      "Boite 6 oeufs gros (à la pièce)\n",
      "Boite 15 oeufs (à la pièce)\n",
      "Boite 10 oeufs moyen 53/63 (à la pièce)\n",
      "Hareng fumé doux MSC 200g (à la pièce)\n",
      "899\n",
      "0\n"
     ]
    }
   ],
   "source": [
    "products = []\n",
    "bad_products = []\n",
    "\n",
    "for page in product_pages:\n",
    "    shelter_parent = page['shelter_parent']\n",
    "    shelter_child = page['child_shelter'] \n",
    "    \n",
    "    if page['soup']:\n",
    "    \n",
    "        for product in page['soup'].find_all(\"li\", class_=\"product-grid-item\"):\n",
    "            product_name = product.find(\"span\", class_=\"desc\").text\n",
    "            product_link = product.find(\"a\", class_=\"product-link\")['href']\n",
    "            product_image = product.find('img', class_=\"product-img\")['src']\n",
    "            store_name = \"Bio c' Bon\"\n",
    "            regex = re.findall(r\"[^/]+$\", product_image)[0]\n",
    "            product_ean = re.search(r\"(\\d+)\", regex).group(1)\n",
    "            product_price = product.find(\"div\", class_=\"price-box\").find(\"span\", class_=\"price\").text.replace('\\xa0', '').replace(',', '.')\n",
    "            try:\n",
    "                product_price_per_unit = product.find(\"span\", class_=\"piece\").text.replace('\\xa0', ' ').replace(',', '.')\n",
    "            except:\n",
    "                product_price_per_unit = product_price + '/ pièce'\n",
    "                print(product_name)\n",
    "            brand = ''\n",
    "\n",
    "\n",
    "            products.append({\"shelter_parent\": shelter_parent,\n",
    "                             \"shelter_child\": shelter_child,\n",
    "                             \"brand\": brand,  \n",
    "                             \"description1\": product_name,                             \n",
    "                             \"description\": product_name,\n",
    "                             \"price\": product_price[:-1],\n",
    "                             \"price_per_unit\": product_price_per_unit,\n",
    "                             #\"quantity\": quantity,\n",
    "                             #\"promo_price\": promo_price,\n",
    "                             \"store\": store_name,\n",
    "                             \"image_url\": product_image,                    \n",
    "                             \"url\": product_link,\n",
    "                             \"ean\": product_ean\n",
    "                            })\n",
    "print(len(products))\n",
    "print(len(bad_products))"
   ]
  },
  {
   "cell_type": "code",
   "execution_count": 200,
   "metadata": {},
   "outputs": [
    {
     "name": "stdout",
     "output_type": "stream",
     "text": [
      "19\n",
      "0\n"
     ]
    }
   ],
   "source": [
    "product_data = pd.DataFrame(products)\n",
    "\n",
    "# drop product without ean\n",
    "print(len(product_data[product_data['ean'] == '41']))\n",
    "product_data['ean'].replace('41', np.nan, inplace=True)\n",
    "product_data = product_data.dropna(subset=['ean'])\n",
    "print(len(product_data[product_data['ean'] == '41']))"
   ]
  },
  {
   "cell_type": "code",
   "execution_count": 201,
   "metadata": {},
   "outputs": [
    {
     "name": "stdout",
     "output_type": "stream",
     "text": [
      "Duplicate Rows except first occurrence based on all columns are :\n",
      "Empty DataFrame\n",
      "Columns: [shelter_parent, shelter_child, brand, description1, description, price, price_per_unit, store, image_url, url, ean]\n",
      "Index: []\n"
     ]
    }
   ],
   "source": [
    "# Select duplicate rows except first occurrence based on all columns\n",
    "duplicateRowsDF = product_data[product_data.duplicated()]\n",
    " \n",
    "print(\"Duplicate Rows except first occurrence based on all columns are :\")\n",
    "print(duplicateRowsDF)"
   ]
  },
  {
   "cell_type": "code",
   "execution_count": 202,
   "metadata": {},
   "outputs": [],
   "source": [
    "product_data = product_data.drop_duplicates()\n",
    "\n",
    "export_csv = product_data.to_csv (r'/Users/vincentsalamand/Downloads/products_biocbon.csv', index = None, header=True)\n"
   ]
  },
  {
   "cell_type": "code",
   "execution_count": null,
   "metadata": {},
   "outputs": [],
   "source": []
  }
 ],
 "metadata": {
  "kernelspec": {
   "display_name": "Python 3",
   "language": "python",
   "name": "python3"
  },
  "language_info": {
   "codemirror_mode": {
    "name": "ipython",
    "version": 3
   },
   "file_extension": ".py",
   "mimetype": "text/x-python",
   "name": "python",
   "nbconvert_exporter": "python",
   "pygments_lexer": "ipython3",
   "version": "3.7.5"
  }
 },
 "nbformat": 4,
 "nbformat_minor": 2
}
